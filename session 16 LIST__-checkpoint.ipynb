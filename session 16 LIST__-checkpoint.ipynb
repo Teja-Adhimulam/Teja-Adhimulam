{
 "cells": [
  {
   "cell_type": "markdown",
   "id": "77eb4e46-a8f6-469a-90a2-dc880e5973d2",
   "metadata": {},
   "source": [
    "- basic representations\n",
    "- inbuilt functions\n",
    "- type\n",
    "- print\n",
    "- min\n",
    "- max\n",
    "- len\n",
    "- sum\n",
    "- reveresd\n",
    "- sorted\n",
    "- concatenation\n",
    "- index\n",
    "- in\n",
    "- difference between range and in\n",
    "- mutable vs immutable\n",
    "- slice\n",
    "- Methods"
   ]
  },
  {
   "cell_type": "markdown",
   "id": "99b0610f-4f82-4388-b3e4-9c4cfc6a6437",
   "metadata": {},
   "source": [
    "**Basic representation**\n",
    "\n",
    "  - strings elements is in quotes\n",
    "  - List elements is in square brackets"
   ]
  },
  {
   "cell_type": "code",
   "execution_count": 1,
   "id": "4934c47b-1663-4600-9f39-423746c0070a",
   "metadata": {},
   "outputs": [
    {
     "data": {
      "text/plain": [
       "[1, 2, 3, 4]"
      ]
     },
     "execution_count": 1,
     "metadata": {},
     "output_type": "execute_result"
    }
   ],
   "source": [
    "list1=[1,2,3,4]\n",
    "list1"
   ]
  },
  {
   "cell_type": "code",
   "execution_count": 56,
   "id": "5a983a8d-d912-4ee3-a4fb-4389bb8ef65d",
   "metadata": {},
   "outputs": [
    {
     "data": {
      "text/plain": [
       "list"
      ]
     },
     "execution_count": 56,
     "metadata": {},
     "output_type": "execute_result"
    }
   ],
   "source": [
    "type(list1)"
   ]
  },
  {
   "cell_type": "code",
   "execution_count": 3,
   "id": "e5c21f8f-b103-42b4-8f36-8ea3e4069791",
   "metadata": {},
   "outputs": [
    {
     "data": {
      "text/plain": [
       "['A', 'B', 'C']"
      ]
     },
     "execution_count": 3,
     "metadata": {},
     "output_type": "execute_result"
    }
   ],
   "source": [
    "list2=['A','B','C']\n",
    "list2"
   ]
  },
  {
   "cell_type": "code",
   "execution_count": 5,
   "id": "4d129c6d-f74b-4934-91fc-02cf184a60d4",
   "metadata": {},
   "outputs": [
    {
     "data": {
      "text/plain": [
       "[1, 2, 3, 'A', 'B', 'C']"
      ]
     },
     "execution_count": 5,
     "metadata": {},
     "output_type": "execute_result"
    }
   ],
   "source": [
    "list3=[1,2,3,'A','B','C']\n",
    "list3"
   ]
  },
  {
   "cell_type": "code",
   "execution_count": 7,
   "id": "f147120e-7eea-4536-bd46-5171bff3f67d",
   "metadata": {},
   "outputs": [
    {
     "ename": "NameError",
     "evalue": "name 'list4' is not defined",
     "output_type": "error",
     "traceback": [
      "\u001b[1;31m---------------------------------------------------------------------------\u001b[0m",
      "\u001b[1;31mNameError\u001b[0m                                 Traceback (most recent call last)",
      "Cell \u001b[1;32mIn[7], line 4\u001b[0m\n\u001b[0;32m      2\u001b[0m list2\u001b[38;5;241m=\u001b[39m[\u001b[38;5;124m'\u001b[39m\u001b[38;5;124mA\u001b[39m\u001b[38;5;124m'\u001b[39m,\u001b[38;5;124m'\u001b[39m\u001b[38;5;124mB\u001b[39m\u001b[38;5;124m'\u001b[39m,\u001b[38;5;124m'\u001b[39m\u001b[38;5;124mC\u001b[39m\u001b[38;5;124m'\u001b[39m]\n\u001b[0;32m      3\u001b[0m list3\u001b[38;5;241m=\u001b[39m[\u001b[38;5;241m1\u001b[39m,\u001b[38;5;241m2\u001b[39m,\u001b[38;5;241m3\u001b[39m,\u001b[38;5;124m'\u001b[39m\u001b[38;5;124mA\u001b[39m\u001b[38;5;124m'\u001b[39m,\u001b[38;5;124m'\u001b[39m\u001b[38;5;124mB\u001b[39m\u001b[38;5;124m'\u001b[39m,\u001b[38;5;124m'\u001b[39m\u001b[38;5;124mC\u001b[39m\u001b[38;5;124m'\u001b[39m]\n\u001b[1;32m----> 4\u001b[0m list4\n",
      "\u001b[1;31mNameError\u001b[0m: name 'list4' is not defined"
     ]
    }
   ],
   "source": [
    "list1=[1,2,3,4]\n",
    "list2=['A','B','C']\n",
    "list3=[1,2,3,'A','B','C']\n",
    "list4"
   ]
  },
  {
   "cell_type": "code",
   "execution_count": 9,
   "id": "4e6148c5-55fb-465a-8e71-e515213a2756",
   "metadata": {},
   "outputs": [
    {
     "data": {
      "text/plain": [
       "[True, False]"
      ]
     },
     "execution_count": 9,
     "metadata": {},
     "output_type": "execute_result"
    }
   ],
   "source": [
    "list5=[True,False]\n",
    "list5"
   ]
  },
  {
   "cell_type": "code",
   "execution_count": 11,
   "id": "f7630165-7b38-44f6-a786-b521adfb55de",
   "metadata": {},
   "outputs": [
    {
     "data": {
      "text/plain": [
       "[20j, 40]"
      ]
     },
     "execution_count": 11,
     "metadata": {},
     "output_type": "execute_result"
    }
   ],
   "source": [
    "list6=[20j,10+30]\n",
    "list6"
   ]
  },
  {
   "cell_type": "code",
   "execution_count": 13,
   "id": "14a8dfd7-9073-4a50-86ad-b2482bdf8796",
   "metadata": {},
   "outputs": [
    {
     "data": {
      "text/plain": [
       "[10, 20, 30]"
      ]
     },
     "execution_count": 13,
     "metadata": {},
     "output_type": "execute_result"
    }
   ],
   "source": [
    "list7=[10,20,30]\n",
    "list7"
   ]
  },
  {
   "cell_type": "code",
   "execution_count": 15,
   "id": "bfe3b2f0-9372-443d-8977-983971ff322c",
   "metadata": {},
   "outputs": [
    {
     "data": {
      "text/plain": [
       "[10, 20, 30, ['Apple,Tejakumar,banana']]"
      ]
     },
     "execution_count": 15,
     "metadata": {},
     "output_type": "execute_result"
    }
   ],
   "source": [
    "list8=[10,20,30,['Apple,Tejakumar,banana']]\n",
    "list8"
   ]
  },
  {
   "cell_type": "code",
   "execution_count": 17,
   "id": "3213bad3-a008-4800-b2b5-11fc0c580e07",
   "metadata": {},
   "outputs": [
    {
     "data": {
      "text/plain": [
       "['{\"dataframes\": [], \"user\": \"adimu\"}']"
      ]
     },
     "execution_count": 17,
     "metadata": {},
     "output_type": "execute_result"
    }
   ],
   "source": [
    "list9=[_]\n",
    "list9"
   ]
  },
  {
   "cell_type": "code",
   "execution_count": 19,
   "id": "8a300047-7d03-414d-9524-382db7873d9f",
   "metadata": {},
   "outputs": [
    {
     "data": {
      "text/plain": [
       "4"
      ]
     },
     "execution_count": 19,
     "metadata": {},
     "output_type": "execute_result"
    }
   ],
   "source": [
    "list1=[10,20,30,55]\n",
    "list2=['apple','banana','cherrry','Apple']\n",
    "list3=[10,20,2,5,75,'Apple','apple','cherry','banana']\n",
    "len(list1)"
   ]
  },
  {
   "cell_type": "code",
   "execution_count": 21,
   "id": "1d0755f3-c841-463a-bea1-3d4896f74690",
   "metadata": {},
   "outputs": [
    {
     "data": {
      "text/plain": [
       "4"
      ]
     },
     "execution_count": 21,
     "metadata": {},
     "output_type": "execute_result"
    }
   ],
   "source": [
    "len(list2)"
   ]
  },
  {
   "cell_type": "code",
   "execution_count": 23,
   "id": "e8269934-46b4-4e10-9d92-a5f1521ba539",
   "metadata": {},
   "outputs": [
    {
     "data": {
      "text/plain": [
       "9"
      ]
     },
     "execution_count": 23,
     "metadata": {},
     "output_type": "execute_result"
    }
   ],
   "source": [
    "len(list3)"
   ]
  },
  {
   "cell_type": "code",
   "execution_count": 25,
   "id": "bbf6f7bf-cb55-48ec-a2cf-dc48d9506916",
   "metadata": {},
   "outputs": [
    {
     "data": {
      "text/plain": [
       "10"
      ]
     },
     "execution_count": 25,
     "metadata": {},
     "output_type": "execute_result"
    }
   ],
   "source": [
    "min(list1)"
   ]
  },
  {
   "cell_type": "code",
   "execution_count": 27,
   "id": "3f87ff1b-5b04-4c3a-9240-6b82400124c8",
   "metadata": {},
   "outputs": [
    {
     "data": {
      "text/plain": [
       "'Apple'"
      ]
     },
     "execution_count": 27,
     "metadata": {},
     "output_type": "execute_result"
    }
   ],
   "source": [
    "min(list2)"
   ]
  },
  {
   "cell_type": "code",
   "execution_count": 29,
   "id": "d1fd2754-b26c-4148-af5e-5c6806b89cc9",
   "metadata": {},
   "outputs": [
    {
     "data": {
      "text/plain": [
       "55"
      ]
     },
     "execution_count": 29,
     "metadata": {},
     "output_type": "execute_result"
    }
   ],
   "source": [
    "max(list1)"
   ]
  },
  {
   "cell_type": "code",
   "execution_count": 31,
   "id": "41482824-cee0-49af-be40-de7169077632",
   "metadata": {},
   "outputs": [
    {
     "data": {
      "text/plain": [
       "'cherrry'"
      ]
     },
     "execution_count": 31,
     "metadata": {},
     "output_type": "execute_result"
    }
   ],
   "source": [
    "max(list2)"
   ]
  },
  {
   "cell_type": "code",
   "execution_count": 33,
   "id": "071c0290-f81a-45bb-8262-43cf3db13c02",
   "metadata": {},
   "outputs": [
    {
     "data": {
      "text/plain": [
       "115"
      ]
     },
     "execution_count": 33,
     "metadata": {},
     "output_type": "execute_result"
    }
   ],
   "source": [
    "sum(list1)"
   ]
  },
  {
   "cell_type": "code",
   "execution_count": 35,
   "id": "bd340838-86be-4b3f-a742-d3929ca589b7",
   "metadata": {},
   "outputs": [
    {
     "ename": "TypeError",
     "evalue": "unsupported operand type(s) for +: 'int' and 'str'",
     "output_type": "error",
     "traceback": [
      "\u001b[1;31m---------------------------------------------------------------------------\u001b[0m",
      "\u001b[1;31mTypeError\u001b[0m                                 Traceback (most recent call last)",
      "Cell \u001b[1;32mIn[35], line 1\u001b[0m\n\u001b[1;32m----> 1\u001b[0m \u001b[38;5;28msum\u001b[39m(list2)\n",
      "\u001b[1;31mTypeError\u001b[0m: unsupported operand type(s) for +: 'int' and 'str'"
     ]
    }
   ],
   "source": [
    "sum(list2)"
   ]
  },
  {
   "cell_type": "markdown",
   "id": "b84d4598-2086-441c-8ef9-0edc45980589",
   "metadata": {},
   "source": [
    "**unsupported operand type(s) for +: 'int' and 'str'**"
   ]
  },
  {
   "cell_type": "code",
   "execution_count": 37,
   "id": "413f7b1a-50ce-47e1-9ba9-fbc2175326f3",
   "metadata": {},
   "outputs": [
    {
     "ename": "TypeError",
     "evalue": "unsupported operand type(s) for +: 'int' and 'str'",
     "output_type": "error",
     "traceback": [
      "\u001b[1;31m---------------------------------------------------------------------------\u001b[0m",
      "\u001b[1;31mTypeError\u001b[0m                                 Traceback (most recent call last)",
      "Cell \u001b[1;32mIn[37], line 1\u001b[0m\n\u001b[1;32m----> 1\u001b[0m \u001b[38;5;28msum\u001b[39m(list3)\n",
      "\u001b[1;31mTypeError\u001b[0m: unsupported operand type(s) for +: 'int' and 'str'"
     ]
    }
   ],
   "source": [
    "sum(list3)"
   ]
  },
  {
   "cell_type": "markdown",
   "id": "9dce024b-3887-43ea-83c6-023a815db6e2",
   "metadata": {},
   "source": [
    " **unsupported operand type(s) for +: 'int' and 'str'**"
   ]
  },
  {
   "cell_type": "code",
   "execution_count": 39,
   "id": "8e626e27-479c-4216-ba5f-83ca1f9b8707",
   "metadata": {},
   "outputs": [
    {
     "data": {
      "text/plain": [
       "[10, 20, 30, 55]"
      ]
     },
     "execution_count": 39,
     "metadata": {},
     "output_type": "execute_result"
    }
   ],
   "source": [
    "sorted(list1)"
   ]
  },
  {
   "cell_type": "code",
   "execution_count": 41,
   "id": "57418d15-ff4b-4814-8965-0b9edef17895",
   "metadata": {},
   "outputs": [
    {
     "data": {
      "text/plain": [
       "['Apple', 'apple', 'banana', 'cherrry']"
      ]
     },
     "execution_count": 41,
     "metadata": {},
     "output_type": "execute_result"
    }
   ],
   "source": [
    "sorted(list2)"
   ]
  },
  {
   "cell_type": "code",
   "execution_count": 43,
   "id": "297ea967-393b-4078-9f16-a72125357271",
   "metadata": {},
   "outputs": [
    {
     "ename": "TypeError",
     "evalue": "'<' not supported between instances of 'str' and 'int'",
     "output_type": "error",
     "traceback": [
      "\u001b[1;31m---------------------------------------------------------------------------\u001b[0m",
      "\u001b[1;31mTypeError\u001b[0m                                 Traceback (most recent call last)",
      "Cell \u001b[1;32mIn[43], line 1\u001b[0m\n\u001b[1;32m----> 1\u001b[0m \u001b[38;5;28msorted\u001b[39m(list3)\n",
      "\u001b[1;31mTypeError\u001b[0m: '<' not supported between instances of 'str' and 'int'"
     ]
    }
   ],
   "source": [
    "sorted(list3)"
   ]
  },
  {
   "cell_type": "markdown",
   "id": "45e4c8ff-1e44-4801-bf85-113b5ca99480",
   "metadata": {},
   "source": [
    "**'<' not supported between instances of 'str' and 'int'**"
   ]
  },
  {
   "cell_type": "code",
   "execution_count": 45,
   "id": "5728a47f-2679-45e1-be6d-9faa98be863f",
   "metadata": {},
   "outputs": [
    {
     "data": {
      "text/plain": [
       "<list_reverseiterator at 0x207aff59030>"
      ]
     },
     "execution_count": 45,
     "metadata": {},
     "output_type": "execute_result"
    }
   ],
   "source": [
    "reversed(list1)"
   ]
  },
  {
   "cell_type": "code",
   "execution_count": 47,
   "id": "1d6bbc39-45bf-4fdd-8d84-6a927666aa7f",
   "metadata": {},
   "outputs": [
    {
     "data": {
      "text/plain": [
       "<list_reverseiterator at 0x207aff5b070>"
      ]
     },
     "execution_count": 47,
     "metadata": {},
     "output_type": "execute_result"
    }
   ],
   "source": [
    "reversed(list2)"
   ]
  },
  {
   "cell_type": "code",
   "execution_count": 49,
   "id": "26354e40-07a9-4938-972e-f3dcce88944f",
   "metadata": {},
   "outputs": [
    {
     "data": {
      "text/plain": [
       "<list_reverseiterator at 0x207aecff4c0>"
      ]
     },
     "execution_count": 49,
     "metadata": {},
     "output_type": "execute_result"
    }
   ],
   "source": [
    "reversed(list3)"
   ]
  },
  {
   "cell_type": "markdown",
   "id": "c4417fd7-547a-42e6-bea8-d1f475b401ed",
   "metadata": {},
   "source": [
    "***concatenation***"
   ]
  },
  {
   "cell_type": "code",
   "execution_count": 27,
   "id": "fb1fe387-537f-480d-8749-081c4b228da5",
   "metadata": {},
   "outputs": [
    {
     "data": {
      "text/plain": [
       "[1, 2, 3, 4, 'A', 'B', 'C', 'D']"
      ]
     },
     "execution_count": 27,
     "metadata": {},
     "output_type": "execute_result"
    }
   ],
   "source": [
    "list1=[1,2,3,4]\n",
    "list2=['A','B','C','D']\n",
    "list1+list2"
   ]
  },
  {
   "cell_type": "code",
   "execution_count": 29,
   "id": "8d101320-d38e-4cf3-aa62-1c1aaebce76c",
   "metadata": {},
   "outputs": [
    {
     "ename": "TypeError",
     "evalue": "can't multiply sequence by non-int of type 'list'",
     "output_type": "error",
     "traceback": [
      "\u001b[1;31m---------------------------------------------------------------------------\u001b[0m",
      "\u001b[1;31mTypeError\u001b[0m                                 Traceback (most recent call last)",
      "Cell \u001b[1;32mIn[29], line 1\u001b[0m\n\u001b[1;32m----> 1\u001b[0m list1\u001b[38;5;241m*\u001b[39mlist1\n",
      "\u001b[1;31mTypeError\u001b[0m: can't multiply sequence by non-int of type 'list'"
     ]
    }
   ],
   "source": [
    "list1*list1"
   ]
  },
  {
   "cell_type": "code",
   "execution_count": 31,
   "id": "9d797bd3-1122-479c-9dff-a56eeafb6ed2",
   "metadata": {},
   "outputs": [
    {
     "ename": "TypeError",
     "evalue": "unsupported operand type(s) for -: 'list' and 'list'",
     "output_type": "error",
     "traceback": [
      "\u001b[1;31m---------------------------------------------------------------------------\u001b[0m",
      "\u001b[1;31mTypeError\u001b[0m                                 Traceback (most recent call last)",
      "Cell \u001b[1;32mIn[31], line 1\u001b[0m\n\u001b[1;32m----> 1\u001b[0m list1\u001b[38;5;241m-\u001b[39mlist1\n",
      "\u001b[1;31mTypeError\u001b[0m: unsupported operand type(s) for -: 'list' and 'list'"
     ]
    }
   ],
   "source": [
    "list1-list1"
   ]
  },
  {
   "cell_type": "code",
   "execution_count": 51,
   "id": "db3ab2c6-ec34-4098-8008-62d10d1306e7",
   "metadata": {},
   "outputs": [
    {
     "ename": "TypeError",
     "evalue": "unsupported operand type(s) for /: 'list' and 'list'",
     "output_type": "error",
     "traceback": [
      "\u001b[1;31m---------------------------------------------------------------------------\u001b[0m",
      "\u001b[1;31mTypeError\u001b[0m                                 Traceback (most recent call last)",
      "Cell \u001b[1;32mIn[51], line 1\u001b[0m\n\u001b[1;32m----> 1\u001b[0m list1\u001b[38;5;241m/\u001b[39mlist1\n",
      "\u001b[1;31mTypeError\u001b[0m: unsupported operand type(s) for /: 'list' and 'list'"
     ]
    }
   ],
   "source": [
    "list1/list1"
   ]
  },
  {
   "cell_type": "code",
   "execution_count": 58,
   "id": "7d3b4c28-3575-4879-9fdc-5cd1439466e5",
   "metadata": {},
   "outputs": [
    {
     "data": {
      "text/plain": [
       "[10, 20, 30, 55, 10, 20, 30, 55]"
      ]
     },
     "execution_count": 58,
     "metadata": {},
     "output_type": "execute_result"
    }
   ],
   "source": [
    "list1*2"
   ]
  },
  {
   "cell_type": "code",
   "execution_count": 60,
   "id": "a2075f77-a431-4552-9838-61a83fa291d2",
   "metadata": {},
   "outputs": [
    {
     "data": {
      "text/plain": [
       "[10, 20, 30, 55, 10, 20, 30, 55]"
      ]
     },
     "execution_count": 60,
     "metadata": {},
     "output_type": "execute_result"
    }
   ],
   "source": [
    "list1*2"
   ]
  },
  {
   "cell_type": "code",
   "execution_count": 62,
   "id": "cfb0e036-837c-4ec2-ae26-1ae9b8312da4",
   "metadata": {},
   "outputs": [
    {
     "data": {
      "text/plain": [
       "['apple', 'banana', 'cherrry', 'Apple', 'apple', 'banana', 'cherrry', 'Apple']"
      ]
     },
     "execution_count": 62,
     "metadata": {},
     "output_type": "execute_result"
    }
   ],
   "source": [
    "list2*2"
   ]
  },
  {
   "cell_type": "markdown",
   "id": "f214717b-cfd6-4ae5-93ca-d044309f3f4f",
   "metadata": {},
   "source": [
    "**INDEX**"
   ]
  },
  {
   "cell_type": "code",
   "execution_count": 25,
   "id": "6b7180a3-5433-4dfe-8e44-64d9abd89acd",
   "metadata": {},
   "outputs": [
    {
     "data": {
      "text/plain": [
       "(10, 10)"
      ]
     },
     "execution_count": 25,
     "metadata": {},
     "output_type": "execute_result"
    }
   ],
   "source": [
    "# -6  -5  -4  -3  -2  -1\n",
    "# 10  20  30  'A' 'B' 'C'\n",
    "# 0   1   2    3   4   5\n",
    "list1=[10,20,30,'A','B','C']\n",
    "list1[0],list1[-6]"
   ]
  },
  {
   "cell_type": "code",
   "execution_count": 23,
   "id": "b990b9cb-d1cb-4665-8646-fd6bd409f178",
   "metadata": {},
   "outputs": [
    {
     "name": "stdout",
     "output_type": "stream",
     "text": [
      "the positive index of [10, 20, 30, 'A', 'B', 'C'][i]is -6\n",
      "the positive index of [10, 20, 30, 'A', 'B', 'C'][i]is -5\n",
      "the positive index of [10, 20, 30, 'A', 'B', 'C'][i]is -4\n",
      "the positive index of [10, 20, 30, 'A', 'B', 'C'][i]is -3\n",
      "the positive index of [10, 20, 30, 'A', 'B', 'C'][i]is -2\n",
      "the positive index of [10, 20, 30, 'A', 'B', 'C'][i]is -1\n"
     ]
    }
   ],
   "source": [
    "list1=[10,20,30,'A','B','C']\n",
    "for i in range(0,len(list1)):\n",
    "    print(f'the positive index of {list1}[i]is {i-6}')"
   ]
  },
  {
   "cell_type": "code",
   "execution_count": 21,
   "id": "01ecb025-3970-4165-afb4-0126fee046bb",
   "metadata": {},
   "outputs": [
    {
     "data": {
      "text/plain": [
       "20"
      ]
     },
     "execution_count": 21,
     "metadata": {},
     "output_type": "execute_result"
    }
   ],
   "source": [
    "list1=[10,20]\n",
    "list1[1]"
   ]
  },
  {
   "cell_type": "code",
   "execution_count": 19,
   "id": "cd641ea3-d5a9-4f0a-84fa-6a463629791e",
   "metadata": {},
   "outputs": [
    {
     "data": {
      "text/plain": [
       "10"
      ]
     },
     "execution_count": 19,
     "metadata": {},
     "output_type": "execute_result"
    }
   ],
   "source": [
    "list1=[[10]]\n",
    "list1[0] [0]"
   ]
  },
  {
   "cell_type": "code",
   "execution_count": 17,
   "id": "106ac7f2-e05a-41e5-a5bf-692e72234011",
   "metadata": {},
   "outputs": [
    {
     "data": {
      "text/plain": [
       "2"
      ]
     },
     "execution_count": 17,
     "metadata": {},
     "output_type": "execute_result"
    }
   ],
   "source": [
    "list1=[10],[20]\n",
    "len(list1)"
   ]
  },
  {
   "cell_type": "code",
   "execution_count": 15,
   "id": "7651664a-ca3b-41fd-8015-e2c25dc5c484",
   "metadata": {},
   "outputs": [
    {
     "data": {
      "text/plain": [
       "20"
      ]
     },
     "execution_count": 15,
     "metadata": {},
     "output_type": "execute_result"
    }
   ],
   "source": [
    "list1=[10],[20]\n",
    "list1[1] [0]"
   ]
  },
  {
   "cell_type": "code",
   "execution_count": 13,
   "id": "9d995193-d8e1-49fe-88df-1363d4487531",
   "metadata": {},
   "outputs": [
    {
     "data": {
      "text/plain": [
       "'Cherry'"
      ]
     },
     "execution_count": 13,
     "metadata": {},
     "output_type": "execute_result"
    }
   ],
   "source": [
    "list1=[10,10,30,'A',['Banana','Cherry']]\n",
    "list1[4][1]"
   ]
  },
  {
   "cell_type": "code",
   "execution_count": 11,
   "id": "ce6617f0-13e6-450f-8062-6f8bbba36303",
   "metadata": {},
   "outputs": [
    {
     "data": {
      "text/plain": [
       "['A', ['Apple', 'B', ['Banana'], 'C', ['cherry']]]"
      ]
     },
     "execution_count": 11,
     "metadata": {},
     "output_type": "execute_result"
    }
   ],
   "source": [
    "list1=['A',['Apple','B',['Banana'],'C',['cherry']]]\n",
    "list1"
   ]
  },
  {
   "cell_type": "code",
   "execution_count": 9,
   "id": "9aa90366-626b-47f9-92fa-d3dd29873610",
   "metadata": {},
   "outputs": [
    {
     "ename": "IndexError",
     "evalue": "list index out of range",
     "output_type": "error",
     "traceback": [
      "\u001b[1;31m---------------------------------------------------------------------------\u001b[0m",
      "\u001b[1;31mIndexError\u001b[0m                                Traceback (most recent call last)",
      "Cell \u001b[1;32mIn[9], line 1\u001b[0m\n\u001b[1;32m----> 1\u001b[0m list1[\u001b[38;5;241m1\u001b[39m][\u001b[38;5;241m4\u001b[39m][\u001b[38;5;241m0\u001b[39m]\n",
      "\u001b[1;31mIndexError\u001b[0m: list index out of range"
     ]
    }
   ],
   "source": [
    "list1[1][4][0]"
   ]
  },
  {
   "cell_type": "code",
   "execution_count": 7,
   "id": "88ecdfce-36a7-4286-95e1-d8081f15fc86",
   "metadata": {},
   "outputs": [
    {
     "data": {
      "text/plain": [
       "'Dragon fruit'"
      ]
     },
     "execution_count": 7,
     "metadata": {},
     "output_type": "execute_result"
    }
   ],
   "source": [
    "list1=['A',['Apple','B',['Banana','C',['cherry','D',['Dragon fruit']]]]]\n",
    "list1[1][2][2][2][0]"
   ]
  },
  {
   "cell_type": "code",
   "execution_count": 5,
   "id": "0a006969-7a08-4ac9-a2d1-a7944c6766cd",
   "metadata": {},
   "outputs": [
    {
     "data": {
      "text/plain": [
       "'Bat'"
      ]
     },
     "execution_count": 5,
     "metadata": {},
     "output_type": "execute_result"
    }
   ],
   "source": [
    "list1=['Apple',['Kashmir',['india',['Cricket',['Bat']]]]]\n",
    "list1[1][1][1][1][0]"
   ]
  },
  {
   "cell_type": "code",
   "execution_count": 3,
   "id": "f9a8a9b5-0dce-4874-aacc-4b62bf4c0fb2",
   "metadata": {},
   "outputs": [
    {
     "ename": "SyntaxError",
     "evalue": "unmatched ']' (2320276374.py, line 1)",
     "output_type": "error",
     "traceback": [
      "\u001b[1;36m  Cell \u001b[1;32mIn[3], line 1\u001b[1;36m\u001b[0m\n\u001b[1;33m    list1=['Orange',['Nagpur',['Shivaji',['Viky']]]]]]\u001b[0m\n\u001b[1;37m                                                    ^\u001b[0m\n\u001b[1;31mSyntaxError\u001b[0m\u001b[1;31m:\u001b[0m unmatched ']'\n"
     ]
    }
   ],
   "source": [
    "list1=['Orange',['Nagpur',['Shivaji',['Viky']]]]]]\n",
    "list1[1][1][1][1][1][1][0]"
   ]
  },
  {
   "cell_type": "code",
   "execution_count": 1,
   "id": "4a783c99-d63a-4dae-a2d3-3e1d5d0e5f6b",
   "metadata": {},
   "outputs": [
    {
     "data": {
      "text/plain": [
       "'Apple'"
      ]
     },
     "execution_count": 1,
     "metadata": {},
     "output_type": "execute_result"
    }
   ],
   "source": [
    "list1=[[[[[[[[['Apple']]]]]]]]]\n",
    "list1[0][0][0][0][0][0][0][0][0]"
   ]
  },
  {
   "cell_type": "code",
   "execution_count": 33,
   "id": "3cb31acd-0ed4-4614-b6ae-4b2243c38d8a",
   "metadata": {},
   "outputs": [
    {
     "data": {
      "text/plain": [
       "[10, 20, 2, 5, 75]"
      ]
     },
     "execution_count": 33,
     "metadata": {},
     "output_type": "execute_result"
    }
   ],
   "source": [
    "#list1=[10,20,2,5,75]\n",
    "\n",
    "list1=[10,20,2,5,75]\n",
    "list1[:]"
   ]
  },
  {
   "cell_type": "code",
   "execution_count": 35,
   "id": "dbfc6b46-84c0-454a-9a56-ad43472f6ed8",
   "metadata": {},
   "outputs": [
    {
     "name": "stdout",
     "output_type": "stream",
     "text": [
      "[2, 5, 10, 20, 75]\n"
     ]
    }
   ],
   "source": [
    "# q1) list1=[10,20,2,5,75]\n",
    "\n",
    "for i in range(len(list1)):\n",
    "    for j in range(i+1,len(list1)):\n",
    "        if list1[i]>=list1[j]:\n",
    "            list1[i],list1[j] =list1[j],list1[i]\n",
    "print(list1)"
   ]
  },
  {
   "cell_type": "code",
   "execution_count": 37,
   "id": "5d9dd236-b896-4309-ae64-abee0957a201",
   "metadata": {},
   "outputs": [
    {
     "name": "stdout",
     "output_type": "stream",
     "text": [
      "max value: 75\n"
     ]
    }
   ],
   "source": [
    "# q2)list1=[10,20,2,5,75]\n",
    "\n",
    "list1=[10,20,2,5,75]\n",
    "max_val=list1[0]\n",
    "for num in list1:\n",
    "    if num > max_val:\n",
    "        max_val=num\n",
    "print(\"max value:\",max_val)"
   ]
  },
  {
   "cell_type": "code",
   "execution_count": 39,
   "id": "5648d696-2f87-4e07-a1f9-64884d255f40",
   "metadata": {},
   "outputs": [
    {
     "name": "stdout",
     "output_type": "stream",
     "text": [
      "min value: 2\n"
     ]
    }
   ],
   "source": [
    "# q3) list1=[10,20,2,5,75]\n",
    "\n",
    "list1=[10,20,2,5,75]\n",
    "min_val=list1[0]\n",
    "for num in list1:\n",
    "    if num < min_val:\n",
    "        min_val=num\n",
    "print(\"min value:\",min_val)"
   ]
  },
  {
   "cell_type": "code",
   "execution_count": 41,
   "id": "ffc73813-8ade-4061-bd47-f203bdf41ccf",
   "metadata": {},
   "outputs": [
    {
     "name": "stdout",
     "output_type": "stream",
     "text": [
      "Reversed_list: [75, 5, 2, 20, 10]\n"
     ]
    }
   ],
   "source": [
    "# q4)list1=[10,20,2,5,75]\n",
    "\n",
    "list1=[10,20,2,5,75]\n",
    "reversed_list = list1[::-1]\n",
    "print(\"Reversed_list:\",reversed_list)"
   ]
  },
  {
   "cell_type": "code",
   "execution_count": 43,
   "id": "b0524d46-046d-4cf1-95d2-afe7aa17d6bc",
   "metadata": {},
   "outputs": [
    {
     "name": "stdout",
     "output_type": "stream",
     "text": [
      "112\n"
     ]
    }
   ],
   "source": [
    "#q5) list1=[10,20,2,5,75]\n",
    "\n",
    "list1=[10,20,2,5,75]\n",
    "total=0\n",
    "for num in list1:\n",
    "    total+=num\n",
    "print(total)    "
   ]
  },
  {
   "cell_type": "code",
   "execution_count": 45,
   "id": "73f65426-c2cd-4544-95df-eb041631803f",
   "metadata": {},
   "outputs": [
    {
     "name": "stdout",
     "output_type": "stream",
     "text": [
      "20\n"
     ]
    }
   ],
   "source": [
    "list1=[10,20,2,5,75]\n",
    "first_max=list1[0]\n",
    "second_max=list1[0]\n",
    "for i in range (len(list1)):\n",
    "    if list1[i]>first_max:\n",
    "        first_max,second_max=list1[i],first_max\n",
    "    elif first_max>list1[i]>second_max:\n",
    "        second_max=list1[i]\n",
    "print(second_max)"
   ]
  },
  {
   "cell_type": "code",
   "execution_count": 47,
   "id": "73db0d85-7f72-4bca-a828-9e9e4b817fae",
   "metadata": {},
   "outputs": [
    {
     "name": "stdout",
     "output_type": "stream",
     "text": [
      "5\n"
     ]
    }
   ],
   "source": [
    "list1=[10,20,2,5,75]\n",
    "first_min=list1[0]\n",
    "second_min=list1[0]\n",
    "for i in range (len(list1)):\n",
    "    if list1[i]<first_min:\n",
    "        first_min,second_min=list1[i],first_min\n",
    "    elif first_min<list1[i]<second_min:\n",
    "        second_min=list1[i]\n",
    "print(second_min)"
   ]
  },
  {
   "cell_type": "code",
   "execution_count": 7,
   "id": "7fb634f1-f93f-4bc4-8a8b-59e19ac102ad",
   "metadata": {},
   "outputs": [
    {
     "data": {
      "text/plain": [
       "'Python'"
      ]
     },
     "execution_count": 7,
     "metadata": {},
     "output_type": "execute_result"
    }
   ],
   "source": [
    "str1='Python'\n",
    "list1=['P','y','t','h','o','n']\n",
    "str1"
   ]
  },
  {
   "cell_type": "markdown",
   "id": "e2562244-2663-435c-b44c-64d246a04e67",
   "metadata": {},
   "source": [
    "**range vs in-operator**\n",
    "\n",
    "- when we have use withe index then go far range\n",
    "-  when we have use with only element go for in \n",
    "  "
   ]
  },
  {
   "cell_type": "markdown",
   "id": "a14ffd3a-1921-49ce-b7b7-5bbb73baeb4d",
   "metadata": {},
   "source": [
    "**mutabel va immutable**"
   ]
  },
  {
   "cell_type": "code",
   "execution_count": 51,
   "id": "249d9a2d-23ac-420f-8847-56c9985ac87a",
   "metadata": {},
   "outputs": [
    {
     "data": {
      "text/plain": [
       "[20, 200, 300, 400]"
      ]
     },
     "execution_count": 51,
     "metadata": {},
     "output_type": "execute_result"
    }
   ],
   "source": [
    "list1=[100,200,300,400]\n",
    "list1[0]=20\n",
    "list1"
   ]
  },
  {
   "cell_type": "markdown",
   "id": "f21385c6-b6e7-4c5c-a869-9bb4ac2aecdc",
   "metadata": {},
   "source": [
    "**list are mutable**"
   ]
  },
  {
   "cell_type": "markdown",
   "id": "edf8458a-198a-4d40-8062-019c38b88238",
   "metadata": {},
   "source": [
    "**slice**"
   ]
  },
  {
   "cell_type": "code",
   "execution_count": 144,
   "id": "97cd1137-ee20-48e8-b1ed-b02abdd7d9a7",
   "metadata": {},
   "outputs": [
    {
     "data": {
      "text/plain": [
       "[30, 50, 'B', 'D']"
      ]
     },
     "execution_count": 144,
     "metadata": {},
     "output_type": "execute_result"
    }
   ],
   "source": [
    "l1=[10,20,30,40,50,'A','B','C','D','E','apple','banana']\n",
    "l1[2:10:2]"
   ]
  },
  {
   "cell_type": "code",
   "execution_count": 54,
   "id": "232de42f-2ce0-4dff-ba55-77685c272719",
   "metadata": {},
   "outputs": [
    {
     "ename": "NameError",
     "evalue": "name 'l1' is not defined",
     "output_type": "error",
     "traceback": [
      "\u001b[1;31m---------------------------------------------------------------------------\u001b[0m",
      "\u001b[1;31mNameError\u001b[0m                                 Traceback (most recent call last)",
      "Cell \u001b[1;32mIn[54], line 1\u001b[0m\n\u001b[1;32m----> 1\u001b[0m l1[\u001b[38;5;241m2\u001b[39m:\u001b[38;5;241m10\u001b[39m:\u001b[38;5;241m2\u001b[39m]\n",
      "\u001b[1;31mNameError\u001b[0m: name 'l1' is not defined"
     ]
    }
   ],
   "source": [
    "l1[2:10:2]"
   ]
  },
  {
   "cell_type": "markdown",
   "id": "a3f9ca43-b9af-4423-a859-43b33a3a9723",
   "metadata": {},
   "source": [
    "**methods**"
   ]
  },
  {
   "cell_type": "markdown",
   "id": "793184de-e055-4d4c-b921-435eb7ee9b96",
   "metadata": {},
   "source": [
    "- if we wants to know the strings method\n",
    "dir('')"
   ]
  },
  {
   "cell_type": "code",
   "execution_count": null,
   "id": "c40fa379-4154-4a2d-89d2-b81d80111888",
   "metadata": {},
   "outputs": [],
   "source": [
    "dir([])"
   ]
  },
  {
   "cell_type": "code",
   "execution_count": null,
   "id": "d9a04926-4281-4f9d-8ebe-9038aca3e69f",
   "metadata": {},
   "outputs": [],
   "source": [
    "'append',\n",
    " 'clear',\n",
    " 'copy',\n",
    " 'count',\n",
    " 'extend',\n",
    " 'index',\n",
    " 'insert',\n",
    " 'pop',\n",
    " 'remove',\n",
    " 'reverse',\n",
    " 'sort']"
   ]
  },
  {
   "cell_type": "markdown",
   "id": "3a115d00-7aa7-4684-a13d-411eafc4b2ef",
   "metadata": {},
   "source": [
    "- clear\n",
    "- copy\n",
    "-count"
   ]
  },
  {
   "cell_type": "markdown",
   "id": "f3b90c62-cd24-4e2e-b99f-b1df48f580e4",
   "metadata": {},
   "source": [
    "l1=[10,20,30,40,50,'A','B','C','D','E','apple','banana']\n"
   ]
  },
  {
   "cell_type": "code",
   "execution_count": 56,
   "id": "b1bd2d54-d9ea-44be-a4f0-bf1ac197f9e5",
   "metadata": {},
   "outputs": [
    {
     "data": {
      "text/plain": [
       "[]"
      ]
     },
     "execution_count": 56,
     "metadata": {},
     "output_type": "execute_result"
    }
   ],
   "source": [
    "l1=[10,20,30,40,50,'A','B','C','D','E','apple','banana']\n",
    "l1.clear()\n",
    "l1"
   ]
  },
  {
   "cell_type": "code",
   "execution_count": 58,
   "id": "2b62630d-981a-4f32-8fdd-f06a64b73cca",
   "metadata": {},
   "outputs": [
    {
     "name": "stdout",
     "output_type": "stream",
     "text": [
      "[10, 20, 30, 40, 50, 'A', 'B', 'C', 'D', 'E', 'apple', 'banana']\n",
      "[10, 20, 30, 40, 50, 'A', 'B', 'C', 'D', 'E', 'apple', 'banana']\n"
     ]
    }
   ],
   "source": [
    "l1=[10,20,30,40,50,'A','B','C','D','E','apple','banana']\n",
    "l2=l1.copy()\n",
    "l1.copy()\n",
    "print(l1)\n",
    "print(l2)"
   ]
  },
  {
   "cell_type": "code",
   "execution_count": 148,
   "id": "a6c9e151-216c-4afe-a033-c7ec57607740",
   "metadata": {},
   "outputs": [
    {
     "data": {
      "text/plain": [
       "2"
      ]
     },
     "execution_count": 148,
     "metadata": {},
     "output_type": "execute_result"
    }
   ],
   "source": [
    "l1=[10,20,30,40,50,'A','B','C','D','E','apple','banana',10]\n",
    "l1.count(10)"
   ]
  },
  {
   "cell_type": "code",
   "execution_count": 150,
   "id": "09d06ca6-c310-4194-919b-5b3a1ce53543",
   "metadata": {},
   "outputs": [
    {
     "data": {
      "text/plain": [
       "3"
      ]
     },
     "execution_count": 150,
     "metadata": {},
     "output_type": "execute_result"
    }
   ],
   "source": [
    "str1='ola ola ola'\n",
    "str1.count('l')"
   ]
  },
  {
   "cell_type": "markdown",
   "id": "1e8cae6f-83f5-4edd-98ba-605456d87b0f",
   "metadata": {},
   "source": [
    "**append**\n",
    "\n",
    "- append is very very impportant method in the entitre list\n",
    "- in our life we will use this methods very very frequently\n",
    "- append means adding an element at last"
   ]
  },
  {
   "cell_type": "code",
   "execution_count": 60,
   "id": "2de8ebe0-38fb-433a-8db0-162e86cb3bbe",
   "metadata": {},
   "outputs": [
    {
     "data": {
      "text/plain": [
       "[10, 20, 30, 'apple']"
      ]
     },
     "execution_count": 60,
     "metadata": {},
     "output_type": "execute_result"
    }
   ],
   "source": [
    "l1=[10,20,30]\n",
    "l1.append('apple')\n",
    "l1"
   ]
  },
  {
   "cell_type": "code",
   "execution_count": 62,
   "id": "006b05a2-ee86-4d74-8dc5-44d63fdf6fb2",
   "metadata": {},
   "outputs": [
    {
     "data": {
      "text/plain": [
       "[10, 20, 30, 'apple', 'banana']"
      ]
     },
     "execution_count": 62,
     "metadata": {},
     "output_type": "execute_result"
    }
   ],
   "source": [
    "l1=[10,20,30]\n",
    "l1.append('apple')\n",
    "l1.append('banana')\n",
    "l1"
   ]
  },
  {
   "cell_type": "code",
   "execution_count": 64,
   "id": "5146e917-c76f-4fd7-839b-c489c70181aa",
   "metadata": {},
   "outputs": [
    {
     "data": {
      "text/plain": [
       "[10, 20, 30, ['apple', 'banana']]"
      ]
     },
     "execution_count": 64,
     "metadata": {},
     "output_type": "execute_result"
    }
   ],
   "source": [
    "l1=[10,20,30]\n",
    "l1.append(['apple','banana'])\n",
    "l1"
   ]
  },
  {
   "cell_type": "markdown",
   "id": "fb1b2129-3496-474e-bee0-45d800f46356",
   "metadata": {},
   "source": [
    "**always recall if u see anywhere multiple values means must of the time will keep those values in a list**"
   ]
  },
  {
   "cell_type": "code",
   "execution_count": 66,
   "id": "7c897c0f-547c-4b31-acf0-d8c597518733",
   "metadata": {},
   "outputs": [
    {
     "ename": "TypeError",
     "evalue": "list.append() takes exactly one argument (2 given)",
     "output_type": "error",
     "traceback": [
      "\u001b[1;31m---------------------------------------------------------------------------\u001b[0m",
      "\u001b[1;31mTypeError\u001b[0m                                 Traceback (most recent call last)",
      "Cell \u001b[1;32mIn[66], line 11\u001b[0m\n\u001b[0;32m      8\u001b[0m l1\n\u001b[0;32m     10\u001b[0m l1\u001b[38;5;241m=\u001b[39m[\u001b[38;5;241m10\u001b[39m,\u001b[38;5;241m20\u001b[39m,\u001b[38;5;241m30\u001b[39m]\n\u001b[1;32m---> 11\u001b[0m l1\u001b[38;5;241m.\u001b[39mappend(\u001b[38;5;124m'\u001b[39m\u001b[38;5;124mapple\u001b[39m\u001b[38;5;124m'\u001b[39m,\u001b[38;5;124m'\u001b[39m\u001b[38;5;124mbanana\u001b[39m\u001b[38;5;124m'\u001b[39m)\n\u001b[0;32m     12\u001b[0m l1\n\u001b[0;32m     14\u001b[0m l1\u001b[38;5;241m=\u001b[39m[\u001b[38;5;241m10\u001b[39m,\u001b[38;5;241m20\u001b[39m,\u001b[38;5;241m30\u001b[39m]\n",
      "\u001b[1;31mTypeError\u001b[0m: list.append() takes exactly one argument (2 given)"
     ]
    }
   ],
   "source": [
    "l1=[10,20,30]\n",
    "l1.append('apple')\n",
    "l1\n",
    "\n",
    "l1=[10,20,30]\n",
    "l1.append('apple')\n",
    "l1.append('banana')\n",
    "l1\n",
    "\n",
    "l1=[10,20,30]\n",
    "l1.append('apple','banana')\n",
    "l1\n",
    "\n",
    "l1=[10,20,30]\n",
    "l1.append(['apple','banana'])\n",
    "l1\n",
    "\n"
   ]
  },
  {
   "cell_type": "markdown",
   "id": "2fec1a1d-1063-4b04-adf2-8cd66c501f9c",
   "metadata": {},
   "source": [
    "**append method is used to store the outputs**"
   ]
  },
  {
   "cell_type": "code",
   "execution_count": 1,
   "id": "f8d21307-f807-471d-a970-be39f57d3124",
   "metadata": {},
   "outputs": [
    {
     "data": {
      "text/plain": [
       "[1, 2, 3, 4, 5]"
      ]
     },
     "execution_count": 1,
     "metadata": {},
     "output_type": "execute_result"
    }
   ],
   "source": [
    "#for example i want to append a number from 1 to 5\n",
    "# l=[1,2,3,4,5]\n",
    "\n",
    "l=[]\n",
    "l.append(1)\n",
    "l.append(2)\n",
    "l.append(3)\n",
    "l.append(4)\n",
    "l.append(5)\n",
    "\n",
    "l\n"
   ]
  },
  {
   "cell_type": "code",
   "execution_count": 3,
   "id": "de1ac8fe-12cc-4387-b4fb-23b7e44a08a2",
   "metadata": {},
   "outputs": [
    {
     "data": {
      "text/plain": [
       "5"
      ]
     },
     "execution_count": 3,
     "metadata": {},
     "output_type": "execute_result"
    }
   ],
   "source": [
    "l=[]\n",
    "for i in range(1,6):\n",
    "    l.append(i)\n",
    "i    \n"
   ]
  },
  {
   "cell_type": "code",
   "execution_count": 5,
   "id": "0077739f-9830-4f70-8c8e-e5032b6fb772",
   "metadata": {},
   "outputs": [
    {
     "data": {
      "text/plain": [
       "[1, 2, 3, 4, 5, 6, 7, 8, 9]"
      ]
     },
     "execution_count": 5,
     "metadata": {},
     "output_type": "execute_result"
    }
   ],
   "source": [
    "l=[]\n",
    "for i in range(1,10):\n",
    "    l.append(i)\n",
    "l"
   ]
  },
  {
   "cell_type": "code",
   "execution_count": 7,
   "id": "ca97e404-1a55-42a1-82ca-ac31814304fb",
   "metadata": {},
   "outputs": [
    {
     "name": "stdout",
     "output_type": "stream",
     "text": [
      "5\n",
      "83\n",
      "52\n"
     ]
    }
   ],
   "source": [
    "# wap ask the user enter 3 random numbers\n",
    "# and perform the square of the numbers,save those squares in a list\n",
    "\n",
    "import random\n",
    "for i in range(3):\n",
    "    num=random.randint(1,100)\n",
    "    print(num)"
   ]
  },
  {
   "cell_type": "code",
   "execution_count": 9,
   "id": "303e32be-6657-4e28-9c8d-1b01e0640658",
   "metadata": {},
   "outputs": [
    {
     "data": {
      "text/plain": [
       "[75, 4, 39]"
      ]
     },
     "execution_count": 9,
     "metadata": {},
     "output_type": "execute_result"
    }
   ],
   "source": [
    "import random\n",
    "l=[]\n",
    "for i in range(3):\n",
    "    num=random.randint(1,100)\n",
    "    l.append(num)\n",
    "l  "
   ]
  },
  {
   "cell_type": "code",
   "execution_count": null,
   "id": "b98f3490-f0a2-4cca-8ccf-d5620349940d",
   "metadata": {},
   "outputs": [],
   "source": [
    "import random\n",
    "for i in range(3):\n",
    "    num=random.randint(1,100)\n",
    "    l.append(f'{num}:{num*num}')\n",
    "l"
   ]
  },
  {
   "cell_type": "markdown",
   "id": "463b1d0f-d7ed-4eef-a90b-37734d109dc0",
   "metadata": {},
   "source": [
    "**extend**"
   ]
  },
  {
   "cell_type": "code",
   "execution_count": 15,
   "id": "c4acdd74-2e11-4feb-a58b-49acc653d7d1",
   "metadata": {},
   "outputs": [
    {
     "data": {
      "text/plain": [
       "[1, 2, 3, 4, 5, 'A', 'B', 'C', 'D']"
      ]
     },
     "execution_count": 15,
     "metadata": {},
     "output_type": "execute_result"
    }
   ],
   "source": [
    "l1=[1,2,3,4,5,]\n",
    "l2=['A','B','C','D']\n",
    "l1.extend(l2)\n",
    "l1"
   ]
  },
  {
   "cell_type": "code",
   "execution_count": 17,
   "id": "073a7021-ecfe-48b3-91c9-534e6c62df86",
   "metadata": {},
   "outputs": [
    {
     "data": {
      "text/plain": [
       "[1, 2, 3, 4, 5]"
      ]
     },
     "execution_count": 17,
     "metadata": {},
     "output_type": "execute_result"
    }
   ],
   "source": [
    "l1=[1,2,3,4,5,]\n",
    "l2=['A','B','C','D']\n",
    "l2.extend(l1)\n",
    "l1"
   ]
  },
  {
   "cell_type": "code",
   "execution_count": 64,
   "id": "3c29fc04-58d8-4610-bd2a-27b0df47bbf7",
   "metadata": {},
   "outputs": [
    {
     "data": {
      "text/plain": [
       "[1, 2, 3, 4, 5, ['A', 'B', 'C', 'D']]"
      ]
     },
     "execution_count": 64,
     "metadata": {},
     "output_type": "execute_result"
    }
   ],
   "source": [
    "l1=[1,2,3,4,5]\n",
    "l2=['A','B','C','D']\n",
    "l1.append(l2)\n",
    "l1"
   ]
  },
  {
   "cell_type": "code",
   "execution_count": 10,
   "id": "3fd12ef5-00a4-4ccb-8fbe-06f92c095dfe",
   "metadata": {},
   "outputs": [
    {
     "name": "stdout",
     "output_type": "stream",
     "text": [
      "[1, 2, 3, 4, 5]\n",
      "('A', 'B', 'C', 'D')\n",
      "l1 will be overwrite if we use extend \n",
      "[1, 2, 3, 4, 5, 'A', 'B', 'C', 'D']\n"
     ]
    }
   ],
   "source": [
    "l1=[1,2,3,4,5]\n",
    "l2=('A','B','C','D')\n",
    "print(l1)\n",
    "print(l2)\n",
    "print('l1 will be overwrite if we use extend ')\n",
    "l1.extend(l2)\n",
    "print(l1)"
   ]
  },
  {
   "cell_type": "markdown",
   "id": "d05026fc-5535-43fb-ab61-23e212bae313",
   "metadata": {},
   "source": [
    "**INDEX**"
   ]
  },
  {
   "cell_type": "markdown",
   "id": "cf8e1921-8adc-471d-accd-d1b6d6273afe",
   "metadata": {},
   "source": [
    "- strings we have index  and find\n",
    "- but in list we have only index"
   ]
  },
  {
   "cell_type": "code",
   "execution_count": 15,
   "id": "a6b02472-b311-47d4-971d-27a5d1c5f6f2",
   "metadata": {},
   "outputs": [
    {
     "name": "stdout",
     "output_type": "stream",
     "text": [
      "8\n"
     ]
    }
   ],
   "source": [
    "l1=[10,20,30,40,50,'apple','banana','cherry',40,50]\n",
    "i1=l1.index(40)\n",
    "print(l1.index(40,i1+1))\n"
   ]
  },
  {
   "cell_type": "markdown",
   "id": "f78b89d7-1161-47da-a19f-2e357987710a",
   "metadata": {},
   "source": [
    "**INSERT**"
   ]
  },
  {
   "cell_type": "markdown",
   "id": "efe25384-d373-452d-b378-caec8578b416",
   "metadata": {},
   "source": [
    "- difference betwwen append and insert"
   ]
  },
  {
   "cell_type": "code",
   "execution_count": 21,
   "id": "1f4c2967-9db3-4769-bd6b-5043f76c2d29",
   "metadata": {},
   "outputs": [
    {
     "data": {
      "text/plain": [
       "[10, 20, 30, 40, 50, 'apple', 100, 'banana', 'cherry', 40, 50]"
      ]
     },
     "execution_count": 21,
     "metadata": {},
     "output_type": "execute_result"
    }
   ],
   "source": [
    "l1=[10,20,30,40,50,'apple','banana','cherry',40,50]\n",
    "id=l1.index('apple')\n",
    "l1.insert(id+1,100)\n",
    "l1"
   ]
  },
  {
   "cell_type": "code",
   "execution_count": 25,
   "id": "aa2dcb47-8beb-40a2-ad93-1510abd91b4d",
   "metadata": {},
   "outputs": [
    {
     "data": {
      "text/plain": [
       "[10, 20, 30, 40, 50, 'apple', 'banana', 'cherry', 40, 50, 100]"
      ]
     },
     "execution_count": 25,
     "metadata": {},
     "output_type": "execute_result"
    }
   ],
   "source": [
    "l1=[10,20,30,40,50,'apple','banana','cherry',40,50]\n",
    "l1.append(100)\n",
    "l1"
   ]
  },
  {
   "cell_type": "markdown",
   "id": "6a2ac990-bcbe-41de-8802-b747856977a2",
   "metadata": {},
   "source": [
    "**POP VS REMOVE**"
   ]
  },
  {
   "cell_type": "code",
   "execution_count": 30,
   "id": "dbb8b314-b80b-4295-9f5f-aaa1f2c8cb87",
   "metadata": {},
   "outputs": [
    {
     "data": {
      "text/plain": [
       "[10, 20, 30, 40, 50, 'banana', 'cherry', 40, 50]"
      ]
     },
     "execution_count": 30,
     "metadata": {},
     "output_type": "execute_result"
    }
   ],
   "source": [
    "l1=[10,20,30,40,50,'apple','banana','cherry',40,50]\n",
    "l1.pop(5)\n",
    "l1"
   ]
  },
  {
   "cell_type": "code",
   "execution_count": 36,
   "id": "5ad0372b-f093-41f7-85e7-515604631f1f",
   "metadata": {},
   "outputs": [
    {
     "data": {
      "text/plain": [
       "[10, 20, 30, 40, 50, 'banana', 'cherry', 40, 50]"
      ]
     },
     "execution_count": 36,
     "metadata": {},
     "output_type": "execute_result"
    }
   ],
   "source": [
    "l1=[10,20,30,40,50,'apple','banana','cherry',40,50]\n",
    "l1.remove('apple')\n",
    "l1"
   ]
  },
  {
   "cell_type": "code",
   "execution_count": 42,
   "id": "4fe046fc-c73a-404a-a03e-0309540fd82e",
   "metadata": {},
   "outputs": [
    {
     "data": {
      "text/plain": [
       "[10, 20, 30, 40, 50, 'banana', 'cherry', 40, 50]"
      ]
     },
     "execution_count": 42,
     "metadata": {},
     "output_type": "execute_result"
    }
   ],
   "source": [
    "l1=[10,20,30,40,50,'apple','banana','cherry',40,50]\n",
    "del(l1[5])\n",
    "l1"
   ]
  },
  {
   "cell_type": "markdown",
   "id": "d4a59404-5491-4d2a-a78a-08fa9cf5f18a",
   "metadata": {},
   "source": [
    "- if we want delete any element\n",
    "- pop : based on index\n",
    "- remove : based on value\n",
    "- del is an inbuilt function"
   ]
  },
  {
   "cell_type": "code",
   "execution_count": 47,
   "id": "54c7623d-5b3c-4243-bef5-0ba1b115756f",
   "metadata": {},
   "outputs": [
    {
     "name": "stdout",
     "output_type": "stream",
     "text": [
      "[10, 20, 30, 40, 50, 'apple', 'banana', 'cherry', 40, 50]\n"
     ]
    },
    {
     "ename": "NameError",
     "evalue": "name 'l1' is not defined",
     "output_type": "error",
     "traceback": [
      "\u001b[1;31m---------------------------------------------------------------------------\u001b[0m",
      "\u001b[1;31mNameError\u001b[0m                                 Traceback (most recent call last)",
      "Cell \u001b[1;32mIn[47], line 4\u001b[0m\n\u001b[0;32m      2\u001b[0m \u001b[38;5;28mprint\u001b[39m(l1)\n\u001b[0;32m      3\u001b[0m \u001b[38;5;28;01mdel\u001b[39;00m(l1)\n\u001b[1;32m----> 4\u001b[0m l1\n",
      "\u001b[1;31mNameError\u001b[0m: name 'l1' is not defined"
     ]
    }
   ],
   "source": [
    "l1=[10,20,30,40,50,'apple','banana','cherry',40,50]\n",
    "print(l1)\n",
    "del(l1)\n",
    "l1"
   ]
  },
  {
   "cell_type": "code",
   "execution_count": 49,
   "id": "13ab96c2-ad08-48f9-a8a5-369794d9612b",
   "metadata": {},
   "outputs": [
    {
     "data": {
      "text/plain": [
       "[10, 20, 30, 40, 50, 'banana', 'cherry', 40, 50]"
      ]
     },
     "execution_count": 49,
     "metadata": {},
     "output_type": "execute_result"
    }
   ],
   "source": [
    "l1=[10,20,30,40,50,'apple','banana','cherry',40,50]\n",
    "del l1[5] # del (l1[5])\n",
    "l1"
   ]
  },
  {
   "cell_type": "markdown",
   "id": "7472f696-729e-4d93-a61b-978d51854a12",
   "metadata": {},
   "source": [
    "**REVERSE - REVERSED**\n",
    "- reverse is method\n",
    "- reversed is a inbuilt function"
   ]
  },
  {
   "cell_type": "code",
   "execution_count": 56,
   "id": "7b6952c7-145c-4da4-91ad-06b1f965f966",
   "metadata": {},
   "outputs": [
    {
     "data": {
      "text/plain": [
       "[50, 40, 30, 20, 10]"
      ]
     },
     "execution_count": 56,
     "metadata": {},
     "output_type": "execute_result"
    }
   ],
   "source": [
    "l1=[10,20,30,40,50]\n",
    "l1.reverse()\n",
    "l1"
   ]
  },
  {
   "cell_type": "markdown",
   "id": "36598b11-cf9e-47d7-8fe5-5da300487c12",
   "metadata": {},
   "source": [
    "**IN PLACE**\n",
    "- when we perform the operation some times the values will not overrite\n",
    "- if we see **inplace** word orm **inplace=True**\n",
    "- this indicates the output will be overwrite in correspoinding variable"
   ]
  },
  {
   "cell_type": "code",
   "execution_count": 61,
   "id": "fd6b621f-9a7a-4f15-a325-a6891f0658d4",
   "metadata": {},
   "outputs": [
    {
     "name": "stdout",
     "output_type": "stream",
     "text": [
      "[10, 20, 30, 40, 50]\n"
     ]
    }
   ],
   "source": [
    "l1=[10,20,30,40,50]\n",
    "reversed(l1)\n",
    "print(l1)"
   ]
  },
  {
   "cell_type": "markdown",
   "id": "e76e1078-3ced-4f28-86f7-9ae221dcbf5d",
   "metadata": {},
   "source": [
    "**sort - sorted**"
   ]
  },
  {
   "cell_type": "code",
   "execution_count": 64,
   "id": "5c5b8c6a-c0a0-46ff-9cdd-0543f469f11e",
   "metadata": {},
   "outputs": [
    {
     "data": {
      "text/plain": [
       "[10, 20, 30, 40, 50]"
      ]
     },
     "execution_count": 64,
     "metadata": {},
     "output_type": "execute_result"
    }
   ],
   "source": [
    "l1=[10,20,30,40,50]\n",
    "l1.sort()\n",
    "l1"
   ]
  },
  {
   "cell_type": "code",
   "execution_count": 72,
   "id": "5ccd7601-875d-45f0-bbf9-ab4f94f6b9aa",
   "metadata": {},
   "outputs": [
    {
     "data": {
      "text/plain": [
       "[10, 20, 30, 40, 50]"
      ]
     },
     "execution_count": 72,
     "metadata": {},
     "output_type": "execute_result"
    }
   ],
   "source": [
    "l1=[10,20,30,40,50]\n",
    "sorted(l1)"
   ]
  },
  {
   "cell_type": "code",
   "execution_count": 74,
   "id": "232459e2-88c7-4ba1-96f0-b6d9dc8b530e",
   "metadata": {},
   "outputs": [
    {
     "data": {
      "text/plain": [
       "['h', 'n', 'o', 'p', 't', 'y']"
      ]
     },
     "execution_count": 74,
     "metadata": {},
     "output_type": "execute_result"
    }
   ],
   "source": [
    "str1='python'\n",
    "sorted(str1)"
   ]
  },
  {
   "cell_type": "code",
   "execution_count": 12,
   "id": "eb97e224-4069-4f42-8088-91f00b88ee2b",
   "metadata": {},
   "outputs": [
    {
     "ename": "NameError",
     "evalue": "name 'str1' is not defined",
     "output_type": "error",
     "traceback": [
      "\u001b[1;31m---------------------------------------------------------------------------\u001b[0m",
      "\u001b[1;31mNameError\u001b[0m                                 Traceback (most recent call last)",
      "Cell \u001b[1;32mIn[12], line 1\u001b[0m\n\u001b[1;32m----> 1\u001b[0m str1\u001b[38;5;241m.\u001b[39msort()\n",
      "\u001b[1;31mNameError\u001b[0m: name 'str1' is not defined"
     ]
    }
   ],
   "source": [
    "str1.sort()  # it is not available"
   ]
  },
  {
   "cell_type": "markdown",
   "id": "4f922153-8f27-4675-89d8-82ee581f5d08",
   "metadata": {},
   "source": [
    "- inbuilt function applicable for any datatype\n",
    "- but method works wrt data type"
   ]
  },
  {
   "cell_type": "markdown",
   "id": "2af95505-2338-4dae-a92c-7ebfcd359e91",
   "metadata": {},
   "source": [
    "- clear\n",
    "- count\n",
    "- append/extend/insert\n",
    "- pop/remove/del\n",
    "- index\n",
    "- reverse/reversed\n",
    "- sort/sorted"
   ]
  },
  {
   "cell_type": "code",
   "execution_count": 79,
   "id": "0d126cd3-5d76-4202-b886-8c19e3cbff1f",
   "metadata": {},
   "outputs": [
    {
     "data": {
      "text/plain": [
       "['__add__',\n",
       " '__class__',\n",
       " '__class_getitem__',\n",
       " '__contains__',\n",
       " '__delattr__',\n",
       " '__dir__',\n",
       " '__doc__',\n",
       " '__eq__',\n",
       " '__format__',\n",
       " '__ge__',\n",
       " '__getattribute__',\n",
       " '__getitem__',\n",
       " '__getnewargs__',\n",
       " '__getstate__',\n",
       " '__gt__',\n",
       " '__hash__',\n",
       " '__init__',\n",
       " '__init_subclass__',\n",
       " '__iter__',\n",
       " '__le__',\n",
       " '__len__',\n",
       " '__lt__',\n",
       " '__mul__',\n",
       " '__ne__',\n",
       " '__new__',\n",
       " '__reduce__',\n",
       " '__reduce_ex__',\n",
       " '__repr__',\n",
       " '__rmul__',\n",
       " '__setattr__',\n",
       " '__sizeof__',\n",
       " '__str__',\n",
       " '__subclasshook__',\n",
       " 'count',\n",
       " 'index']"
      ]
     },
     "execution_count": 79,
     "metadata": {},
     "output_type": "execute_result"
    }
   ],
   "source": [
    "dir(())"
   ]
  },
  {
   "cell_type": "markdown",
   "id": "e9457ebe-bd13-449e-a0d6-eb40155734b7",
   "metadata": {},
   "source": [
    "**TOUPLE**"
   ]
  },
  {
   "cell_type": "code",
   "execution_count": 85,
   "id": "1c976c2a-312c-4cf2-8b42-a8e1a346bd67",
   "metadata": {},
   "outputs": [
    {
     "name": "stdout",
     "output_type": "stream",
     "text": [
      "(100, 200, 300, 400, 500)\n"
     ]
    }
   ],
   "source": [
    "t1=(100,200,300,400,500)\n",
    "print(t1)"
   ]
  },
  {
   "cell_type": "code",
   "execution_count": 87,
   "id": "ac5eefad-375c-495d-bc80-12e2a34dc83a",
   "metadata": {},
   "outputs": [
    {
     "data": {
      "text/plain": [
       "tuple"
      ]
     },
     "execution_count": 87,
     "metadata": {},
     "output_type": "execute_result"
    }
   ],
   "source": [
    "type(t1)"
   ]
  },
  {
   "cell_type": "code",
   "execution_count": 91,
   "id": "828e1126-6d47-4429-8b75-66d02163519a",
   "metadata": {},
   "outputs": [
    {
     "data": {
      "text/plain": [
       "('A', 'B', 'C', 'D')"
      ]
     },
     "execution_count": 91,
     "metadata": {},
     "output_type": "execute_result"
    }
   ],
   "source": [
    "t1=('A','B','C','D')\n",
    "t1    "
   ]
  },
  {
   "cell_type": "code",
   "execution_count": 93,
   "id": "b8b68160-bde5-4c1a-a588-0f9041e855d5",
   "metadata": {},
   "outputs": [
    {
     "data": {
      "text/plain": [
       "8"
      ]
     },
     "execution_count": 93,
     "metadata": {},
     "output_type": "execute_result"
    }
   ],
   "source": [
    "t1=(9,6,5,4,2,'rakesh','uday sangepu','rakesh')\n",
    "len(t1)"
   ]
  },
  {
   "cell_type": "code",
   "execution_count": 95,
   "id": "0aadc6f8-29b9-48ba-82bf-4d8d33ed1ec3",
   "metadata": {},
   "outputs": [
    {
     "data": {
      "text/plain": [
       "('rakesh', 'uday sangepu', 'rakesh')"
      ]
     },
     "execution_count": 95,
     "metadata": {},
     "output_type": "execute_result"
    }
   ],
   "source": [
    "t1=('rakesh','uday sangepu','rakesh')\n",
    "t1"
   ]
  },
  {
   "cell_type": "code",
   "execution_count": 103,
   "id": "f4d6d466-c0b2-4376-960a-ce9c2c626a85",
   "metadata": {},
   "outputs": [
    {
     "data": {
      "text/plain": [
       "2"
      ]
     },
     "execution_count": 103,
     "metadata": {},
     "output_type": "execute_result"
    }
   ],
   "source": [
    "t1=(9,6,5,4,2,)\n",
    "min(t1)"
   ]
  },
  {
   "cell_type": "code",
   "execution_count": 105,
   "id": "637b5b7b-8480-4bc2-b227-b7768cf61bde",
   "metadata": {},
   "outputs": [
    {
     "data": {
      "text/plain": [
       "9"
      ]
     },
     "execution_count": 105,
     "metadata": {},
     "output_type": "execute_result"
    }
   ],
   "source": [
    "t1=(9,6,5,4,2,)\n",
    "max(t1)"
   ]
  },
  {
   "cell_type": "code",
   "execution_count": 107,
   "id": "0a59e3c3-21e7-4f16-b8f9-f02b7b6ecf5b",
   "metadata": {},
   "outputs": [
    {
     "data": {
      "text/plain": [
       "26"
      ]
     },
     "execution_count": 107,
     "metadata": {},
     "output_type": "execute_result"
    }
   ],
   "source": [
    "t1=(9,6,5,4,2,)\n",
    "sum(t1)"
   ]
  },
  {
   "cell_type": "code",
   "execution_count": 119,
   "id": "34340f42-ebd8-4bff-bcda-76b2d66b7e07",
   "metadata": {},
   "outputs": [
    {
     "data": {
      "text/plain": [
       "[2, 4, 5, 6, 9]"
      ]
     },
     "execution_count": 119,
     "metadata": {},
     "output_type": "execute_result"
    }
   ],
   "source": [
    "t1=(9,6,5,4,2)\n",
    "sorted(t1)\n"
   ]
  },
  {
   "cell_type": "code",
   "execution_count": 121,
   "id": "bf44fd19-7ec0-4bf9-a491-da8085e826fe",
   "metadata": {},
   "outputs": [
    {
     "data": {
      "text/plain": [
       "<reversed at 0x2da3d5ba8c0>"
      ]
     },
     "execution_count": 121,
     "metadata": {},
     "output_type": "execute_result"
    }
   ],
   "source": [
    "t1=(9,6,5,4,2,'rakesh','uday sangepu','rakesh')\n",
    "reversed(t1)"
   ]
  },
  {
   "cell_type": "code",
   "execution_count": 123,
   "id": "899a172b-db5e-4645-bcea-c79832fb34c5",
   "metadata": {},
   "outputs": [
    {
     "data": {
      "text/plain": [
       "(9, 6, 5, 4, 2, 'rakesh', 'uday sangepu', 'rakesh')"
      ]
     },
     "execution_count": 123,
     "metadata": {},
     "output_type": "execute_result"
    }
   ],
   "source": [
    "t1=(9,6,5,4,2)\n",
    "t2=('rakesh','uday sangepu','rakesh')\n",
    "t1+t2"
   ]
  },
  {
   "cell_type": "code",
   "execution_count": 127,
   "id": "c172f87a-c2e0-4b9a-b8f1-c3468dba951f",
   "metadata": {},
   "outputs": [
    {
     "ename": "TypeError",
     "evalue": "unsupported operand type(s) for -: 'tuple' and 'tuple'",
     "output_type": "error",
     "traceback": [
      "\u001b[1;31m---------------------------------------------------------------------------\u001b[0m",
      "\u001b[1;31mTypeError\u001b[0m                                 Traceback (most recent call last)",
      "Cell \u001b[1;32mIn[127], line 3\u001b[0m\n\u001b[0;32m      1\u001b[0m t1\u001b[38;5;241m=\u001b[39m(\u001b[38;5;241m9\u001b[39m,\u001b[38;5;241m6\u001b[39m,\u001b[38;5;241m5\u001b[39m,\u001b[38;5;241m4\u001b[39m,\u001b[38;5;241m2\u001b[39m)\n\u001b[0;32m      2\u001b[0m t2\u001b[38;5;241m=\u001b[39m(\u001b[38;5;124m'\u001b[39m\u001b[38;5;124mrakesh\u001b[39m\u001b[38;5;124m'\u001b[39m,\u001b[38;5;124m'\u001b[39m\u001b[38;5;124muday sangepu\u001b[39m\u001b[38;5;124m'\u001b[39m,\u001b[38;5;124m'\u001b[39m\u001b[38;5;124mrakesh\u001b[39m\u001b[38;5;124m'\u001b[39m)\n\u001b[1;32m----> 3\u001b[0m t1\u001b[38;5;241m-\u001b[39mt2\n",
      "\u001b[1;31mTypeError\u001b[0m: unsupported operand type(s) for -: 'tuple' and 'tuple'"
     ]
    }
   ],
   "source": [
    "t1=(9,6,5,4,2)\n",
    "t2=('rakesh','uday sangepu','rakesh')\n",
    "t1-t2"
   ]
  },
  {
   "cell_type": "code",
   "execution_count": 129,
   "id": "d5f4cd92-a48b-497f-b4e5-69210b226d69",
   "metadata": {},
   "outputs": [
    {
     "data": {
      "text/plain": [
       "(9,\n",
       " 6,\n",
       " 5,\n",
       " 4,\n",
       " 2,\n",
       " 'rakesh',\n",
       " 'uday sangepu',\n",
       " 'rakesh',\n",
       " 9,\n",
       " 6,\n",
       " 5,\n",
       " 4,\n",
       " 2,\n",
       " 'rakesh',\n",
       " 'uday sangepu',\n",
       " 'rakesh')"
      ]
     },
     "execution_count": 129,
     "metadata": {},
     "output_type": "execute_result"
    }
   ],
   "source": [
    "t1=(9,6,5,4,2,'rakesh','uday sangepu','rakesh')\n",
    "t1*2"
   ]
  },
  {
   "cell_type": "code",
   "execution_count": 133,
   "id": "8b1350ba-4241-44a3-99a4-3742561672a3",
   "metadata": {},
   "outputs": [
    {
     "ename": "TypeError",
     "evalue": "unsupported operand type(s) for -: 'tuple' and 'int'",
     "output_type": "error",
     "traceback": [
      "\u001b[1;31m---------------------------------------------------------------------------\u001b[0m",
      "\u001b[1;31mTypeError\u001b[0m                                 Traceback (most recent call last)",
      "Cell \u001b[1;32mIn[133], line 2\u001b[0m\n\u001b[0;32m      1\u001b[0m t1\u001b[38;5;241m=\u001b[39m(\u001b[38;5;241m9\u001b[39m,\u001b[38;5;241m6\u001b[39m,\u001b[38;5;241m5\u001b[39m,\u001b[38;5;241m4\u001b[39m,\u001b[38;5;241m2\u001b[39m,\u001b[38;5;124m'\u001b[39m\u001b[38;5;124mrakesh\u001b[39m\u001b[38;5;124m'\u001b[39m,\u001b[38;5;124m'\u001b[39m\u001b[38;5;124muday sangepu\u001b[39m\u001b[38;5;124m'\u001b[39m,\u001b[38;5;124m'\u001b[39m\u001b[38;5;124mrakesh\u001b[39m\u001b[38;5;124m'\u001b[39m)\n\u001b[1;32m----> 2\u001b[0m t1\u001b[38;5;241m-\u001b[39m\u001b[38;5;241m2\u001b[39m\n",
      "\u001b[1;31mTypeError\u001b[0m: unsupported operand type(s) for -: 'tuple' and 'int'"
     ]
    }
   ],
   "source": [
    "t1=(9,6,5,4,2,'rakesh','uday sangepu','rakesh')\n",
    "t1-2"
   ]
  },
  {
   "cell_type": "code",
   "execution_count": 154,
   "id": "be8992ac-df39-4425-8b48-c62dddb36591",
   "metadata": {},
   "outputs": [
    {
     "data": {
      "text/plain": [
       "5"
      ]
     },
     "execution_count": 154,
     "metadata": {},
     "output_type": "execute_result"
    }
   ],
   "source": [
    "t1=(9,6,5,4,2,'rakesh','uday sangepu','rakesh')\n",
    "t1.index('rakesh')"
   ]
  },
  {
   "cell_type": "code",
   "execution_count": 137,
   "id": "b385fc32-f6d1-4411-8ccc-0a103003d162",
   "metadata": {},
   "outputs": [
    {
     "data": {
      "text/plain": [
       "6"
      ]
     },
     "execution_count": 137,
     "metadata": {},
     "output_type": "execute_result"
    }
   ],
   "source": [
    "t1[1]"
   ]
  },
  {
   "cell_type": "code",
   "execution_count": 146,
   "id": "39e7dbdf-0a3c-41ae-8583-0b9df5a432cf",
   "metadata": {},
   "outputs": [
    {
     "data": {
      "text/plain": [
       "[30, 50, 'B', 'D']"
      ]
     },
     "execution_count": 146,
     "metadata": {},
     "output_type": "execute_result"
    }
   ],
   "source": [
    "l1=[10,20,30,40,50,'A','B','C','D','E','apple','banana']\n",
    "l1[2:10:2]"
   ]
  },
  {
   "cell_type": "code",
   "execution_count": 152,
   "id": "154c0ce3-b105-4595-a737-52cb832861c4",
   "metadata": {},
   "outputs": [
    {
     "data": {
      "text/plain": [
       "3"
      ]
     },
     "execution_count": 152,
     "metadata": {},
     "output_type": "execute_result"
    }
   ],
   "source": [
    "str1='ola ola ola'\n",
    "str1.count('l')"
   ]
  },
  {
   "cell_type": "markdown",
   "id": "b4815345-ffb5-4e6a-87b1-3c32427c97ac",
   "metadata": {},
   "source": []
  },
  {
   "cell_type": "code",
   "execution_count": null,
   "id": "5c53391d-caff-4cb8-80a0-fb7579df4a3d",
   "metadata": {},
   "outputs": [],
   "source": []
  },
  {
   "cell_type": "code",
   "execution_count": null,
   "id": "c51acaff-4ad2-411f-8bc6-ac74b731704d",
   "metadata": {},
   "outputs": [],
   "source": []
  },
  {
   "cell_type": "code",
   "execution_count": null,
   "id": "a6378d8b-1e8d-4656-89b1-1a98f2d21796",
   "metadata": {},
   "outputs": [],
   "source": []
  },
  {
   "cell_type": "markdown",
   "id": "4d7bd5ed-fe19-47ad-a2ef-4209b41d6466",
   "metadata": {},
   "source": []
  },
  {
   "cell_type": "code",
   "execution_count": null,
   "id": "1935d9ff-f7c4-4075-8fe3-d864e6ad5bed",
   "metadata": {},
   "outputs": [],
   "source": []
  }
 ],
 "metadata": {
  "kernelspec": {
   "display_name": "Python [conda env:base] *",
   "language": "python",
   "name": "conda-base-py"
  },
  "language_info": {
   "codemirror_mode": {
    "name": "ipython",
    "version": 3
   },
   "file_extension": ".py",
   "mimetype": "text/x-python",
   "name": "python",
   "nbconvert_exporter": "python",
   "pygments_lexer": "ipython3",
   "version": "3.12.7"
  }
 },
 "nbformat": 4,
 "nbformat_minor": 5
}
