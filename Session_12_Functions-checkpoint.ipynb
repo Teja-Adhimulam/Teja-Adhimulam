{
 "cells": [
  {
   "cell_type": "markdown",
   "id": "10916458-9b38-440a-a500-a77ae8ef5a30",
   "metadata": {},
   "source": [
    "# Function\n",
    "\n",
    "- Reuse of the code block\n",
    "\n",
    "- Function also called as method\n",
    "\n",
    "- function without arguements\n",
    "\n",
    "- function with arguements\n",
    "\n",
    "- function with default arguements\n",
    "\n",
    "- function with keyword arguements (kwargs)\n",
    "\n",
    "- function with global and local variable\n",
    "\n",
    "- function with return\n",
    "\n",
    "- function in function"
   ]
  },
  {
   "cell_type": "markdown",
   "id": "add87188-2f77-48ff-a8ba-3cddddded5cc",
   "metadata": {},
   "source": [
    "### Functions without arguements"
   ]
  },
  {
   "cell_type": "code",
   "execution_count": null,
   "id": "81c47557-bde3-4145-9b40-abc19d69553e",
   "metadata": {},
   "outputs": [],
   "source": [
    "# syntax\n",
    "def <function name>():\n",
    "    <write your lines here>"
   ]
  },
  {
   "cell_type": "code",
   "execution_count": 4,
   "id": "8069a34d-ced6-4368-b660-bee7f3367363",
   "metadata": {},
   "outputs": [
    {
     "name": "stdin",
     "output_type": "stream",
     "text": [
      "enter a num1: 100\n",
      "enter a num2: 200\n"
     ]
    },
    {
     "name": "stdout",
     "output_type": "stream",
     "text": [
      "the addition of 100 and 200 is 300\n"
     ]
    }
   ],
   "source": [
    "num1=eval(input(\"enter a num1:\"))\n",
    "num2=eval(input(\"enter a num2:\"))\n",
    "add=num1+num2\n",
    "print(f\"the addition of {num1} and {num2} is {add}\")"
   ]
  },
  {
   "cell_type": "code",
   "execution_count": 9,
   "id": "41d5656f-3c63-4c62-b334-2898d878e4e6",
   "metadata": {},
   "outputs": [],
   "source": [
    "def addition():\n",
    "    num1=eval(input(\"enter a num1:\"))\n",
    "    num2=eval(input(\"enter a num2:\"))\n",
    "    add=num1+num2\n",
    "    print(f\"the addition of {num1} and {num2} is {add}\")"
   ]
  },
  {
   "cell_type": "markdown",
   "id": "7996a7fb-e50d-476a-a8f2-98b9071207bd",
   "metadata": {},
   "source": [
    "**Calling the function**"
   ]
  },
  {
   "cell_type": "code",
   "execution_count": 11,
   "id": "e8bedc64-84b0-4bb5-9815-343d2e018906",
   "metadata": {},
   "outputs": [
    {
     "name": "stdin",
     "output_type": "stream",
     "text": [
      "enter a num1: 100\n",
      "enter a num2: 200\n"
     ]
    },
    {
     "name": "stdout",
     "output_type": "stream",
     "text": [
      "the addition of 100 and 200 is 300\n"
     ]
    }
   ],
   "source": [
    "addition()"
   ]
  },
  {
   "cell_type": "code",
   "execution_count": 13,
   "id": "18d21128-bf86-48be-a1bb-707f703c1601",
   "metadata": {},
   "outputs": [
    {
     "name": "stdin",
     "output_type": "stream",
     "text": [
      "enter a num1: 100\n",
      "enter a num2: 200\n"
     ]
    },
    {
     "name": "stdout",
     "output_type": "stream",
     "text": [
      "the addition of 100 and 200 is 300\n"
     ]
    }
   ],
   "source": [
    "def addition():\n",
    "    num1=eval(input(\"enter a num1:\"))\n",
    "    num2=eval(input(\"enter a num2:\"))\n",
    "    add=num1+num2\n",
    "    print(f\"the addition of {num1} and {num2} is {add}\")\n",
    "\n",
    "addition()"
   ]
  },
  {
   "cell_type": "code",
   "execution_count": 19,
   "id": "01f7c032-358b-4970-83c7-2cbb4ad1f962",
   "metadata": {},
   "outputs": [],
   "source": [
    "def subtraction():\n",
    "    num1=eval(input(\"enter a num1:\"))\n",
    "    num2=eval(input(\"enter a num2:\"))\n",
    "    sub=num1-num2\n",
    "    print(f\"the subtraction of {num1} and {num2} is {sub}\")"
   ]
  },
  {
   "cell_type": "code",
   "execution_count": 21,
   "id": "810a6b08-309a-4827-81da-e048717c447a",
   "metadata": {},
   "outputs": [
    {
     "name": "stdin",
     "output_type": "stream",
     "text": [
      "enter a num1: 300\n",
      "enter a num2: 200\n"
     ]
    },
    {
     "name": "stdout",
     "output_type": "stream",
     "text": [
      "the subtraction of 300 and 200 is 100\n"
     ]
    }
   ],
   "source": [
    "subtraction()"
   ]
  },
  {
   "cell_type": "code",
   "execution_count": 37,
   "id": "8d796ddd-1009-4aa8-a4ae-ccacad7f4e1c",
   "metadata": {},
   "outputs": [],
   "source": [
    "def tax_pay():\n",
    "    income=eval(input(\"enter the income:\"))\n",
    "    tax_percentage=eval(input(\"enter the tax percentage:\"))\n",
    "    tax=income*tax_percentage/100\n",
    "    print(f\"the tax for the {income} is {tax}\")"
   ]
  },
  {
   "cell_type": "code",
   "execution_count": 39,
   "id": "83fad985-88b1-4b26-9a5f-207564ea4c8b",
   "metadata": {},
   "outputs": [
    {
     "name": "stdin",
     "output_type": "stream",
     "text": [
      "enter the income: 30000\n",
      "enter the tax percentage: 18\n"
     ]
    },
    {
     "name": "stdout",
     "output_type": "stream",
     "text": [
      "the tax for the 30000 is 5400.0\n"
     ]
    }
   ],
   "source": [
    "tax_pay()"
   ]
  },
  {
   "cell_type": "markdown",
   "id": "c4dab20e-f0f3-429c-8908-39e93358e41a",
   "metadata": {},
   "source": [
    "**Note**\n",
    "\n",
    "- Function name rules are same as variable rules\n",
    "\n",
    "  - No special charecters\n",
    "\n",
    "  - No numbers before\n",
    "\n",
    "  - No space between words etc\n",
    "\n",
    "- Function name should not be any keywords\n",
    "\n",
    "- Function name should not be any package names\n",
    "\n",
    "- Function name should not be your notebook name\n",
    "\n",
    "- Function name should not be any variables which is using inside that function"
   ]
  },
  {
   "cell_type": "code",
   "execution_count": 25,
   "id": "37b00ca2-0047-47aa-9d44-0b0a3932147e",
   "metadata": {},
   "outputs": [],
   "source": [
    "def addition1():\n",
    "    n1=eval(input(\"enter a n1:\"))\n",
    "    n2=eval(input(\"enter a n2:\"))\n",
    "    add1=n11+n2\n",
    "    print(f\"the addition of {n1} and {n2} is {add1}\")"
   ]
  },
  {
   "cell_type": "code",
   "execution_count": 27,
   "id": "7072b09b-06ba-4f7c-bc26-39d64af640e2",
   "metadata": {},
   "outputs": [
    {
     "name": "stdin",
     "output_type": "stream",
     "text": [
      "enter a n1: 100\n",
      "enter a n2: 200\n"
     ]
    },
    {
     "ename": "NameError",
     "evalue": "name 'n11' is not defined",
     "output_type": "error",
     "traceback": [
      "\u001b[1;31m---------------------------------------------------------------------------\u001b[0m",
      "\u001b[1;31mNameError\u001b[0m                                 Traceback (most recent call last)",
      "Cell \u001b[1;32mIn[27], line 1\u001b[0m\n\u001b[1;32m----> 1\u001b[0m addition1()\n",
      "Cell \u001b[1;32mIn[25], line 4\u001b[0m, in \u001b[0;36maddition1\u001b[1;34m()\u001b[0m\n\u001b[0;32m      2\u001b[0m n1\u001b[38;5;241m=\u001b[39m\u001b[38;5;28meval\u001b[39m(\u001b[38;5;28minput\u001b[39m(\u001b[38;5;124m\"\u001b[39m\u001b[38;5;124menter a n1:\u001b[39m\u001b[38;5;124m\"\u001b[39m))\n\u001b[0;32m      3\u001b[0m n2\u001b[38;5;241m=\u001b[39m\u001b[38;5;28meval\u001b[39m(\u001b[38;5;28minput\u001b[39m(\u001b[38;5;124m\"\u001b[39m\u001b[38;5;124menter a n2:\u001b[39m\u001b[38;5;124m\"\u001b[39m))\n\u001b[1;32m----> 4\u001b[0m add1\u001b[38;5;241m=\u001b[39mn11\u001b[38;5;241m+\u001b[39mn2\n\u001b[0;32m      5\u001b[0m \u001b[38;5;28mprint\u001b[39m(\u001b[38;5;124mf\u001b[39m\u001b[38;5;124m\"\u001b[39m\u001b[38;5;124mthe addition of \u001b[39m\u001b[38;5;132;01m{\u001b[39;00mn1\u001b[38;5;132;01m}\u001b[39;00m\u001b[38;5;124m and \u001b[39m\u001b[38;5;132;01m{\u001b[39;00mn2\u001b[38;5;132;01m}\u001b[39;00m\u001b[38;5;124m is \u001b[39m\u001b[38;5;132;01m{\u001b[39;00madd1\u001b[38;5;132;01m}\u001b[39;00m\u001b[38;5;124m\"\u001b[39m)\n",
      "\u001b[1;31mNameError\u001b[0m: name 'n11' is not defined"
     ]
    }
   ],
   "source": [
    "addition1()"
   ]
  },
  {
   "cell_type": "markdown",
   "id": "f9eae195-1a4a-4852-a6ff-a2472c6ac312",
   "metadata": {},
   "source": [
    "- While define the function we doesnot know whether the error is there or not\n",
    "\n",
    "- For that we need to call the function"
   ]
  },
  {
   "cell_type": "code",
   "execution_count": 30,
   "id": "02681db9-e42b-459e-ac52-8bd7d73ccfed",
   "metadata": {},
   "outputs": [
    {
     "name": "stdin",
     "output_type": "stream",
     "text": [
      "enter a n1: 100\n",
      "enter a n2: 200\n"
     ]
    },
    {
     "ename": "NameError",
     "evalue": "name 'n11' is not defined",
     "output_type": "error",
     "traceback": [
      "\u001b[1;31m---------------------------------------------------------------------------\u001b[0m",
      "\u001b[1;31mNameError\u001b[0m                                 Traceback (most recent call last)",
      "Cell \u001b[1;32mIn[30], line 10\u001b[0m\n\u001b[0;32m      7\u001b[0m \u001b[38;5;28;01mexcept\u001b[39;00m \u001b[38;5;167;01mException\u001b[39;00m \u001b[38;5;28;01mas\u001b[39;00m e:\n\u001b[0;32m      8\u001b[0m     \u001b[38;5;28mprint\u001b[39m(e)\n\u001b[1;32m---> 10\u001b[0m addition2()\n",
      "Cell \u001b[1;32mIn[30], line 5\u001b[0m, in \u001b[0;36maddition2\u001b[1;34m()\u001b[0m\n\u001b[0;32m      3\u001b[0m n1\u001b[38;5;241m=\u001b[39m\u001b[38;5;28meval\u001b[39m(\u001b[38;5;28minput\u001b[39m(\u001b[38;5;124m\"\u001b[39m\u001b[38;5;124menter a n1:\u001b[39m\u001b[38;5;124m\"\u001b[39m))\n\u001b[0;32m      4\u001b[0m n2\u001b[38;5;241m=\u001b[39m\u001b[38;5;28meval\u001b[39m(\u001b[38;5;28minput\u001b[39m(\u001b[38;5;124m\"\u001b[39m\u001b[38;5;124menter a n2:\u001b[39m\u001b[38;5;124m\"\u001b[39m))\n\u001b[1;32m----> 5\u001b[0m add1\u001b[38;5;241m=\u001b[39mn11\u001b[38;5;241m+\u001b[39mn2\n\u001b[0;32m      6\u001b[0m \u001b[38;5;28mprint\u001b[39m(\u001b[38;5;124mf\u001b[39m\u001b[38;5;124m\"\u001b[39m\u001b[38;5;124mthe addition of \u001b[39m\u001b[38;5;132;01m{\u001b[39;00mn1\u001b[38;5;132;01m}\u001b[39;00m\u001b[38;5;124m and \u001b[39m\u001b[38;5;132;01m{\u001b[39;00mn2\u001b[38;5;132;01m}\u001b[39;00m\u001b[38;5;124m is \u001b[39m\u001b[38;5;132;01m{\u001b[39;00madd1\u001b[38;5;132;01m}\u001b[39;00m\u001b[38;5;124m\"\u001b[39m)\n",
      "\u001b[1;31mNameError\u001b[0m: name 'n11' is not defined"
     ]
    }
   ],
   "source": [
    "try:\n",
    "    def addition2():\n",
    "        n1=eval(input(\"enter a n1:\"))\n",
    "        n2=eval(input(\"enter a n2:\"))\n",
    "        add1=n11+n2\n",
    "        print(f\"the addition of {n1} and {n2} is {add1}\")\n",
    "except Exception as e:\n",
    "    print(e)\n",
    "\n",
    "addition2()"
   ]
  },
  {
   "cell_type": "code",
   "execution_count": 32,
   "id": "2b0bc2ef-4df3-444f-90b7-e6b7abe87ee1",
   "metadata": {},
   "outputs": [
    {
     "name": "stdin",
     "output_type": "stream",
     "text": [
      "enter a n1: 100\n",
      "enter a n2: 200\n"
     ]
    },
    {
     "name": "stdout",
     "output_type": "stream",
     "text": [
      "name 'n11' is not defined\n"
     ]
    }
   ],
   "source": [
    "def addition3():\n",
    "    try:\n",
    "        n1=eval(input(\"enter a n1:\"))\n",
    "        n2=eval(input(\"enter a n2:\"))\n",
    "        add1=n11+n2\n",
    "        print(f\"the addition of {n1} and {n2} is {add1}\")\n",
    "    except Exception as e:\n",
    "        print(e)\n",
    "\n",
    "addition3()"
   ]
  },
  {
   "cell_type": "markdown",
   "id": "9b45056f-8145-4cd0-8309-b9aa4b71a035",
   "metadata": {},
   "source": [
    "- try-except should be written inside the function"
   ]
  },
  {
   "cell_type": "markdown",
   "id": "0a9cbad5-8556-4140-ac61-6a3e68ad1125",
   "metadata": {},
   "source": [
    "## Functions without arguements"
   ]
  },
  {
   "cell_type": "code",
   "execution_count": 4,
   "id": "bdef9a35-ed94-43d8-8f80-64ef88c7168e",
   "metadata": {},
   "outputs": [
    {
     "name": "stdin",
     "output_type": "stream",
     "text": [
      "enter a n1: 10\n",
      "enter a n2: 20\n"
     ]
    },
    {
     "name": "stdout",
     "output_type": "stream",
     "text": [
      "the addition of 10 and 20 is 30\n"
     ]
    }
   ],
   "source": [
    "def addition():\n",
    "    try:\n",
    "        n1=eval(input(\"enter a n1:\"))\n",
    "        n2=eval(input(\"enter a n2:\"))\n",
    "        add=n1+n2\n",
    "        print(f\"the addition of {n1} and {n2} is {add}\")\n",
    "    except Exception as e:\n",
    "        print(e)\n",
    "\n",
    "addition()"
   ]
  },
  {
   "cell_type": "code",
   "execution_count": null,
   "id": "3ae5fa00-c299-4daa-9436-adff75a552c9",
   "metadata": {},
   "outputs": [],
   "source": [
    "addition(<>) function without arguements"
   ]
  },
  {
   "cell_type": "code",
   "execution_count": null,
   "id": "8621cff9-bcfb-4ffa-a30c-b967fd38750a",
   "metadata": {},
   "outputs": [],
   "source": [
    "def addition():\n",
    "    try:\n",
    "        n1=eval(input(\"enter a n1:\"))\n",
    "        n2=eval(input(\"enter a n2:\"))\n",
    "        add=n1+n2\n",
    "        print(f\"the addition of {n1} and {n2} is {add}\")\n",
    "    except Exception as e:\n",
    "        print(e)\n",
    "\n",
    "addition()"
   ]
  },
  {
   "cell_type": "markdown",
   "id": "1478a646-2122-4851-84d7-b32f980697a8",
   "metadata": {},
   "source": [
    "- How many variables are there inside the function\n",
    "\n",
    "   - in above **addition** function 3 variables are there : n1,n2,add\n",
    "\n",
    "- How many input variables are there\n",
    "\n",
    "   - input variables means the variable access the values from user as input: **n1,n2**\n",
    "\n",
    "- How many output variables are there\n",
    "\n",
    "   - output variables means the variable created because of some operations: **add**\n",
    "\n",
    "- **Dont touch the output variable**"
   ]
  },
  {
   "cell_type": "code",
   "execution_count": 8,
   "id": "fc2c7cc7-0de2-4fb8-8e88-ec422f477978",
   "metadata": {},
   "outputs": [],
   "source": [
    "def addition1(n1,n2):\n",
    "    print('n1:',n1)\n",
    "    print('n2:',n2)\n",
    "    add=n1+n2\n",
    "    print(f\"the addition of {n1} and {n2} is {add}\")"
   ]
  },
  {
   "cell_type": "code",
   "execution_count": 14,
   "id": "cac49218-c2ca-490d-b8d4-d2150aee887c",
   "metadata": {},
   "outputs": [
    {
     "name": "stdout",
     "output_type": "stream",
     "text": [
      "n1: 1050\n",
      "n2: 2050\n",
      "the addition of 1050 and 2050 is 3100\n"
     ]
    }
   ],
   "source": [
    "addition1(1050,2050)"
   ]
  },
  {
   "cell_type": "code",
   "execution_count": 16,
   "id": "b8717ecf-b8fb-4f2e-b0e9-853cdd3b32e0",
   "metadata": {},
   "outputs": [],
   "source": [
    "def addition2(n1):\n",
    "    n2=eval(input(\"enter a n2:\"))\n",
    "    add=n1+n2\n",
    "    print(f\"the addition of {n1} and {n2} is {add}\")"
   ]
  },
  {
   "cell_type": "code",
   "execution_count": 22,
   "id": "30600621-6d12-40c7-8700-087cc56f17c9",
   "metadata": {},
   "outputs": [
    {
     "name": "stdin",
     "output_type": "stream",
     "text": [
      "enter a n2: 23\n"
     ]
    },
    {
     "name": "stdout",
     "output_type": "stream",
     "text": [
      "the addition of 150 and 23 is 173\n"
     ]
    }
   ],
   "source": [
    "addition2(150)"
   ]
  },
  {
   "cell_type": "code",
   "execution_count": null,
   "id": "217ca48f-a15a-497e-9439-68f801b4b474",
   "metadata": {},
   "outputs": [],
   "source": [
    "def addition():\n",
    "     n1=eval(input(\"enter a n1:\"))\n",
    "     n2=eval(input(\"enter a n2:\"))\n",
    "     add=n1+n2\n",
    "     print(f\"the addition of {n1} and {n2} is {add}\")\n",
    "\n",
    "def addition1(n1,n2):\n",
    "    print('n1:',n1)\n",
    "    print('n2:',n2)\n",
    "    add=n1+n2\n",
    "    print(f\"the addition of {n1} and {n2} is {add}\")\n",
    "\n",
    "def addition2(n1):\n",
    "    n2=eval(input(\"enter a n2:\"))\n",
    "    add=n1+n2\n",
    "    print(f\"the addition of {n1} and {n2} is {add}\")"
   ]
  },
  {
   "cell_type": "code",
   "execution_count": 28,
   "id": "18e344b7-eca9-4adb-93f2-b7070dc9157f",
   "metadata": {},
   "outputs": [
    {
     "name": "stdout",
     "output_type": "stream",
     "text": [
      "======================AVG fn starts===========================\n"
     ]
    },
    {
     "name": "stdin",
     "output_type": "stream",
     "text": [
      "enter the number 1= 100\n",
      "enter the number 2= 200\n",
      "enter the number 3= 300\n"
     ]
    },
    {
     "name": "stdout",
     "output_type": "stream",
     "text": [
      "the average of 100,200,300 is 200\n",
      "=========================AVG1 fn starts=======================\n",
      "100\n"
     ]
    },
    {
     "name": "stdin",
     "output_type": "stream",
     "text": [
      "enter the number 2= 400\n",
      "enter the number 3= 500\n"
     ]
    },
    {
     "name": "stdout",
     "output_type": "stream",
     "text": [
      "the average of 100,400,500 is 333\n",
      "=========================AVG2 fn starts=======================\n",
      "n1: 100\n",
      "n2: 200\n"
     ]
    },
    {
     "name": "stdin",
     "output_type": "stream",
     "text": [
      "enter the number 3= 600\n"
     ]
    },
    {
     "name": "stdout",
     "output_type": "stream",
     "text": [
      "the average of 100,200,600 is 300\n",
      "=========================AVG3 fn starts=======================\n",
      "n1: 100\n",
      "n2: 200\n",
      "n3: 300\n",
      "the average of 100,200,300 is 200\n"
     ]
    }
   ],
   "source": [
    "# 1)wap ask the user enter 3 numbers n1,n2,n3 from ketboard\n",
    "# calculate average\n",
    "\n",
    "print('======================AVG fn starts===========================')\n",
    "def AVG():\n",
    "    n1=eval(input(\"enter the number 1=\"))\n",
    "    n2=eval(input(\"enter the number 2=\"))\n",
    "    n3=eval(input(\"enter the number 3=\"))\n",
    "    avg=(n1+n2+n3)/3\n",
    "    avg1=round(avg)\n",
    "    print(f'the average of {n1},{n2},{n3} is {avg1}')\n",
    "\n",
    "AVG()\n",
    "\n",
    "print('=========================AVG1 fn starts=======================')\n",
    "def AVG1(n1):\n",
    "    print(n1)\n",
    "    n2=eval(input(\"enter the number 2=\"))\n",
    "    n3=eval(input(\"enter the number 3=\"))\n",
    "    avg=(n1+n2+n3)/3\n",
    "    avg1=round(avg)\n",
    "    print(f'the average of {n1},{n2},{n3} is {avg1}')\n",
    "\n",
    "AVG1(100)\n",
    "\n",
    "print('=========================AVG2 fn starts=======================')\n",
    "def AVG2(n1,n2):\n",
    "    print('n1:',n1)\n",
    "    print('n2:',n2)\n",
    "    n3=eval(input(\"enter the number 3=\"))\n",
    "    avg=(n1+n2+n3)/3\n",
    "    avg1=round(avg)\n",
    "    print(f'the average of {n1},{n2},{n3} is {avg1}')\n",
    "\n",
    "AVG2(100,200)\n",
    "\n",
    "print('=========================AVG3 fn starts=======================')\n",
    "def AVG3(n1,n2,n3):\n",
    "    print('n1:',n1)\n",
    "    print('n2:',n2)\n",
    "    print('n3:',n3)\n",
    "    avg=(n1+n2+n3)/3\n",
    "    avg1=round(avg)\n",
    "    print(f'the average of {n1},{n2},{n3} is {avg1}')\n",
    "\n",
    "AVG3(100,200,300)"
   ]
  },
  {
   "cell_type": "code",
   "execution_count": 34,
   "id": "90f64c81-a81b-46e1-90b5-8a970da18ba6",
   "metadata": {},
   "outputs": [
    {
     "name": "stdin",
     "output_type": "stream",
     "text": [
      "enter the name: python\n",
      "enter the age: 10\n",
      "enter the city: hyd\n"
     ]
    },
    {
     "name": "stdout",
     "output_type": "stream",
     "text": [
      "my name is python I am 10 years old and came from hyd\n",
      "python\n"
     ]
    },
    {
     "name": "stdin",
     "output_type": "stream",
     "text": [
      "enter the age: 10\n",
      "enter the city: hyd\n"
     ]
    },
    {
     "name": "stdout",
     "output_type": "stream",
     "text": [
      "my name is python I am 10 years old and came from hyd\n",
      "rakesh\n",
      "10\n"
     ]
    },
    {
     "name": "stdin",
     "output_type": "stream",
     "text": [
      "enter the city: hyd\n"
     ]
    },
    {
     "name": "stdout",
     "output_type": "stream",
     "text": [
      "my name is rakesh I am 10 years old and came from hyd\n",
      "rakesh\n",
      "10\n",
      "hyd\n",
      "my name is rakesh I am 10 years old and came from hyd\n"
     ]
    }
   ],
   "source": [
    "# 2)wap ask the user enter name age city\n",
    "# print my name is python im 10 years old and came from hyd\n",
    "def details():\n",
    "    name=(input(\"enter the name:\"))\n",
    "    age=eval(input(\"enter the age:\"))\n",
    "    city=(input(\"enter the city:\"))\n",
    "    print(f'my name is {name} I am {age} years old and came from {city}')\n",
    "\n",
    "details()\n",
    "\n",
    "def details1(name):\n",
    "    print(name)\n",
    "    age=eval(input(\"enter the age:\"))\n",
    "    city=(input(\"enter the city:\"))\n",
    "    print(f'my name is {name} I am {age} years old and came from {city}')\n",
    "\n",
    "details1('python')\n",
    "\n",
    "def details2(name,age):\n",
    "    print(name)\n",
    "    print(age)\n",
    "    city=(input(\"enter the city:\"))\n",
    "    print(f'my name is {name} I am {age} years old and came from {city}')\n",
    "\n",
    "details2('rakesh',10)\n",
    "\n",
    "def details3(name,age,city):\n",
    "    print(name)\n",
    "    print(age)\n",
    "    print(city)\n",
    "    print(f'my name is {name} I am {age} years old and came from {city}')\n",
    "\n",
    "details3('rakesh',10,'hyd')"
   ]
  },
  {
   "cell_type": "code",
   "execution_count": 36,
   "id": "2adfb1c5-3024-44af-8653-843171fcee79",
   "metadata": {},
   "outputs": [
    {
     "name": "stdin",
     "output_type": "stream",
     "text": [
      "enter the radius 10\n"
     ]
    },
    {
     "name": "stdout",
     "output_type": "stream",
     "text": [
      "314.0\n",
      "the area of circle is 314.0\n",
      "10\n",
      "314.0\n",
      "the area of circle is 314.0\n",
      "10\n",
      "3.14\n",
      "314.0\n",
      "the area of circle is 314.0\n"
     ]
    }
   ],
   "source": [
    "# 3)wap ask the user to enter radidus of a circle calculate area of the circle\n",
    "# var: radidus  var: pi=3.14\n",
    "# formuale: pi*radius*radius\n",
    "# print the answers using f string and format\n",
    "\n",
    "def area_of_circle():\n",
    "    radius=eval(input(\"enter the radius\"))\n",
    "    pi=3.14\n",
    "    area=(pi*radius*radius)\n",
    "    print(area)\n",
    "    print(f\"the area of circle is {area}\")\n",
    "\n",
    "area_of_circle()\n",
    "\n",
    "def area_of_circle1(radius):\n",
    "    print(radius)\n",
    "    pi=3.14\n",
    "    area=(pi*radius*radius)\n",
    "    print(area)\n",
    "    print(f\"the area of circle is {area}\")\n",
    "\n",
    "area_of_circle1(10)\n",
    "\n",
    "def area_of_circle2(radius,pi):\n",
    "    print(radius)\n",
    "    print(pi)\n",
    "    area=(pi*radius*radius)\n",
    "    print(area)\n",
    "    print(f\"the area of circle is {area}\")\n",
    "\n",
    "area_of_circle2(10,3.14)"
   ]
  },
  {
   "cell_type": "code",
   "execution_count": 38,
   "id": "aeb4f860-4541-438f-8c10-4222d17c5768",
   "metadata": {},
   "outputs": [
    {
     "name": "stdin",
     "output_type": "stream",
     "text": [
      "enter the breadth 10\n",
      "enter the height 20\n"
     ]
    },
    {
     "name": "stdout",
     "output_type": "stream",
     "text": [
      "100.0\n",
      "the area of the right angle triangle is 100.0\n",
      "10\n"
     ]
    },
    {
     "name": "stdin",
     "output_type": "stream",
     "text": [
      "enter the height 10\n"
     ]
    },
    {
     "name": "stdout",
     "output_type": "stream",
     "text": [
      "50.0\n",
      "the area of the right angle triangle is 50.0\n",
      "10\n",
      "20\n",
      "100.0\n",
      "the area of the right angle triangle is 100.0\n"
     ]
    }
   ],
   "source": [
    "# 4)wap ask the user enter breadth and height of a right angle triangle\n",
    "# calculate the area\n",
    "# var1: bredath  var2: height\n",
    "# formuale : 0.5*breadth*heigh\n",
    "\n",
    "def area_of_triangle():\n",
    "    breadth=eval(input(\"enter the breadth\"))\n",
    "    height=eval(input(\"enter the height\"))\n",
    "    area=(0.5*breadth*height)\n",
    "    print(area)\n",
    "    print(f\"the area of the right angle triangle is {area}\")\n",
    "\n",
    "area_of_triangle()\n",
    "\n",
    "def area_of_triangle1(breadth):\n",
    "    print(breadth)\n",
    "    height=eval(input(\"enter the height\"))\n",
    "    area=(0.5*breadth*height)\n",
    "    print(area)\n",
    "    print(f\"the area of the right angle triangle is {area}\")\n",
    "\n",
    "area_of_triangle1(10)\n",
    "\n",
    "def area_of_triangle2(breadth,height):\n",
    "    print(breadth)\n",
    "    print(height)\n",
    "    area=(0.5*breadth*height)\n",
    "    print(area)\n",
    "    print(f\"the area of the right angle triangle is {area}\")\n",
    "\n",
    "area_of_triangle2(10,20)"
   ]
  },
  {
   "cell_type": "code",
   "execution_count": 40,
   "id": "36cfa056-4b31-4f24-b00b-2bb86fa94d21",
   "metadata": {},
   "outputs": [
    {
     "name": "stdin",
     "output_type": "stream",
     "text": [
      "enter the bill amount 1000\n",
      "enter the tip amount 100\n"
     ]
    },
    {
     "name": "stdout",
     "output_type": "stream",
     "text": [
      "1100\n",
      "the total bill amount is 1100\n",
      "1000\n"
     ]
    },
    {
     "name": "stdin",
     "output_type": "stream",
     "text": [
      "enter the tip amount 100\n"
     ]
    },
    {
     "name": "stdout",
     "output_type": "stream",
     "text": [
      "1100\n",
      "the total bill amount is 1100\n",
      "1000\n",
      "100\n",
      "1100\n",
      "the total bill amount is 1100\n"
     ]
    }
   ],
   "source": [
    "# 5)wap ask the user the bill amount and tip amount\n",
    "#   calculate total bill\n",
    "#   var1: bill amount var2: tip amount\n",
    "#   formuale\n",
    "\n",
    "def total_amount():\n",
    "    bill_amount=eval(input(\"enter the bill amount\"))\n",
    "    tip_amount=eval(input(\"enter the tip amount\"))\n",
    "    total=(bill_amount+tip_amount)\n",
    "    print(total)\n",
    "    print(f\"the total bill amount is {total}\")\n",
    "\n",
    "total_amount()\n",
    "\n",
    "def total_amount1(bill_amount):\n",
    "    print(bill_amount)\n",
    "    tip_amount=eval(input(\"enter the tip amount\"))\n",
    "    total=(bill_amount+tip_amount)\n",
    "    print(total)\n",
    "    print(f\"the total bill amount is {total}\")\n",
    "\n",
    "total_amount1(1000)\n",
    "\n",
    "def total_amount2(bill_amount,tip_amount):\n",
    "    print(bill_amount)\n",
    "    print(tip_amount)\n",
    "    total=(bill_amount+tip_amount)\n",
    "    print(total)\n",
    "    print(f\"the total bill amount is {total}\")\n",
    "\n",
    "total_amount2(1000,100)"
   ]
  },
  {
   "cell_type": "code",
   "execution_count": 42,
   "id": "7bce31e4-e3e5-4066-bb16-3f0275170e94",
   "metadata": {},
   "outputs": [
    {
     "name": "stdin",
     "output_type": "stream",
     "text": [
      "enter the bill amount 1000\n",
      "enter the tip percent 10\n"
     ]
    },
    {
     "name": "stdout",
     "output_type": "stream",
     "text": [
      "100.0\n",
      "the total bill is 1100.0\n",
      "1000\n"
     ]
    },
    {
     "name": "stdin",
     "output_type": "stream",
     "text": [
      "enter the tip percent 10\n"
     ]
    },
    {
     "name": "stdout",
     "output_type": "stream",
     "text": [
      "100.0\n",
      "the total bill is 1100.0\n",
      "1000\n",
      "10\n",
      "100.0\n",
      "the total bill is 1100.0\n"
     ]
    }
   ],
   "source": [
    "# 6)wap ask the user the bill amount and tip percentage\n",
    "#    take tip percentage as 10\n",
    "#   calculate total bill= bill amount+ bill amount*tip per/100\n",
    "#   var1: bill amount var2: tip amount\n",
    "#    formuale\n",
    "\n",
    "def total():\n",
    "    bill_amount=eval(input(\"enter the bill amount\"))\n",
    "    tip_percent=eval(input(\"enter the tip percent\"))\n",
    "    tip_amount=bill_amount*tip_percent/100\n",
    "    print(tip_amount)\n",
    "    total=(bill_amount+bill_amount*tip_percent/100)\n",
    "    print(f'the total bill is {total}')\n",
    "\n",
    "total()\n",
    "\n",
    "def total1(bill_amount):\n",
    "    print(bill_amount)\n",
    "    tip_percent=eval(input(\"enter the tip percent\"))\n",
    "    tip_amount=bill_amount*tip_percent/100\n",
    "    print(tip_amount)\n",
    "    total=(bill_amount+bill_amount*tip_percent/100)\n",
    "    print(f'the total bill is {total}')\n",
    "\n",
    "total1(1000)\n",
    "\n",
    "def total2(bill_amount,tip_percent):\n",
    "    print(bill_amount)\n",
    "    print(tip_percent)\n",
    "    tip_amount=bill_amount*tip_percent/100\n",
    "    print(tip_amount)\n",
    "    total=(bill_amount+bill_amount*tip_percent/100)\n",
    "    print(f'the total bill is {total}')\n",
    "\n",
    "total2(1000,10)"
   ]
  },
  {
   "cell_type": "code",
   "execution_count": 44,
   "id": "9aca3980-7955-4bf0-92d6-4ecef54a01bb",
   "metadata": {},
   "outputs": [
    {
     "name": "stdin",
     "output_type": "stream",
     "text": [
      "enter the length 10\n",
      "enter the breadth 20\n"
     ]
    },
    {
     "name": "stdout",
     "output_type": "stream",
     "text": [
      "200\n",
      "the area of the rectangle is 200\n",
      "10\n"
     ]
    },
    {
     "name": "stdin",
     "output_type": "stream",
     "text": [
      "enter the breadth 20\n"
     ]
    },
    {
     "name": "stdout",
     "output_type": "stream",
     "text": [
      "200\n",
      "the area of the rectangle is 200\n",
      "10\n",
      "20\n",
      "200\n",
      "the area of the rectangle is 200\n"
     ]
    }
   ],
   "source": [
    "# 7)wap ask the length and breadth of a rectangle calculate area\n",
    "#   var1: length  var2: breadth\n",
    "#   formulae: length * breadth\n",
    "\n",
    "def area_of_rectangle():\n",
    "    length=eval(input(\"enter the length\"))\n",
    "    breadth=eval(input(\"enter the breadth\"))\n",
    "    area=(length*breadth)\n",
    "    print(area)\n",
    "    print(f\"the area of the rectangle is {area}\")\n",
    "\n",
    "area_of_rectangle()\n",
    "\n",
    "def area_of_rectangle1(length):\n",
    "    print(length)\n",
    "    breadth=eval(input(\"enter the breadth\"))\n",
    "    area=(length*breadth)\n",
    "    print(area)\n",
    "    print(f\"the area of the rectangle is {area}\")\n",
    "\n",
    "area_of_rectangle1(10)\n",
    "\n",
    "def area_of_rectangle2(length,breadth):\n",
    "    print(length)\n",
    "    print(breadth)\n",
    "    area=(length*breadth)\n",
    "    print(area)\n",
    "    print(f\"the area of the rectangle is {area}\")\n",
    "\n",
    "area_of_rectangle2(10,20)"
   ]
  },
  {
   "cell_type": "code",
   "execution_count": 48,
   "id": "49f9bf0f-7a87-4984-af4a-8e64143752de",
   "metadata": {},
   "outputs": [
    {
     "name": "stdin",
     "output_type": "stream",
     "text": [
      "enter the radius 10\n"
     ]
    },
    {
     "name": "stdout",
     "output_type": "stream",
     "text": [
      "3140.0\n",
      "the volume of the sphere is 3140.0\n",
      "10\n",
      "3140.0\n",
      "the volume of the sphere is 3140.0\n",
      "10\n",
      "3.14\n",
      "3140.0\n",
      "the volume of the sphere is 3140.0\n"
     ]
    }
   ],
   "source": [
    "# 8) wap ask the user take the radius and calculate volume of sphere\n",
    "#   formulae: pi*r**3(pi*r*r*r)\n",
    "\n",
    "def volume():\n",
    "    radius=eval(input(\"enter the radius\"))\n",
    "    pi=3.14\n",
    "    vol=(volume_of_sphere)=pi*radius**3\n",
    "    print(vol)\n",
    "    print(f\"the volume of the sphere is {vol}\")\n",
    "\n",
    "volume()\n",
    "\n",
    "def volume1(radius):\n",
    "    print(radius)\n",
    "    pi=3.14\n",
    "    vol=(volume_of_sphere)=pi*radius**3\n",
    "    print(vol)\n",
    "    print(f\"the volume of the sphere is {vol}\")\n",
    "\n",
    "volume1(10)\n",
    "\n",
    "def volume2(radius,pi):\n",
    "    print(radius)\n",
    "    print(pi)\n",
    "    vol=(volume_of_sphere)=pi*radius**3\n",
    "    print(vol)\n",
    "    print(f\"the volume of the sphere is {vol}\")\n",
    "\n",
    "volume2(10,3.14)"
   ]
  },
  {
   "cell_type": "code",
   "execution_count": 52,
   "id": "940beb1e-081c-495e-ab4c-588cfd8d58b9",
   "metadata": {},
   "outputs": [
    {
     "name": "stdout",
     "output_type": "stream",
     "text": [
      "85000\n",
      "the amount of 1000 dollars converted in rupees is 85000 INR\n",
      "85\n",
      "85000\n",
      "the amount of 1000 dollars converted in rupees is 85000 INR\n",
      "85\n",
      "100\n",
      "8500\n",
      "the amount of 1000 dollars converted in rupees is 8500 INR\n"
     ]
    }
   ],
   "source": [
    "# 9) wap ask the user enter amount in dollars convert into rupees\n",
    "#     1$=85rs\n",
    "\n",
    "def conversion():\n",
    "    rupee_to_dollars=85\n",
    "    amount_in_dollars=1000\n",
    "    conversion=rupee_to_dollars*amount_in_dollars\n",
    "    print(conversion)\n",
    "    con=round(conversion)\n",
    "    print(f'the amount of 1000 dollars converted in rupees is {con} INR')\n",
    "\n",
    "conversion()\n",
    "\n",
    "def conversion1(rupee_to_dollars):\n",
    "    print(rupee_to_dollars)\n",
    "    amount_in_dollars=1000\n",
    "    conversion=rupee_to_dollars*amount_in_dollars\n",
    "    print(conversion)\n",
    "    con=round(conversion)\n",
    "    print(f'the amount of 1000 dollars converted in rupees is {con} INR')\n",
    "\n",
    "conversion1(85)\n",
    "\n",
    "def conversion2(rupee_to_dollars,amount_in_dollars):\n",
    "    print(rupee_to_dollars)\n",
    "    print(amount_in_dollars)\n",
    "    conversion=rupee_to_dollars*amount_in_dollars\n",
    "    print(conversion)\n",
    "    con=round(conversion)\n",
    "    print(f'the amount of 1000 dollars converted in rupees is {con} INR')\n",
    "\n",
    "conversion2(85,100)"
   ]
  },
  {
   "cell_type": "code",
   "execution_count": 58,
   "id": "ba46fd8b-2cd7-4b62-b81b-e3f5c9784294",
   "metadata": {},
   "outputs": [
    {
     "name": "stdout",
     "output_type": "stream",
     "text": [
      "154.0\n",
      "the weight of 70kg converted to poundds is 154pounds\n",
      "2.2\n",
      "154.0\n",
      "the weight of 70kg converted to poundds is 154pounds\n",
      "2.2\n",
      "70\n",
      "154.0\n",
      "the weight of 70kg converted to poundds is 154pounds\n"
     ]
    }
   ],
   "source": [
    "# 10)wap ask the user enter weight in kgs convert into pounds\n",
    "#    1kg= 2.2pounds\n",
    "\n",
    "def conversion3():\n",
    "    kg_to_pounds=2.2\n",
    "    weight_in_kg=70\n",
    "    conversion=weight_in_kg*kg_to_pounds\n",
    "    print(conversion)\n",
    "    con=round(conversion)\n",
    "    print(f'the weight of 70kg converted to poundds is {con}pounds')\n",
    "\n",
    "conversion3()\n",
    "\n",
    "def conversion4(kg_to_pounds):\n",
    "    print(kg_to_pounds)\n",
    "    weight_in_kg=70\n",
    "    conversion=weight_in_kg*kg_to_pounds\n",
    "    print(conversion)\n",
    "    con=round(conversion)\n",
    "    print(f'the weight of 70kg converted to poundds is {con}pounds')\n",
    "\n",
    "conversion4(2.2)\n",
    "\n",
    "def conversion5(kg_to_pounds,weight_in_kg):\n",
    "    print(kg_to_pounds)\n",
    "    print(weight_in_kg)\n",
    "    conversion=weight_in_kg*kg_to_pounds\n",
    "    print(conversion)\n",
    "    con=round(conversion)\n",
    "    print(f'the weight of 70kg converted to poundds is {con}pounds')\n",
    "\n",
    "conversion5(2.2,70)"
   ]
  },
  {
   "cell_type": "markdown",
   "id": "37ed4477-e3ee-4333-8f04-102f3a1e2ecd",
   "metadata": {},
   "source": [
    "### Functions with default arguements"
   ]
  },
  {
   "cell_type": "code",
   "execution_count": 65,
   "id": "a9bc474e-d0c9-40b0-a437-f0c31c57ee74",
   "metadata": {},
   "outputs": [
    {
     "name": "stdin",
     "output_type": "stream",
     "text": [
      "enter the bill amount 1000\n",
      "enter the tip percent 10\n"
     ]
    },
    {
     "name": "stdout",
     "output_type": "stream",
     "text": [
      "100.0\n",
      "the total bill is 1100.0\n"
     ]
    }
   ],
   "source": [
    "def total():\n",
    "    bill_amount=eval(input(\"enter the bill amount\"))\n",
    "    tip_percent=eval(input(\"enter the tip percent\"))\n",
    "    tip_amount=bill_amount*tip_percent/100\n",
    "    print(tip_amount)\n",
    "    total=(bill_amount+bill_amount*tip_percent/100)\n",
    "    print(f'the total bill is {total}')\n",
    "\n",
    "total()"
   ]
  },
  {
   "cell_type": "code",
   "execution_count": 71,
   "id": "fe66eba9-6200-467a-b3c8-c58b723d23d2",
   "metadata": {},
   "outputs": [
    {
     "name": "stdout",
     "output_type": "stream",
     "text": [
      "200.0\n",
      "the total bill is 1200.0\n"
     ]
    }
   ],
   "source": [
    "def total1(bill_amount,tip_percent=20):\n",
    "    tip_amount=bill_amount*tip_percent/100\n",
    "    print(tip_amount)\n",
    "    total=(bill_amount+bill_amount*tip_percent/100)\n",
    "    print(f'the total bill is {total}')\n",
    "\n",
    "total1(1000)"
   ]
  },
  {
   "cell_type": "markdown",
   "id": "d5857422-ee3e-49ac-8319-96d205e4c468",
   "metadata": {},
   "source": [
    "- In the above function the tip_percent is fixed as 20\n",
    "\n",
    "- this is called default arguements\n",
    "\n",
    "- while calling the function no need to provide the tip_percent again\n",
    "\n",
    "- If you provide again the value will change"
   ]
  },
  {
   "cell_type": "code",
   "execution_count": 73,
   "id": "40750bb2-920d-4750-bcd8-d1c9ddca6961",
   "metadata": {},
   "outputs": [
    {
     "name": "stdout",
     "output_type": "stream",
     "text": [
      "n1: 10\n",
      "n2: 20\n",
      "n3: 30\n",
      "the average of 10,20,30 is 20\n"
     ]
    }
   ],
   "source": [
    "def AVG3(n1,n2,n3=30):\n",
    "    print('n1:',n1)\n",
    "    print('n2:',n2)\n",
    "    print('n3:',n3)\n",
    "    avg=(n1+n2+n3)/3\n",
    "    avg1=round(avg)\n",
    "    print(f'the average of {n1},{n2},{n3} is {avg1}')\n",
    "\n",
    "AVG3(10,20)"
   ]
  },
  {
   "cell_type": "markdown",
   "id": "7a18e080-4ea9-4297-9c2e-36f7c3c49698",
   "metadata": {},
   "source": [
    "**Note: Default arguements always at last**"
   ]
  },
  {
   "cell_type": "code",
   "execution_count": 78,
   "id": "3fd6b601-c203-49a3-bec7-1f500169bfe7",
   "metadata": {},
   "outputs": [
    {
     "name": "stdout",
     "output_type": "stream",
     "text": [
      "n1: 10\n",
      "n2: 20\n",
      "n3: 30\n",
      "the average of 10,20,30 is 20\n"
     ]
    }
   ],
   "source": [
    "def AVG3(n1,n3,n2=20):\n",
    "    print('n1:',n1)\n",
    "    print('n2:',n2)\n",
    "    print('n3:',n3)\n",
    "    avg=(n1+n2+n3)/3\n",
    "    avg1=round(avg)\n",
    "    print(f'the average of {n1},{n2},{n3} is {avg1}')\n",
    "\n",
    "AVG3(10,30)"
   ]
  },
  {
   "cell_type": "code",
   "execution_count": null,
   "id": "6df2f52d-4f61-4e1a-b741-095c365c3d20",
   "metadata": {},
   "outputs": [],
   "source": [
    "n1,n2,n3=100           # W\n",
    "n1,n2=100,n3           # F\n",
    "n1=100,n2,n3           # F\n",
    "n1,n2=100,n3=100       # W\n",
    "n1=100,n2,n3=100       # F\n",
    "n1=100,n2=100,n3       # F\n",
    "n1=100,n2=100,n3=100   # W"
   ]
  },
  {
   "cell_type": "markdown",
   "id": "f5dc0599-6cb7-49ae-920d-650dcbcbf998",
   "metadata": {},
   "source": [
    "- Function with arguements\n",
    "\n",
    "- Function without arguements\n",
    "\n",
    "- Function with default arguements"
   ]
  },
  {
   "cell_type": "code",
   "execution_count": 4,
   "id": "79df089a-bd86-41cf-9032-9b160ec68f98",
   "metadata": {},
   "outputs": [
    {
     "name": "stdout",
     "output_type": "stream",
     "text": [
      "Function without arguements\n"
     ]
    },
    {
     "name": "stdin",
     "output_type": "stream",
     "text": [
      "enter the salary 40000\n",
      "enter tax percent 10\n"
     ]
    },
    {
     "name": "stdout",
     "output_type": "stream",
     "text": [
      "the total tax pay is: 4000.0\n",
      "Function with arguements\n",
      "the total tax pay is: 1600.0\n",
      "Function with default arguements\n",
      "the total tax pay is: 2000.0\n"
     ]
    }
   ],
   "source": [
    "print(\"Function without arguements\")\n",
    "def tax_cal():\n",
    "    salary=eval(input('enter the salary'))\n",
    "    tax_per=eval(input('enter tax percent'))\n",
    "    tax_pay=salary*tax_per/100\n",
    "    print(\"the total tax pay is:\",tax_pay)\n",
    "\n",
    "tax_cal()\n",
    "\n",
    "print(\"Function with arguements\")\n",
    "def tax_cal1(salary,tax_per):\n",
    "    tax_pay=salary*tax_per/100\n",
    "    print(\"the total tax pay is:\",tax_pay)\n",
    "\n",
    "tax_cal1(20000,8)\n",
    "\n",
    "print(\"Function with default arguements\")\n",
    "def tax_cal2(salary,tax_per=10):\n",
    "    tax_pay=salary*tax_per/100\n",
    "    print(\"the total tax pay is:\",tax_pay)\n",
    "\n",
    "tax_cal2(20000)"
   ]
  },
  {
   "cell_type": "code",
   "execution_count": 12,
   "id": "aedd6657-e6e8-4f29-bf03-ea0a7f0e5821",
   "metadata": {},
   "outputs": [
    {
     "data": {
      "text/plain": [
       "(3+4j)"
      ]
     },
     "execution_count": 12,
     "metadata": {},
     "output_type": "execute_result"
    }
   ],
   "source": [
    "complex(3,4)  # real=3, imag=4  # output=3+4j"
   ]
  },
  {
   "cell_type": "code",
   "execution_count": 14,
   "id": "3850abf3-6cc5-411f-bf2d-efa7804994f1",
   "metadata": {},
   "outputs": [
    {
     "data": {
      "text/plain": [
       "(3+0j)"
      ]
     },
     "execution_count": 14,
     "metadata": {},
     "output_type": "execute_result"
    }
   ],
   "source": [
    "complex(3)    # real=3, imag=0, output= 3+0j"
   ]
  },
  {
   "cell_type": "code",
   "execution_count": 16,
   "id": "2f7d6e8d-729c-48c9-af9f-ba5ea83ce9e8",
   "metadata": {},
   "outputs": [
    {
     "data": {
      "text/plain": [
       "0j"
      ]
     },
     "execution_count": 16,
     "metadata": {},
     "output_type": "execute_result"
    }
   ],
   "source": [
    "complex()     # real=0, imag=0, output= 0+0j"
   ]
  },
  {
   "cell_type": "markdown",
   "id": "abc2675f-0666-452d-909f-566c4c6eef36",
   "metadata": {},
   "source": [
    "- Now onwards whenever you see any package\n",
    "\n",
    "- always do shift+tab inside the brackets and observe\n",
    "\n",
    "- that the functions are with or without default"
   ]
  },
  {
   "cell_type": "code",
   "execution_count": 21,
   "id": "0d6e9095-ae0d-4771-be04-13c75b54f765",
   "metadata": {},
   "outputs": [
    {
     "name": "stdout",
     "output_type": "stream",
     "text": [
      "a: 100\n",
      "b: 200\n",
      "c: 300\n",
      "the summation of 100,200 and 300 is: 600\n"
     ]
    }
   ],
   "source": [
    "def add(a,b,c):\n",
    "    print('a:',a)\n",
    "    print('b:',b)\n",
    "    print('c:',c)\n",
    "    summ=a+b+c\n",
    "    print(f'the summation of {a},{b} and {c} is: {summ}')\n",
    "\n",
    "add(100,200,300)"
   ]
  },
  {
   "cell_type": "code",
   "execution_count": 28,
   "id": "e514780c-0190-4c7f-858a-2f6f0246d508",
   "metadata": {},
   "outputs": [
    {
     "name": "stdout",
     "output_type": "stream",
     "text": [
      "a: 100\n",
      "b: 200\n",
      "c: 300\n",
      "the summation of 100,200 and 300 is: 600\n"
     ]
    }
   ],
   "source": [
    "#### case-1\n",
    "\n",
    "def add(a,b,c=300):\n",
    "    print('a:',a)\n",
    "    print('b:',b)\n",
    "    print('c:',c)\n",
    "    summ=a+b+c\n",
    "    print(f'the summation of {a},{b} and {c} is: {summ}')\n",
    "\n",
    "add(100,200)"
   ]
  },
  {
   "cell_type": "markdown",
   "id": "9b72f2fb-ef56-4f70-80ac-b62185e4dcd9",
   "metadata": {},
   "source": [
    "**case-2**"
   ]
  },
  {
   "cell_type": "code",
   "execution_count": 26,
   "id": "a94cd8f7-40a5-4910-9a80-7d1af6fb2085",
   "metadata": {},
   "outputs": [
    {
     "name": "stdout",
     "output_type": "stream",
     "text": [
      "a: 100\n",
      "b: 200\n",
      "c: 600\n",
      "the summation of 100,200 and 600 is: 900\n"
     ]
    }
   ],
   "source": [
    "def add(a,b,c=300):\n",
    "    print('a:',a)\n",
    "    print('b:',b)\n",
    "    print('c:',c)\n",
    "    summ=a+b+c\n",
    "    print(f'the summation of {a},{b} and {c} is: {summ}')\n",
    "\n",
    "add(100,200,600)"
   ]
  },
  {
   "cell_type": "markdown",
   "id": "d092011f-a904-4a04-bd7c-14499693e2a2",
   "metadata": {},
   "source": [
    "- In above case we already provided default value c=400\n",
    "\n",
    "- but while we call the function c value become=600\n",
    "\n",
    "- step-1: Define the function: while define what is the value 400\n",
    "\n",
    "- ste-2: call the function: while calling the function value become 600\n",
    "\n",
    "- ste-3: run the function: while running the function value become 600"
   ]
  },
  {
   "cell_type": "code",
   "execution_count": 31,
   "id": "5944bfc0-b5f0-42c7-964e-24b5fab4f2ab",
   "metadata": {},
   "outputs": [
    {
     "name": "stdout",
     "output_type": "stream",
     "text": [
      "a: 100\n",
      "b: 200\n",
      "c: 1000\n",
      "the summation of 100,200 and 1000 is: 1300\n"
     ]
    }
   ],
   "source": [
    "def add(a,b,c=400):\n",
    "    c=1000\n",
    "    print('a:',a)\n",
    "    print('b:',b)\n",
    "    print('c:',c)\n",
    "    summ=a+b+c\n",
    "    print(f'the summation of {a},{b} and {c} is: {summ}')\n",
    "\n",
    "add(100,200,600)\n",
    "\n",
    "# while define c=400\n",
    "# while calling c=600\n",
    "# while running c=1000"
   ]
  },
  {
   "cell_type": "code",
   "execution_count": 91,
   "id": "62fc807a-101b-42cb-80c3-05bb1a5953a6",
   "metadata": {},
   "outputs": [
    {
     "name": "stdout",
     "output_type": "stream",
     "text": [
      "a: 100\n",
      "b: 200\n",
      "c: 3000\n",
      "the summation of 100,200 and 3000 is: 3300\n"
     ]
    }
   ],
   "source": [
    "c=3000\n",
    "def add(a,b):\n",
    "    print('a:',a)\n",
    "    print('b:',b)\n",
    "    print('c:',c)\n",
    "    summ=a+b+c\n",
    "    print(f'the summation of {a},{b} and {c} is: {summ}')\n",
    "\n",
    "add(100,200)"
   ]
  },
  {
   "cell_type": "markdown",
   "id": "f42edb95-9bb1-4952-b8a6-061bbacd22c3",
   "metadata": {},
   "source": [
    "## Global variable vs local variable\n",
    "\n",
    "- The variables outside the function is called as **Global Variable**\n",
    "\n",
    "  - Global variables can be used anywhere\n",
    " \n",
    "  - global variables can be used inside the function also outside the function\n",
    " \n",
    "- The variables inside the function is called as **local variable**\n",
    "\n",
    "   - local variables can be used only inside the function\n",
    " \n",
    "   - local variables can not be used outside the function"
   ]
  },
  {
   "cell_type": "code",
   "execution_count": 37,
   "id": "835a8ec3-9a6b-4419-8140-42aad2a465f1",
   "metadata": {},
   "outputs": [
    {
     "name": "stdout",
     "output_type": "stream",
     "text": [
      "the summation of 100, 200 is : 300\n"
     ]
    }
   ],
   "source": [
    "def addition():\n",
    "    n1=100\n",
    "    n2=200\n",
    "    summ=n1+n2\n",
    "    print(f'the summation of {n1}, {n2} is : {summ}')\n",
    "\n",
    "addition()"
   ]
  },
  {
   "cell_type": "code",
   "execution_count": 41,
   "id": "22bd043e-b37c-41aa-b93c-26bcf17e1530",
   "metadata": {},
   "outputs": [
    {
     "name": "stdout",
     "output_type": "stream",
     "text": [
      "the summation of 1000, 2000 is : 3000\n"
     ]
    }
   ],
   "source": [
    "n1=1000\n",
    "n2=2000\n",
    "def addition():\n",
    "    summ=n1+n2\n",
    "    print(f'the summation of {n1}, {n2} is : {summ}')\n",
    "\n",
    "addition()"
   ]
  },
  {
   "cell_type": "code",
   "execution_count": 43,
   "id": "880a6ff4-0392-447a-a72e-928bca5aac2a",
   "metadata": {},
   "outputs": [
    {
     "data": {
      "text/plain": [
       "1000"
      ]
     },
     "execution_count": 43,
     "metadata": {},
     "output_type": "execute_result"
    }
   ],
   "source": [
    "n1"
   ]
  },
  {
   "cell_type": "code",
   "execution_count": 45,
   "id": "64043904-43d8-455b-9a6f-146249a0fc04",
   "metadata": {},
   "outputs": [
    {
     "data": {
      "text/plain": [
       "2000"
      ]
     },
     "execution_count": 45,
     "metadata": {},
     "output_type": "execute_result"
    }
   ],
   "source": [
    "n2"
   ]
  },
  {
   "cell_type": "markdown",
   "id": "6697fd9e-3f28-4a17-98f2-64b55f0c532e",
   "metadata": {},
   "source": [
    "**How to convert local variable to Global variable**\n",
    "\n",
    "- if we want to use summ variable outside the function\n",
    "\n",
    "- then initialize summ as global also using **global** keyword"
   ]
  },
  {
   "cell_type": "code",
   "execution_count": 51,
   "id": "deecac30-a537-4756-b105-3b006b99af98",
   "metadata": {},
   "outputs": [
    {
     "name": "stdout",
     "output_type": "stream",
     "text": [
      "the summation of 1000, 2000 is : 3000\n"
     ]
    }
   ],
   "source": [
    "n1=1000\n",
    "n2=2000\n",
    "def addition():\n",
    "    global summ\n",
    "    summ=n1+n2\n",
    "    print(f'the summation of {n1}, {n2} is : {summ}')\n",
    "\n",
    "addition()"
   ]
  },
  {
   "cell_type": "code",
   "execution_count": 53,
   "id": "4d3feccc-4ba6-446e-b716-6a8b841afe1c",
   "metadata": {},
   "outputs": [
    {
     "data": {
      "text/plain": [
       "3000"
      ]
     },
     "execution_count": 53,
     "metadata": {},
     "output_type": "execute_result"
    }
   ],
   "source": [
    "summ"
   ]
  },
  {
   "cell_type": "markdown",
   "id": "1b12b328-c2c1-4b92-b89a-27598454defb",
   "metadata": {},
   "source": [
    "**Unbound local error**"
   ]
  },
  {
   "cell_type": "markdown",
   "id": "38fd26a8-5787-4285-9850-5f29dc4f2f52",
   "metadata": {},
   "source": [
    "- In below example s is not initialized\n",
    "\n",
    "- we might think we will get name error\n",
    "\n",
    "- but inside the function we will get **unbound local error**"
   ]
  },
  {
   "cell_type": "code",
   "execution_count": 73,
   "id": "1b098c7e-bdf3-45f9-98cf-8a35355697f5",
   "metadata": {},
   "outputs": [
    {
     "ename": "UnboundLocalError",
     "evalue": "cannot access local variable 's' where it is not associated with a value",
     "output_type": "error",
     "traceback": [
      "\u001b[1;31m---------------------------------------------------------------------------\u001b[0m",
      "\u001b[1;31mUnboundLocalError\u001b[0m                         Traceback (most recent call last)",
      "Cell \u001b[1;32mIn[73], line 5\u001b[0m\n\u001b[0;32m      3\u001b[0m     s\u001b[38;5;241m=\u001b[39ms\u001b[38;5;241m+\u001b[39mn1\n\u001b[0;32m      4\u001b[0m     \u001b[38;5;28mprint\u001b[39m(s)\n\u001b[1;32m----> 5\u001b[0m add1()\n",
      "Cell \u001b[1;32mIn[73], line 3\u001b[0m, in \u001b[0;36madd1\u001b[1;34m()\u001b[0m\n\u001b[0;32m      1\u001b[0m \u001b[38;5;28;01mdef\u001b[39;00m \u001b[38;5;21madd1\u001b[39m():\n\u001b[0;32m      2\u001b[0m     n1\u001b[38;5;241m=\u001b[39m\u001b[38;5;241m100\u001b[39m\n\u001b[1;32m----> 3\u001b[0m     s\u001b[38;5;241m=\u001b[39ms\u001b[38;5;241m+\u001b[39mn1\n\u001b[0;32m      4\u001b[0m     \u001b[38;5;28mprint\u001b[39m(s)\n",
      "\u001b[1;31mUnboundLocalError\u001b[0m: cannot access local variable 's' where it is not associated with a value"
     ]
    }
   ],
   "source": [
    "def add1():\n",
    "    n1=100\n",
    "    s=s+n1\n",
    "    print(s)\n",
    "add1()"
   ]
  },
  {
   "cell_type": "code",
   "execution_count": 66,
   "id": "85ab9fa0-0f5b-433d-bb89-412f7e18a3b7",
   "metadata": {},
   "outputs": [
    {
     "ename": "NameError",
     "evalue": "name 'summ1' is not defined",
     "output_type": "error",
     "traceback": [
      "\u001b[1;31m---------------------------------------------------------------------------\u001b[0m",
      "\u001b[1;31mNameError\u001b[0m                                 Traceback (most recent call last)",
      "Cell \u001b[1;32mIn[66], line 5\u001b[0m\n\u001b[0;32m      3\u001b[0m     s1\u001b[38;5;241m=\u001b[39msumm1\u001b[38;5;241m+\u001b[39mn1\n\u001b[0;32m      4\u001b[0m     \u001b[38;5;28mprint\u001b[39m(s1)\n\u001b[1;32m----> 5\u001b[0m add1()\n",
      "Cell \u001b[1;32mIn[66], line 3\u001b[0m, in \u001b[0;36madd1\u001b[1;34m()\u001b[0m\n\u001b[0;32m      1\u001b[0m \u001b[38;5;28;01mdef\u001b[39;00m \u001b[38;5;21madd1\u001b[39m():\n\u001b[0;32m      2\u001b[0m     n1\u001b[38;5;241m=\u001b[39m\u001b[38;5;241m100\u001b[39m\n\u001b[1;32m----> 3\u001b[0m     s1\u001b[38;5;241m=\u001b[39msumm1\u001b[38;5;241m+\u001b[39mn1\n\u001b[0;32m      4\u001b[0m     \u001b[38;5;28mprint\u001b[39m(s1)\n",
      "\u001b[1;31mNameError\u001b[0m: name 'summ1' is not defined"
     ]
    }
   ],
   "source": [
    "def add1():\n",
    "    n1=100\n",
    "    s1=summ1+n1\n",
    "    print(s1)\n",
    "add1()"
   ]
  },
  {
   "cell_type": "code",
   "execution_count": null,
   "id": "392217ce-66a7-4c17-bd12-6345064d587e",
   "metadata": {},
   "outputs": [],
   "source": [
    "def add1():\n",
    "    n1=100\n",
    "    s=s+n1\n",
    "    print(s)\n",
    "add1()\n",
    "\n",
    "###################################\n",
    "\n",
    "def add1():\n",
    "    n1=100\n",
    "    s1=summ1+n1\n",
    "    print(s1)\n",
    "add1()\n",
    "\n",
    "###################################\n",
    "\n",
    "def add1():\n",
    "    s1=0\n",
    "    n1=100\n",
    "    s1=summ1+n1\n",
    "    print(s1)\n",
    "add1()\n",
    "\n",
    "###################################\n",
    "\n",
    "def add2():\n",
    "    summ1=0\n",
    "    n1=100\n",
    "    summ1=summ1+n1\n",
    "    print(summ1)\n",
    "add2()"
   ]
  },
  {
   "cell_type": "code",
   "execution_count": 77,
   "id": "e595cb4a-c1b1-48ef-a087-fdce77d8540d",
   "metadata": {},
   "outputs": [
    {
     "name": "stdout",
     "output_type": "stream",
     "text": [
      "100\n"
     ]
    }
   ],
   "source": [
    "def add2():\n",
    "    summ1=0\n",
    "    n1=100\n",
    "    summ1=summ1+n1\n",
    "    print(summ1)\n",
    "add2()"
   ]
  },
  {
   "cell_type": "code",
   "execution_count": 79,
   "id": "40268ed2-b620-409d-af9e-029a5a8f996d",
   "metadata": {},
   "outputs": [
    {
     "name": "stdout",
     "output_type": "stream",
     "text": [
      "200\n"
     ]
    }
   ],
   "source": [
    "def add3():\n",
    "    summ2=100\n",
    "    n1=100\n",
    "    summ2=summ2+n1\n",
    "    print(summ2)\n",
    "add3()"
   ]
  },
  {
   "cell_type": "code",
   "execution_count": 83,
   "id": "ee744e43-00a8-489a-8da4-4d59cab0b6bc",
   "metadata": {},
   "outputs": [
    {
     "name": "stdout",
     "output_type": "stream",
     "text": [
      "60 20.0\n"
     ]
    }
   ],
   "source": [
    "def avg(a,b,c):\n",
    "    ADD=a+b+c\n",
    "    AVG1=ADD/3\n",
    "    print(ADD,AVG1)\n",
    "avg(10,20,30)"
   ]
  },
  {
   "cell_type": "code",
   "execution_count": 85,
   "id": "997089be-dc57-4153-89fd-41243b6c808d",
   "metadata": {},
   "outputs": [
    {
     "name": "stdout",
     "output_type": "stream",
     "text": [
      "60 20.0\n"
     ]
    }
   ],
   "source": [
    "def avg(a,b,c):\n",
    "    global ADD,AVG1\n",
    "    ADD=a+b+c\n",
    "    AVG1=ADD/3\n",
    "    print(ADD,AVG1)\n",
    "avg(10,20,30)"
   ]
  },
  {
   "cell_type": "code",
   "execution_count": 87,
   "id": "133c1a30-2afe-4ae0-a1fd-f5edc438ac27",
   "metadata": {},
   "outputs": [
    {
     "data": {
      "text/plain": [
       "20.0"
      ]
     },
     "execution_count": 87,
     "metadata": {},
     "output_type": "execute_result"
    }
   ],
   "source": [
    "AVG1"
   ]
  },
  {
   "cell_type": "code",
   "execution_count": 89,
   "id": "b40489f7-8c3d-4510-90c7-de70a93513e3",
   "metadata": {},
   "outputs": [
    {
     "data": {
      "text/plain": [
       "60"
      ]
     },
     "execution_count": 89,
     "metadata": {},
     "output_type": "execute_result"
    }
   ],
   "source": [
    "ADD"
   ]
  },
  {
   "cell_type": "code",
   "execution_count": 1,
   "id": "5a818358-d640-483b-9d7c-4d6905a0499a",
   "metadata": {},
   "outputs": [
    {
     "name": "stdout",
     "output_type": "stream",
     "text": [
      "a: 100\n",
      "b: 200\n",
      "c: 5000\n",
      "the summation of 100,200 and 5000 is: 5300\n"
     ]
    }
   ],
   "source": [
    "c=3000\n",
    "def add(a,b):\n",
    "    print('a:',a)\n",
    "    print('b:',b)\n",
    "    print('c:',c)\n",
    "    summ=a+b+c\n",
    "    print(f'the summation of {a},{b} and {c} is: {summ}')\n",
    "c=5000\n",
    "add(100,200)\n",
    "\n",
    "# step-1 : c=3000\n",
    "# step-2 : define the fn\n",
    "# step-3 : c=5000\n",
    "# step-4 : call the fn\n",
    "# step-5 : run th fn"
   ]
  },
  {
   "cell_type": "code",
   "execution_count": 3,
   "id": "f20b1607-0484-4cf0-bbdc-d1fa2c041196",
   "metadata": {},
   "outputs": [
    {
     "name": "stdout",
     "output_type": "stream",
     "text": [
      "[9, 27]\n"
     ]
    },
    {
     "ename": "NameError",
     "evalue": "name 'output' is not defined",
     "output_type": "error",
     "traceback": [
      "\u001b[1;31m---------------------------------------------------------------------------\u001b[0m",
      "\u001b[1;31mNameError\u001b[0m                                 Traceback (most recent call last)",
      "Cell \u001b[1;32mIn[3], line 6\u001b[0m\n\u001b[0;32m      3\u001b[0m res \u001b[38;5;241m=\u001b[39m fun(\u001b[38;5;241m3\u001b[39m)\n\u001b[0;32m      4\u001b[0m \u001b[38;5;28mprint\u001b[39m(res)\n\u001b[1;32m----> 6\u001b[0m output [\u001b[38;5;241m9\u001b[39m,\u001b[38;5;241m27\u001b[39m]\n",
      "\u001b[1;31mNameError\u001b[0m: name 'output' is not defined"
     ]
    }
   ],
   "source": [
    "def fun(n):\n",
    "     return [n**2,n**3]\n",
    "res = fun(3)\n",
    "print(res)\n",
    "\n",
    "output [9,27] "
   ]
  },
  {
   "cell_type": "code",
   "execution_count": null,
   "id": "a243f2c1-cfa6-4256-8518-da38002c1c19",
   "metadata": {},
   "outputs": [],
   "source": [
    "# WAP ssk the user to enter the number and check even or odd\n",
    "# function without arguments with default\n",
    "\n",
    "def even_odd():\n",
    "    num=eval(input(\"enter a number:\"))\n",
    "    if num%2==0:\n",
    "      print\n",
    "        "
   ]
  },
  {
   "cell_type": "markdown",
   "id": "2728331d-1c3b-4e79-9f15-e182122546f6",
   "metadata": {},
   "source": [
    "** parameter vs variables**\n",
    "- parametr are are called as arguments\n",
    " - this is always inside the function brackets\n",
    "-varaibles either outside the function or inside the function`  "
   ]
  },
  {
   "cell_type": "markdown",
   "id": "0096e3fc-0d75-42a3-ba0b-c82ed9868ef4",
   "metadata": {},
   "source": [
    "**return**\n",
    "- return means function is giving something\n",
    "- we know that local variables cannot use outside the function\n",
    "- in order to use local variables outside the function,we we have two methods\n",
    "      -global\n",
    "      -retuen"
   ]
  },
  {
   "cell_type": "code",
   "execution_count": 12,
   "id": "6ca109cc-1ca8-4d94-b6c8-b7ce6d7d3396",
   "metadata": {},
   "outputs": [
    {
     "data": {
      "text/plain": [
       "30"
      ]
     },
     "execution_count": 12,
     "metadata": {},
     "output_type": "execute_result"
    }
   ],
   "source": [
    "def add():\n",
    "    a=10\n",
    "    b=20\n",
    "    c=a+b\n",
    "    return(c)\n",
    "add()    \n",
    "    "
   ]
  },
  {
   "cell_type": "code",
   "execution_count": 15,
   "id": "c6539271-cf7b-4888-aa00-44706dbda2d9",
   "metadata": {},
   "outputs": [
    {
     "data": {
      "text/plain": [
       "5000"
      ]
     },
     "execution_count": 15,
     "metadata": {},
     "output_type": "execute_result"
    }
   ],
   "source": [
    "c"
   ]
  },
  {
   "cell_type": "code",
   "execution_count": 22,
   "id": "38d65dbf-f827-4e85-a831-fb860f64ba1c",
   "metadata": {},
   "outputs": [],
   "source": [
    "def add():\n",
    "    a=10\n",
    "    b=20\n",
    "    c=a+b\n",
    "    return(a,c)\n",
    "a,c=add()   "
   ]
  },
  {
   "cell_type": "code",
   "execution_count": 25,
   "id": "5c80dbec-d7c7-4469-9f91-bd5f9941aa8f",
   "metadata": {},
   "outputs": [
    {
     "data": {
      "text/plain": [
       "(10, 30)"
      ]
     },
     "execution_count": 25,
     "metadata": {},
     "output_type": "execute_result"
    }
   ],
   "source": [
    "a,c"
   ]
  },
  {
   "cell_type": "code",
   "execution_count": 31,
   "id": "5bb205e5-ae5f-4e23-ae51-51b715e82529",
   "metadata": {},
   "outputs": [
    {
     "name": "stdout",
     "output_type": "stream",
     "text": [
      "60\n",
      "20.0\n"
     ]
    }
   ],
   "source": [
    "def avg(a,b,c):\n",
    "    summ=a+b+c\n",
    "    AVG=summ/3\n",
    "    return(summ,AVG)\n",
    "\n",
    "summ,AVG=avg(10,20,30)\n",
    "print(summ)\n",
    "print(AVG)"
   ]
  },
  {
   "cell_type": "code",
   "execution_count": 56,
   "id": "e1f56cac-72cd-468c-b226-262ac421dc1d",
   "metadata": {},
   "outputs": [
    {
     "name": "stdin",
     "output_type": "stream",
     "text": [
      "enter a number: 6\n"
     ]
    }
   ],
   "source": [
    "def even_odd():\n",
    "    num=eval(input(\"enter a number:\"))\n",
    "    if num%2==0:\n",
    "      return(f\"{num} is even number\")\n",
    "    else :\n",
    "        return(f\"{num}is odd number\")\n",
    "num1=even_odd()"
   ]
  },
  {
   "cell_type": "markdown",
   "id": "71440f93-11ba-44ed-82e4-97a410c9a99c",
   "metadata": {},
   "source": [
    "**function in function**"
   ]
  },
  {
   "cell_type": "code",
   "execution_count": 63,
   "id": "1fe8e4ea-38e1-4c83-8c0f-470351db0be4",
   "metadata": {},
   "outputs": [
    {
     "name": "stdout",
     "output_type": "stream",
     "text": [
      "hello good morning\n",
      "hello good night\n"
     ]
    }
   ],
   "source": [
    "def greet1():\n",
    "    print('hello good morning')\n",
    "    \n",
    "def greet2():\n",
    "    print('hello good night')\n",
    "greet1()\n",
    "greet2()"
   ]
  },
  {
   "cell_type": "code",
   "execution_count": 67,
   "id": "c8122e2f-88e7-44bc-bc75-29ef825ea224",
   "metadata": {},
   "outputs": [
    {
     "name": "stdout",
     "output_type": "stream",
     "text": [
      "hello good night\n",
      "hello good morning\n"
     ]
    }
   ],
   "source": [
    "def greet1():\n",
    "    print('hello good morning')\n",
    "    \n",
    "def greet2():\n",
    "    print('hello good night')\n",
    "    greet1()\n",
    "greet2()"
   ]
  },
  {
   "cell_type": "code",
   "execution_count": 71,
   "id": "ddde5fc8-c4a8-43ac-9554-7a60eebfcb89",
   "metadata": {},
   "outputs": [
    {
     "name": "stdout",
     "output_type": "stream",
     "text": [
      "hello good morning\n",
      "hello good night\n"
     ]
    }
   ],
   "source": [
    "def greet1():\n",
    "    print('hello good morning')\n",
    "    greet2()\n",
    "def greet2():\n",
    "    print('hello good night')\n",
    "greet1()\n"
   ]
  },
  {
   "cell_type": "code",
   "execution_count": 87,
   "id": "202f4548-a8f2-4054-a35d-c83936d414f2",
   "metadata": {},
   "outputs": [
    {
     "name": "stdout",
     "output_type": "stream",
     "text": [
      "i dont know what im doing\n"
     ]
    }
   ],
   "source": [
    "def greet3():\n",
    "    print('i dont know what im doing')\n",
    "    \n",
    "greet3() "
   ]
  },
  {
   "cell_type": "markdown",
   "id": "29b4529b-3331-4387-bb3a-a913c239ceaa",
   "metadata": {},
   "source": [
    "# Q1 factioral recursion 5! =5*4*3*2*1*\n",
    "# 2  calculator \n",
    "\n",
    "# step 1;create 4 fumctions\n",
    "#def add(a,b):\n",
    "#     return(a+b)\n",
    "#def multiplication\n",
    "#def divison\n",
    "#def subtraction\n",
    "\n",
    "print ('entyer 1 for add sub and so on')\n",
    "\n",
    "def main():\n",
    "     option=eval(input('enter between 1 to 4'))\n",
    "    if option==1:\n",
    "        a=\n",
    "        b=\n",
    "        add()\n",
    "        return\n",
    "   elif option==2:\n",
    "        a=\n",
    "        b=\n",
    "        mul()\n",
    "        return\n",
    "\n"
   ]
  },
  {
   "cell_type": "code",
   "execution_count": 111,
   "id": "e8126aa4-6924-403e-8716-3ad889a12be5",
   "metadata": {},
   "outputs": [
    {
     "data": {
      "text/plain": [
       "120"
      ]
     },
     "execution_count": 111,
     "metadata": {},
     "output_type": "execute_result"
    }
   ],
   "source": [
    "# Q1 factioral recursion 5! =5*4*3*2*1*\n",
    "\n",
    "def factorial(n):\n",
    "    if n==0:\n",
    "        return(1)\n",
    "    else:\n",
    "        return(n*factorial(n-1))\n",
    "factorial(5)      \n",
    "        "
   ]
  },
  {
   "cell_type": "code",
   "execution_count": 15,
   "id": "75951980-d977-4663-91d4-cb1d1753d80d",
   "metadata": {},
   "outputs": [
    {
     "name": "stdout",
     "output_type": "stream",
     "text": [
      "enter 1 for addition, 2 for subtraction, 3 for multiplication and 4 for division\n"
     ]
    }
   ],
   "source": [
    "# 2  calculator \n",
    "\n",
    "def add(a,b):\n",
    "    return(a+b)\n",
    "\n",
    "def sub(a,b):\n",
    "    return(a-b)\n",
    "\n",
    "def mul(a,b):\n",
    "    return(a*b)\n",
    "\n",
    "def div(a,b):\n",
    "    return(a/b)\n",
    "\n",
    "print(\"enter 1 for addition, 2 for subtraction, 3 for multiplication and 4 for division\")\n",
    "\n",
    "def main():\n",
    "    option=eval(input(\"Enter a number between 1 to 4:\"))\n",
    "    if option==1: \n",
    "        a=eval(input(\"enter first number:\"))\n",
    "        b=eval(input(\"enter second number:\"))\n",
    "        return(add(a,b))\n",
    "    elif option==2:\n",
    "        a=eval(input(\"enter first number:\"))\n",
    "        b=eval(input(\"enter second number:\"))\n",
    "        return(sub(a,b))\n",
    "    elif option==3:\n",
    "        a=eval(input(\"enter first number:\"))\n",
    "        b=eval(input(\"enter second number:\"))\n",
    "        return(mul(a,b))\n",
    "    elif option==4:\n",
    "        a=eval(input(\"enter first number:\"))\n",
    "        b=eval(input(\"enter second number:\"))\n",
    "        return(div(a,b))   "
   ]
  },
  {
   "cell_type": "markdown",
   "id": "9209ced7-8ec1-42f4-a364-b9c321f1927c",
   "metadata": {},
   "source": [
    "main()"
   ]
  },
  {
   "cell_type": "code",
   "execution_count": null,
   "id": "44c9ac00-4cfd-4ce5-85a8-bf73e8031248",
   "metadata": {},
   "outputs": [],
   "source": [
    "inheritence,polymosrphism,abstaraction,and encapsulation"
   ]
  },
  {
   "cell_type": "code",
   "execution_count": 7,
   "id": "2bfce882-c234-429b-ac37-32a45e391957",
   "metadata": {},
   "outputs": [
    {
     "ename": "NameError",
     "evalue": "name 'n' is not defined",
     "output_type": "error",
     "traceback": [
      "\u001b[1;31m---------------------------------------------------------------------------\u001b[0m",
      "\u001b[1;31mNameError\u001b[0m                                 Traceback (most recent call last)",
      "Cell \u001b[1;32mIn[7], line 6\u001b[0m\n\u001b[0;32m      3\u001b[0m     tens \u001b[38;5;241m=\u001b[39m [\u001b[38;5;124m\"\u001b[39m\u001b[38;5;124m\"\u001b[39m, \u001b[38;5;124m\"\u001b[39m\u001b[38;5;124m\"\u001b[39m, \u001b[38;5;124m\"\u001b[39m\u001b[38;5;124mtwenty\u001b[39m\u001b[38;5;124m\"\u001b[39m, \u001b[38;5;124m\"\u001b[39m\u001b[38;5;124mthirty\u001b[39m\u001b[38;5;124m\"\u001b[39m, \u001b[38;5;124m\"\u001b[39m\u001b[38;5;124mfourty\u001b[39m\u001b[38;5;124m\"\u001b[39m, \u001b[38;5;124m\"\u001b[39m\u001b[38;5;124mfifty\u001b[39m\u001b[38;5;124m\"\u001b[39m, \u001b[38;5;124m\"\u001b[39m\u001b[38;5;124msixty\u001b[39m\u001b[38;5;124m\"\u001b[39m, \u001b[38;5;124m\"\u001b[39m\u001b[38;5;124mseventy\u001b[39m\u001b[38;5;124m\"\u001b[39m, \u001b[38;5;124m\"\u001b[39m\u001b[38;5;124meighty\u001b[39m\u001b[38;5;124m\"\u001b[39m, \u001b[38;5;124m\"\u001b[39m\u001b[38;5;124mninghty\u001b[39m\u001b[38;5;124m\"\u001b[39m]\n\u001b[0;32m      4\u001b[0m     teens \u001b[38;5;241m=\u001b[39m[\u001b[38;5;124m\"\u001b[39m\u001b[38;5;124mten\u001b[39m\u001b[38;5;124m\"\u001b[39m, \u001b[38;5;124m\"\u001b[39m\u001b[38;5;124meleven\u001b[39m\u001b[38;5;124m\"\u001b[39m, \u001b[38;5;124m\"\u001b[39m\u001b[38;5;124mtwelve\u001b[39m\u001b[38;5;124m\"\u001b[39m, \u001b[38;5;124m\"\u001b[39m\u001b[38;5;124mthirteen\u001b[39m\u001b[38;5;124m\"\u001b[39m, \u001b[38;5;124m\"\u001b[39m\u001b[38;5;124mfourteen\u001b[39m\u001b[38;5;124m\"\u001b[39m, \u001b[38;5;124m\"\u001b[39m\u001b[38;5;124mfifteen\u001b[39m\u001b[38;5;124m\"\u001b[39m, \u001b[38;5;124m\"\u001b[39m\u001b[38;5;124msixteen\u001b[39m\u001b[38;5;124m\"\u001b[39m, \u001b[38;5;124m\"\u001b[39m\u001b[38;5;124mseventeen\u001b[39m\u001b[38;5;124m\"\u001b[39m, \u001b[38;5;124m\"\u001b[39m\u001b[38;5;124meighteen\u001b[39m\u001b[38;5;124m\"\u001b[39m, \u001b[38;5;124m\"\u001b[39m\u001b[38;5;124mnineteen\u001b[39m\u001b[38;5;124m\"\u001b[39m]\n\u001b[1;32m----> 6\u001b[0m \u001b[38;5;28;01mif\u001b[39;00m \u001b[38;5;241m10\u001b[39m \u001b[38;5;241m<\u001b[39m\u001b[38;5;241m=\u001b[39m n \u001b[38;5;241m<\u001b[39m \u001b[38;5;241m20\u001b[39m:\n\u001b[0;32m      7\u001b[0m      teens[n\u001b[38;5;241m-\u001b[39m\u001b[38;5;241m10\u001b[39m]\n\u001b[0;32m      8\u001b[0m \u001b[38;5;28;01melif\u001b[39;00m n \u001b[38;5;241m<\u001b[39m \u001b[38;5;241m10\u001b[39m:\n",
      "\u001b[1;31mNameError\u001b[0m: name 'n' is not defined"
     ]
    }
   ],
   "source": [
    "def number_to_words(n):\n",
    "    ones = [\"\", \"one\" ,\"two\", \"three\", \"four\", \"five\", \"six\", \"seven\", \"eight\", \"nine\"]\n",
    "    tens = [\"\", \"\", \"twenty\", \"thirty\", \"fourty\", \"fifty\", \"sixty\", \"seventy\", \"eighty\", \"ninghty\"]\n",
    "    teens =[\"ten\", \"eleven\", \"twelve\", \"thirteen\", \"fourteen\", \"fifteen\", \"sixteen\", \"seventeen\", \"eighteen\", \"nineteen\"]\n",
    "    \n",
    "if 10 <= n < 20:\n",
    "     teens[n-10]\n",
    "elif n < 10:\n",
    "     ones[n]\n",
    "else: \n",
    "     tens[n // 10] + (\"-\"+ ones[n % 10] if n % 10 != 0 else \"\")\n",
    "print(number_to_words(55))\n",
    "                                  "
   ]
  },
  {
   "cell_type": "code",
   "execution_count": 3,
   "id": "6e1b3768-9952-4b1a-820b-9f6047efae7b",
   "metadata": {},
   "outputs": [
    {
     "ename": "SyntaxError",
     "evalue": "invalid syntax (1282625803.py, line 10)",
     "output_type": "error",
     "traceback": [
      "\u001b[1;36m  Cell \u001b[1;32mIn[3], line 10\u001b[1;36m\u001b[0m\n\u001b[1;33m    else:\u001b[0m\n\u001b[1;37m    ^\u001b[0m\n\u001b[1;31mSyntaxError\u001b[0m\u001b[1;31m:\u001b[0m invalid syntax\n"
     ]
    }
   ],
   "source": [
    "def number_to_words(n):\n",
    "    ones = [\"\", \"one\" ,\"two\", \"three\", \"four\", \"five\", \"six\", \"seven\", \"eight\", \"nine\"]\n",
    "    teens =[\"\", \"eleven\", \"twelve\", \"thirteen\", \"fourteen\", \"fifteen\", \"sixteen\", \"seventeen\", \"eighteen\", \"nineteen\"]\n",
    "    tens = [\"\", \"\", \"twenty\", \"thirty\", \"fourty\", \"fifty\", \"sixty\", \"seventy\", \"eighty\", \"ninghty\"]\n",
    "number = 56\n",
    "if 10 < number < 20:\n",
    "    eords = teens[number - 10]\n",
    "else:\n",
    "    tens_part = tens[number - 10]\n",
    "else:\n",
    "     tens_part = tens[number - 10\n",
    "     ones_part = ones[ % 10]\n",
    "     words = tens_part + (\"-\" + ones_part\n",
    "if ones_part else \"\")\n",
    "    print(words)\n",
    "    \n"
   ]
  },
  {
   "cell_type": "code",
   "execution_count": null,
   "id": "abdbd8a8-1039-4ca7-8ecf-78e81bd0636d",
   "metadata": {},
   "outputs": [],
   "source": []
  }
 ],
 "metadata": {
  "kernelspec": {
   "display_name": "Python [conda env:base] *",
   "language": "python",
   "name": "conda-base-py"
  },
  "language_info": {
   "codemirror_mode": {
    "name": "ipython",
    "version": 3
   },
   "file_extension": ".py",
   "mimetype": "text/x-python",
   "name": "python",
   "nbconvert_exporter": "python",
   "pygments_lexer": "ipython3",
   "version": "3.12.7"
  }
 },
 "nbformat": 4,
 "nbformat_minor": 5
}
