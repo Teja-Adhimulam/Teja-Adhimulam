{
 "cells": [
  {
   "cell_type": "markdown",
   "id": "6d10b3f0-58ca-4449-bdaf-88875885f3e8",
   "metadata": {},
   "source": [
    "**List Comprehension 4 methods**\n",
    "\n",
    "# Method1: [output  forloop]\n",
    "# Method2: [Output forloop ifcondition]\n",
    "# Method3: [ifout ifcond else elseout forloop]\n",
    "# Method4: [ifout ifcond else elifout elifcond else elseout forloop]"
   ]
  },
  {
   "cell_type": "markdown",
   "id": "a518ba89-4137-463b-9539-242eb18973f1",
   "metadata": {},
   "source": [
    "**Lambda functions**\n",
    "\n",
    "- lambda functions represents functions in a single line\n",
    "\n",
    "- it is similar analogy to list comprehension\n",
    "\n",
    "- to reduce the time complexity will go for lambda functions"
   ]
  },
  {
   "cell_type": "markdown",
   "id": "1015cb6d-89d9-4124-a50d-a9c2a9937fd5",
   "metadata": {},
   "source": [
    "$pattern-1$: **function with one argument**"
   ]
  },
  {
   "cell_type": "code",
   "execution_count": 1,
   "id": "b15984ab-ebfe-4312-aeea-e927569aee22",
   "metadata": {},
   "outputs": [
    {
     "data": {
      "text/plain": [
       "100"
      ]
     },
     "execution_count": 1,
     "metadata": {},
     "output_type": "execute_result"
    }
   ],
   "source": [
    "def mul(a):\n",
    "    return(a*a)\n",
    "ans=mul(10)\n",
    "ans"
   ]
  },
  {
   "cell_type": "code",
   "execution_count": null,
   "id": "8a47016a-d162-4584-936e-dd2b331944e1",
   "metadata": {},
   "outputs": [],
   "source": [
    "# syntax\n",
    "# function_name= lambda <argument> : <return output>\n",
    "# in the above\n",
    "# function_name = mul\n",
    "# argument name = a\n",
    "# return output = a*a"
   ]
  },
  {
   "cell_type": "code",
   "execution_count": 3,
   "id": "dfee1bf6-4e8e-4f1c-814f-bd885abaa817",
   "metadata": {},
   "outputs": [
    {
     "data": {
      "text/plain": [
       "400"
      ]
     },
     "execution_count": 3,
     "metadata": {},
     "output_type": "execute_result"
    }
   ],
   "source": [
    "mul=lambda a : a*a\n",
    "mul(20)"
   ]
  },
  {
   "cell_type": "code",
   "execution_count": 4,
   "id": "0f250bcc-f77c-41cb-b848-3a08d8927b10",
   "metadata": {},
   "outputs": [
    {
     "data": {
      "text/plain": [
       "1000000"
      ]
     },
     "execution_count": 4,
     "metadata": {},
     "output_type": "execute_result"
    }
   ],
   "source": [
    "def cube(a):\n",
    "    return(a*a*a)\n",
    "cube(100)"
   ]
  },
  {
   "cell_type": "code",
   "execution_count": 5,
   "id": "de15c8fc-9c02-43be-88fe-b8f4c1d890c3",
   "metadata": {},
   "outputs": [
    {
     "data": {
      "text/plain": [
       "8000"
      ]
     },
     "execution_count": 5,
     "metadata": {},
     "output_type": "execute_result"
    }
   ],
   "source": [
    "cube= lambda a : a*a*a\n",
    "cube(20)"
   ]
  },
  {
   "cell_type": "markdown",
   "id": "7b4ea98c-dcd2-4cd6-9a9f-0ed6857e0b7d",
   "metadata": {},
   "source": [
    "$pattern-2$: **funtion with two arguments**"
   ]
  },
  {
   "cell_type": "code",
   "execution_count": 7,
   "id": "37ba97e0-937c-49de-97d2-1ca080a92eaf",
   "metadata": {},
   "outputs": [
    {
     "data": {
      "text/plain": [
       "30"
      ]
     },
     "execution_count": 7,
     "metadata": {},
     "output_type": "execute_result"
    }
   ],
   "source": [
    "def add(a,b):\n",
    "    return(a+b)\n",
    "\n",
    "add(10,20)"
   ]
  },
  {
   "cell_type": "code",
   "execution_count": null,
   "id": "66550e0f-2b76-452c-939c-fd3020bc680d",
   "metadata": {},
   "outputs": [],
   "source": [
    "# syntax\n",
    "# function name= lambda arg1,arg2 : return_statement"
   ]
  },
  {
   "cell_type": "code",
   "execution_count": 8,
   "id": "c9cd8674-94eb-4198-bc2d-425427e6f02c",
   "metadata": {},
   "outputs": [
    {
     "data": {
      "text/plain": [
       "110"
      ]
     },
     "execution_count": 8,
     "metadata": {},
     "output_type": "execute_result"
    }
   ],
   "source": [
    "add=lambda a,b : a+b\n",
    "add(10,100)"
   ]
  },
  {
   "cell_type": "markdown",
   "id": "8111d8de-38c7-4b70-a8f8-48fe9060680a",
   "metadata": {},
   "source": [
    "$pattern-3$: **Three arguments**"
   ]
  },
  {
   "cell_type": "code",
   "execution_count": 12,
   "id": "4d790707-ce05-4814-a5b2-16e167c2e0b3",
   "metadata": {},
   "outputs": [
    {
     "data": {
      "text/plain": [
       "(18, 2)"
      ]
     },
     "execution_count": 12,
     "metadata": {},
     "output_type": "execute_result"
    }
   ],
   "source": [
    "def avg(a,b,c):\n",
    "    return(round((a+b+c)/3),2)\n",
    "\n",
    "avg(9,23,21)"
   ]
  },
  {
   "cell_type": "code",
   "execution_count": 16,
   "id": "e4a3241f-0c12-4615-a1e3-32c9cf09324f",
   "metadata": {},
   "outputs": [
    {
     "data": {
      "text/plain": [
       "150.67"
      ]
     },
     "execution_count": 16,
     "metadata": {},
     "output_type": "execute_result"
    }
   ],
   "source": [
    "avg= lambda a,b,c : round((a+b+c)/3,2)\n",
    "avg(199,232,21)"
   ]
  },
  {
   "cell_type": "markdown",
   "id": "3910e9ad-37ee-4d5c-8cef-5a3099b43fc3",
   "metadata": {},
   "source": [
    "$pattern-4$: **Default arguments**"
   ]
  },
  {
   "cell_type": "code",
   "execution_count": 17,
   "id": "853a0e09-9a19-4e1d-868b-282686a89903",
   "metadata": {},
   "outputs": [
    {
     "data": {
      "text/plain": [
       "150.67"
      ]
     },
     "execution_count": 17,
     "metadata": {},
     "output_type": "execute_result"
    }
   ],
   "source": [
    "avg= lambda a,b,c=21 : round((a+b+c)/3,2)\n",
    "avg(199,232)"
   ]
  },
  {
   "cell_type": "code",
   "execution_count": null,
   "id": "6e9956d8-faa5-46a3-9e5a-76852b160e5b",
   "metadata": {},
   "outputs": [],
   "source": [
    "# take -5 min \n",
    "# do all together quickly\n",
    "mul= lambda a : a*a\n",
    "add= lambda a,b : a+b\n",
    "avg= lambda a,b,c : round((a+b+c)/3,2)\n",
    "avg= lambda a,b,c=21 : round((a+b+c)/3,2)"
   ]
  },
  {
   "cell_type": "markdown",
   "id": "017eb5de-82b5-4ba1-8657-94360c1abdba",
   "metadata": {},
   "source": [
    "**Pattern-5**\n",
    "\n",
    "- List cases"
   ]
  },
  {
   "cell_type": "code",
   "execution_count": 18,
   "id": "a0683ce8-c431-4e0d-b08f-f87beb95bd14",
   "metadata": {},
   "outputs": [],
   "source": [
    "input=['hyd','benguluru','mumbai','pune']\n",
    "# output=['Hyd','Benguluru','Mumbai','Pune']"
   ]
  },
  {
   "cell_type": "code",
   "execution_count": 21,
   "id": "4460089a-e662-4398-b6e2-eea585fef720",
   "metadata": {},
   "outputs": [
    {
     "data": {
      "text/plain": [
       "['Hyd', 'Benguluru', 'Mumbai', 'Pune']"
      ]
     },
     "execution_count": 21,
     "metadata": {},
     "output_type": "execute_result"
    }
   ],
   "source": [
    "output=[]\n",
    "for i in input:\n",
    "    output.append(i.capitalize())\n",
    "output\n",
    "###############################################\n",
    "output=[i.capitalize() for i in input]"
   ]
  },
  {
   "cell_type": "code",
   "execution_count": 22,
   "id": "550e4fde-0371-4e29-a7da-5e7fbb2ce1a7",
   "metadata": {},
   "outputs": [
    {
     "data": {
      "text/plain": [
       "<function __main__.<lambda>(i)>"
      ]
     },
     "execution_count": 22,
     "metadata": {},
     "output_type": "execute_result"
    }
   ],
   "source": [
    "#step-1: lambda <variabe> : <output>\n",
    "lambda i : i.capitalize()"
   ]
  },
  {
   "cell_type": "code",
   "execution_count": 23,
   "id": "d4ebecfb-d513-417e-9374-b0c4e2c2ca1d",
   "metadata": {},
   "outputs": [
    {
     "data": {
      "text/plain": [
       "(<function __main__.<lambda>(i)>, ['hyd', 'benguluru', 'mumbai', 'pune'])"
      ]
     },
     "execution_count": 23,
     "metadata": {},
     "output_type": "execute_result"
    }
   ],
   "source": [
    "# Qn: from where we are getting the i\n",
    "# ans : we are retriving i from a list : iterator\n",
    "\n",
    "#step-2: lambda <variabe> : <output>, <iterator>\n",
    "lambda i : i.capitalize(),input"
   ]
  },
  {
   "cell_type": "markdown",
   "id": "283f9296-869d-408e-b9ac-cae881ff9b7d",
   "metadata": {},
   "source": [
    "**map**"
   ]
  },
  {
   "cell_type": "code",
   "execution_count": 24,
   "id": "043d3186-527e-4935-a06a-1763f4bcfef9",
   "metadata": {},
   "outputs": [
    {
     "data": {
      "text/plain": [
       "<map at 0x23e5c310790>"
      ]
     },
     "execution_count": 24,
     "metadata": {},
     "output_type": "execute_result"
    }
   ],
   "source": [
    "#step-1: lambda <variabe> : <output>\n",
    "#step-2: lambda <variabe> : <output>, <iterator>\n",
    "#step-3: map(lambda <variabe> : <output>,<iterator>)\n",
    "map(lambda i : i.capitalize(),input)"
   ]
  },
  {
   "cell_type": "code",
   "execution_count": 25,
   "id": "fd04c28f-f0c1-48a0-808b-9d7821969868",
   "metadata": {},
   "outputs": [
    {
     "data": {
      "text/plain": [
       "['Hyd', 'Benguluru', 'Mumbai', 'Pune']"
      ]
     },
     "execution_count": 25,
     "metadata": {},
     "output_type": "execute_result"
    }
   ],
   "source": [
    "#step-1: lambda <variabe> : <output>\n",
    "#step-2: lambda <variabe> : <output>, <iterator>\n",
    "#step-3: map(lambda <variabe> : <output>,<iterator>)\n",
    "#step-4: list(map(lambda <variabe> : <output>,<iterator>))\n",
    "list(map(lambda i : i.capitalize(),input))"
   ]
  },
  {
   "cell_type": "code",
   "execution_count": 26,
   "id": "fc9f7aab-4d14-4264-8526-9564967e2479",
   "metadata": {},
   "outputs": [
    {
     "data": {
      "text/plain": [
       "['Hyd', 'Benguluru', 'Mumbai', 'Pune']"
      ]
     },
     "execution_count": 26,
     "metadata": {},
     "output_type": "execute_result"
    }
   ],
   "source": [
    "lambda i : i.capitalize()\n",
    "lambda i : i.capitalize(),input\n",
    "map(lambda i : i.capitalize(),input)\n",
    "list(map(lambda i: i.capitalize(),input))\n"
   ]
  },
  {
   "cell_type": "code",
   "execution_count": null,
   "id": "aada1c00-7929-4d6c-84a4-1c585c33ae92",
   "metadata": {},
   "outputs": [],
   "source": [
    "# input=['hyd','benguluru','mumbai','pune']\n",
    "# output=['HYD','BENGULURU','MUMBAI','PUNE']\n",
    "\n",
    "# input=['hyd','benguluru','mumbai','pune']\n",
    "# output=[0,1,2,3]\n",
    "\n",
    "# input='hello how are you'\n",
    "# output=['Hello','How','Are','You']\n",
    "\n",
    "# input=['hyd','beng#uluru','mumbai','pu#ne']\n",
    "# output=['beng#uluru','pu#ne']\n",
    "\n",
    "# input=['hyd','beng#uluru','mumbai','pu#ne']\n",
    "# output=['hyd','mumbai']"
   ]
  },
  {
   "cell_type": "code",
   "execution_count": 27,
   "id": "66ddd11c-70f7-40ec-a827-43da6b3eb596",
   "metadata": {},
   "outputs": [
    {
     "data": {
      "text/plain": [
       "['HYD', 'BENGULURU', 'MUMBAI', 'PUNE']"
      ]
     },
     "execution_count": 27,
     "metadata": {},
     "output_type": "execute_result"
    }
   ],
   "source": [
    "input=['hyd','benguluru','mumbai','pune']\n",
    "# output=['HYD','BENGULURU','MUMBAI','PUNE']\n",
    "list(map(lambda i: i.upper(),input))"
   ]
  },
  {
   "cell_type": "code",
   "execution_count": 28,
   "id": "f9c995e1-734a-4815-b82d-b99aa3a2acb5",
   "metadata": {},
   "outputs": [
    {
     "data": {
      "text/plain": [
       "[0, 1, 2, 3]"
      ]
     },
     "execution_count": 28,
     "metadata": {},
     "output_type": "execute_result"
    }
   ],
   "source": [
    "input=['hyd','benguluru','mumbai','pune']\n",
    "# output=[0,1,2,3]\n",
    "list(map(lambda i: input.index(i),input))"
   ]
  },
  {
   "cell_type": "code",
   "execution_count": 29,
   "id": "3d1639f1-cc27-439c-b85f-8a9cdea48973",
   "metadata": {},
   "outputs": [
    {
     "data": {
      "text/plain": [
       "['Hello', 'How', 'Are', 'You']"
      ]
     },
     "execution_count": 29,
     "metadata": {},
     "output_type": "execute_result"
    }
   ],
   "source": [
    "input='hello how are you'\n",
    "# output=['Hello','How','Are','You']\n",
    "list(map(lambda i: i.capitalize(),input.split()))"
   ]
  },
  {
   "cell_type": "code",
   "execution_count": 32,
   "id": "609a991f-2c15-4d58-aedd-4a102ac867b6",
   "metadata": {},
   "outputs": [
    {
     "name": "stdout",
     "output_type": "stream",
     "text": [
      "beng#uluru\n",
      "pu#ne\n"
     ]
    }
   ],
   "source": [
    "input=['hyd','beng#uluru','mumbai','pu#ne']\n",
    "# output=['beng#uluru','pu#ne']\n",
    "for i in input:\n",
    "    if '#' in i:\n",
    "        print(i)"
   ]
  },
  {
   "cell_type": "code",
   "execution_count": 37,
   "id": "ed925c89-933c-42d0-a2cf-d185063445a3",
   "metadata": {},
   "outputs": [
    {
     "data": {
      "text/plain": [
       "[False, True, False, True]"
      ]
     },
     "execution_count": 37,
     "metadata": {},
     "output_type": "execute_result"
    }
   ],
   "source": [
    "# lambda arg : condition,iterator\n",
    "input=['hyd','beng#uluru','mumbai','pu#ne']\n",
    "list(map(lambda i:'#' in i,input))"
   ]
  },
  {
   "cell_type": "code",
   "execution_count": null,
   "id": "6f9805a5-d5f0-4898-bc63-af8b20cec7a8",
   "metadata": {},
   "outputs": [],
   "source": [
    "list(map(  ###### mistaken\n",
    "list()"
   ]
  },
  {
   "cell_type": "markdown",
   "id": "3ae3864e-7d42-463d-a08d-b063ec2dae83",
   "metadata": {},
   "source": [
    "**filter**\n",
    "\n",
    "- filter is apply on lambda functions to retrive the True output\n",
    "\n",
    "- map will just map the function and iterator\n",
    "\n",
    "- when we apply condition map will give True False\n",
    "\n",
    "- filter will use instead of map"
   ]
  },
  {
   "cell_type": "code",
   "execution_count": 38,
   "id": "a91cd705-41ca-4b82-a637-c12fe9c039ba",
   "metadata": {},
   "outputs": [
    {
     "data": {
      "text/plain": [
       "['beng#uluru', 'pu#ne']"
      ]
     },
     "execution_count": 38,
     "metadata": {},
     "output_type": "execute_result"
    }
   ],
   "source": [
    "input=['hyd','beng#uluru','mumbai','pu#ne']\n",
    "list(filter(lambda i:'#' in i,input))"
   ]
  },
  {
   "cell_type": "code",
   "execution_count": 39,
   "id": "6b7fc418-4e6c-419d-9c5a-be79b1e36f98",
   "metadata": {},
   "outputs": [
    {
     "data": {
      "text/plain": [
       "['hyd', 'mumbai']"
      ]
     },
     "execution_count": 39,
     "metadata": {},
     "output_type": "execute_result"
    }
   ],
   "source": [
    "input=['hyd','beng#uluru','mumbai','pu#ne']\n",
    "list(filter(lambda i:'#' not in i,input))"
   ]
  },
  {
   "cell_type": "markdown",
   "id": "8aedb322-08ee-4170-ae43-2492f34255ef",
   "metadata": {},
   "source": [
    "**reduce**\n",
    "\n",
    "- reduce will helpful to perform math operations using lambda functions\n",
    "\n",
    "- it is a method under a package called : **functools**"
   ]
  },
  {
   "cell_type": "code",
   "execution_count": 40,
   "id": "e5162c46-b1c4-4e5a-a120-38864fe01f5c",
   "metadata": {},
   "outputs": [
    {
     "data": {
      "text/plain": [
       "15"
      ]
     },
     "execution_count": 40,
     "metadata": {},
     "output_type": "execute_result"
    }
   ],
   "source": [
    "list1=[1,2,3,4,5]\n",
    "sum(list1)"
   ]
  },
  {
   "cell_type": "code",
   "execution_count": 45,
   "id": "5884d925-3110-4210-bd98-99592a1f006e",
   "metadata": {},
   "outputs": [
    {
     "name": "stdout",
     "output_type": "stream",
     "text": [
      "15\n",
      "15\n"
     ]
    }
   ],
   "source": [
    "list1=[1,2,3,4,5]\n",
    "summ=0\n",
    "for i in list1:\n",
    "    summ=summ+i\n",
    "print(summ)\n",
    "\n",
    "#############################################\n",
    "summ=0\n",
    "[summ:=summ+i for i in list1]\n",
    "print(summ)"
   ]
  },
  {
   "cell_type": "code",
   "execution_count": null,
   "id": "0233a561-838c-447b-ae1c-950a68f36da2",
   "metadata": {},
   "outputs": [],
   "source": [
    "#reduce(lambda arg:output,iterator)"
   ]
  },
  {
   "cell_type": "code",
   "execution_count": 46,
   "id": "537ecb66-bd8a-46e0-ad7a-e4709f3c0963",
   "metadata": {},
   "outputs": [
    {
     "data": {
      "text/plain": [
       "['GenericAlias',\n",
       " 'RLock',\n",
       " 'WRAPPER_ASSIGNMENTS',\n",
       " 'WRAPPER_UPDATES',\n",
       " '_CacheInfo',\n",
       " '_HashedSeq',\n",
       " '_NOT_FOUND',\n",
       " '__all__',\n",
       " '__builtins__',\n",
       " '__cached__',\n",
       " '__doc__',\n",
       " '__file__',\n",
       " '__loader__',\n",
       " '__name__',\n",
       " '__package__',\n",
       " '__spec__',\n",
       " '_c3_merge',\n",
       " '_c3_mro',\n",
       " '_compose_mro',\n",
       " '_convert',\n",
       " '_find_impl',\n",
       " '_ge_from_gt',\n",
       " '_ge_from_le',\n",
       " '_ge_from_lt',\n",
       " '_gt_from_ge',\n",
       " '_gt_from_le',\n",
       " '_gt_from_lt',\n",
       " '_initial_missing',\n",
       " '_le_from_ge',\n",
       " '_le_from_gt',\n",
       " '_le_from_lt',\n",
       " '_lru_cache_wrapper',\n",
       " '_lt_from_ge',\n",
       " '_lt_from_gt',\n",
       " '_lt_from_le',\n",
       " '_make_key',\n",
       " '_unwrap_partial',\n",
       " 'cache',\n",
       " 'cached_property',\n",
       " 'cmp_to_key',\n",
       " 'get_cache_token',\n",
       " 'lru_cache',\n",
       " 'namedtuple',\n",
       " 'partial',\n",
       " 'partialmethod',\n",
       " 'recursive_repr',\n",
       " 'reduce',\n",
       " 'singledispatch',\n",
       " 'singledispatchmethod',\n",
       " 'total_ordering',\n",
       " 'update_wrapper',\n",
       " 'wraps']"
      ]
     },
     "execution_count": 46,
     "metadata": {},
     "output_type": "execute_result"
    }
   ],
   "source": [
    "import functools\n",
    "dir(functools)"
   ]
  },
  {
   "cell_type": "code",
   "execution_count": null,
   "id": "20a5cd22-1a8c-4a6d-9a14-caf79f5562f0",
   "metadata": {},
   "outputs": [],
   "source": [
    "import functools\n",
    "functools.reduce()\n",
    "###############################################\n",
    "from functools import reduce\n",
    "############################################\n",
    "import functools as ft\n",
    "ft.reduce()"
   ]
  },
  {
   "cell_type": "code",
   "execution_count": null,
   "id": "51682f56-8289-4902-8224-7461c2a6f7fa",
   "metadata": {},
   "outputs": [],
   "source": [
    "from functools import reduce\n",
    "#reduce(lambda arg:output,iterator)\n",
    "reduce(lambda summ,i:summ+i,list1)\n",
    "\n",
    "# list1=[1,2,3,4,5]\n",
    "# summ=0\n",
    "# for i in list1:\n",
    "#     summ=summ+i\n",
    "# print(summ)"
   ]
  },
  {
   "cell_type": "code",
   "execution_count": 49,
   "id": "41c2c725-953c-4d95-9957-8490fdece656",
   "metadata": {},
   "outputs": [
    {
     "data": {
      "text/plain": [
       "15"
      ]
     },
     "execution_count": 49,
     "metadata": {},
     "output_type": "execute_result"
    }
   ],
   "source": [
    "from functools import reduce\n",
    "lambda summ,i : summ+i\n",
    "lambda summ,i : summ+i,list1\n",
    "reduce(lambda summ,i : summ+i,list1)\n",
    "\n",
    "# by default summ=0"
   ]
  },
  {
   "cell_type": "code",
   "execution_count": 51,
   "id": "d0d66720-dd53-409a-9164-d99cc151772d",
   "metadata": {},
   "outputs": [
    {
     "name": "stdout",
     "output_type": "stream",
     "text": [
      "215\n"
     ]
    }
   ],
   "source": [
    "list1=[1,2,3,4,5]\n",
    "summ=200\n",
    "for i in list1:\n",
    "    summ=summ+i\n",
    "print(summ)"
   ]
  },
  {
   "cell_type": "code",
   "execution_count": 53,
   "id": "bfdd1ab6-d980-428b-ba04-8515a10c570a",
   "metadata": {},
   "outputs": [
    {
     "data": {
      "text/plain": [
       "215"
      ]
     },
     "execution_count": 53,
     "metadata": {},
     "output_type": "execute_result"
    }
   ],
   "source": [
    "from functools import reduce\n",
    "\n",
    "lambda summ,i : summ+i\n",
    "\n",
    "lambda summ,i : summ+i,list1  # by default 0\n",
    "\n",
    "lambda summ,i : summ+i,list1,200\n",
    "\n",
    "reduce(lambda summ,i : summ+i,list1,200)"
   ]
  },
  {
   "cell_type": "code",
   "execution_count": null,
   "id": "125cb543-9b06-4433-92e9-0feaae454786",
   "metadata": {},
   "outputs": [],
   "source": []
  }
 ],
 "metadata": {
  "kernelspec": {
   "display_name": "Python [conda env:base] *",
   "language": "python",
   "name": "conda-base-py"
  },
  "language_info": {
   "codemirror_mode": {
    "name": "ipython",
    "version": 3
   },
   "file_extension": ".py",
   "mimetype": "text/x-python",
   "name": "python",
   "nbconvert_exporter": "python",
   "pygments_lexer": "ipython3",
   "version": "3.12.7"
  }
 },
 "nbformat": 4,
 "nbformat_minor": 5
}
