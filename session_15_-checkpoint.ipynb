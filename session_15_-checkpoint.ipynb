{
 "cells": [
  {
   "cell_type": "markdown",
   "id": "df1ed195-48ff-415b-95e0-abe34f6921a1",
   "metadata": {},
   "source": [
    "- variables\n",
    "- data types\n",
    "- type conversion\n",
    "- print\n",
    "- eval and input\n"
   ]
  },
  {
   "cell_type": "markdown",
   "id": "8dc963d5-2bcb-45e5-b3fd-5a4723b0824b",
   "metadata": {},
   "source": [
    "- basic representation\n",
    "- inbulit function\n",
    "   - print\n",
    "   - type\n",
    "   - len\n",
    "   - sum\n",
    "   - max\n",
    "   - min\n",
    "   - sorted\n",
    "   - reversed\n",
    "- concentenation\n",
    "- indexing\n",
    "- mutable or immutable concept\n",
    "- slice\n",
    "- methods    "
   ]
  },
  {
   "cell_type": "markdown",
   "id": "1a19cf24-b91f-4a74-b8f3-617e9cbd2fdc",
   "metadata": {},
   "source": [
    "**basic representation**"
   ]
  },
  {
   "cell_type": "code",
   "execution_count": 7,
   "id": "35482edc-e5cf-49f5-b452-a7803ab8f9a8",
   "metadata": {},
   "outputs": [
    {
     "data": {
      "text/plain": [
       "'python'"
      ]
     },
     "execution_count": 7,
     "metadata": {},
     "output_type": "execute_result"
    }
   ],
   "source": [
    "name='python'\n",
    "name"
   ]
  },
  {
   "cell_type": "code",
   "execution_count": 9,
   "id": "e2ec3f4c-5d81-4def-ab00-54bc753c5166",
   "metadata": {},
   "outputs": [
    {
     "name": "stdout",
     "output_type": "stream",
     "text": [
      "python\n"
     ]
    }
   ],
   "source": [
    "print(name)"
   ]
  },
  {
   "cell_type": "code",
   "execution_count": 13,
   "id": "9d96218d-6c91-4439-99a5-4156acf136ea",
   "metadata": {},
   "outputs": [
    {
     "data": {
      "text/plain": [
       "'python'"
      ]
     },
     "execution_count": 13,
     "metadata": {},
     "output_type": "execute_result"
    }
   ],
   "source": [
    "name=\"python\"\n",
    "name"
   ]
  },
  {
   "cell_type": "markdown",
   "id": "8b798f91-cbcb-4307-bd4d-359f7e55d686",
   "metadata": {},
   "source": [
    "- python by default gives output in **single quotes**\n",
    "- when we print the string the output display **without quotes**"
   ]
  },
  {
   "cell_type": "code",
   "execution_count": 22,
   "id": "335f32a0-4ada-4dfd-90f7-104dc456bfb2",
   "metadata": {},
   "outputs": [
    {
     "ename": "SyntaxError",
     "evalue": "unterminated string literal (detected at line 1) (3114323731.py, line 1)",
     "output_type": "error",
     "traceback": [
      "\u001b[1;36m  Cell \u001b[1;32mIn[22], line 1\u001b[1;36m\u001b[0m\n\u001b[1;33m    str1= \"I love \"python\"\u001b[0m\n\u001b[1;37m                         ^\u001b[0m\n\u001b[1;31mSyntaxError\u001b[0m\u001b[1;31m:\u001b[0m unterminated string literal (detected at line 1)\n"
     ]
    }
   ],
   "source": [
    "str1= \"I love \"python\"\n",
    "print(str1)"
   ]
  },
  {
   "cell_type": "code",
   "execution_count": null,
   "id": "1a2b97e1-2c25-4bab-8c82-a4955fd77e8d",
   "metadata": {},
   "outputs": [],
   "source": []
  },
  {
   "cell_type": "code",
   "execution_count": null,
   "id": "f90e5a14-168f-4cf4-b17b-9bb8fd9e8bae",
   "metadata": {},
   "outputs": [],
   "source": []
  },
  {
   "cell_type": "markdown",
   "id": "af8cc650-6644-435a-a9d4-87408ead278e",
   "metadata": {},
   "source": [
    "**doc string**\n",
    "- triple quotes also called as the as doc string\n",
    "- triple quotes means the user by to convey some information"
   ]
  },
  {
   "cell_type": "code",
   "execution_count": 25,
   "id": "6763e1ea-6f96-487d-937c-efe9812a86d7",
   "metadata": {},
   "outputs": [
    {
     "data": {
      "text/plain": [
       "str"
      ]
     },
     "execution_count": 25,
     "metadata": {},
     "output_type": "execute_result"
    }
   ],
   "source": [
    "name='python'\n",
    "type(name)"
   ]
  },
  {
   "cell_type": "code",
   "execution_count": 33,
   "id": "11319c63-8c8e-477f-9afa-f8a05ca9f73f",
   "metadata": {},
   "outputs": [
    {
     "data": {
      "text/plain": [
       "9"
      ]
     },
     "execution_count": 33,
     "metadata": {},
     "output_type": "execute_result"
    }
   ],
   "source": [
    "name1=\"tejakumar\"\n",
    "len(num1)"
   ]
  },
  {
   "cell_type": "code",
   "execution_count": 62,
   "id": "bfe7ccb1-493b-4380-9cb2-a631a988cd5f",
   "metadata": {},
   "outputs": [
    {
     "ename": "NameError",
     "evalue": "name 'name1' is not defined",
     "output_type": "error",
     "traceback": [
      "\u001b[1;31m---------------------------------------------------------------------------\u001b[0m",
      "\u001b[1;31mNameError\u001b[0m                                 Traceback (most recent call last)",
      "Cell \u001b[1;32mIn[62], line 1\u001b[0m\n\u001b[1;32m----> 1\u001b[0m \u001b[38;5;28mmax\u001b[39m(name1)\n",
      "\u001b[1;31mNameError\u001b[0m: name 'name1' is not defined"
     ]
    }
   ],
   "source": [
    "max(name1)"
   ]
  },
  {
   "cell_type": "code",
   "execution_count": 41,
   "id": "212aefb0-f7d2-40fc-80ec-853d12b97692",
   "metadata": {},
   "outputs": [
    {
     "data": {
      "text/plain": [
       "4"
      ]
     },
     "execution_count": 41,
     "metadata": {},
     "output_type": "execute_result"
    }
   ],
   "source": [
    "min(n1,n2,n3)\n"
   ]
  },
  {
   "cell_type": "code",
   "execution_count": 60,
   "id": "5864ca63-afff-45b8-8231-50e0eee759ab",
   "metadata": {},
   "outputs": [
    {
     "ename": "NameError",
     "evalue": "name 'name1' is not defined",
     "output_type": "error",
     "traceback": [
      "\u001b[1;31m---------------------------------------------------------------------------\u001b[0m",
      "\u001b[1;31mNameError\u001b[0m                                 Traceback (most recent call last)",
      "Cell \u001b[1;32mIn[60], line 1\u001b[0m\n\u001b[1;32m----> 1\u001b[0m \u001b[38;5;28msorted\u001b[39m(name1)\n",
      "\u001b[1;31mNameError\u001b[0m: name 'name1' is not defined"
     ]
    }
   ],
   "source": [
    "sorted(name1)"
   ]
  },
  {
   "cell_type": "code",
   "execution_count": 54,
   "id": "08754000-6928-4631-af61-e560aea9880f",
   "metadata": {},
   "outputs": [
    {
     "ename": "NameError",
     "evalue": "name 'name1' is not defined",
     "output_type": "error",
     "traceback": [
      "\u001b[1;31m---------------------------------------------------------------------------\u001b[0m",
      "\u001b[1;31mNameError\u001b[0m                                 Traceback (most recent call last)",
      "Cell \u001b[1;32mIn[54], line 1\u001b[0m\n\u001b[1;32m----> 1\u001b[0m \u001b[38;5;28mprint\u001b[39m(\u001b[38;5;28mreversed\u001b[39m(name1))\n",
      "\u001b[1;31mNameError\u001b[0m: name 'name1' is not defined"
     ]
    }
   ],
   "source": [
    "print(reversed(name1))"
   ]
  },
  {
   "cell_type": "markdown",
   "id": "ca9a811e-8c64-4f64-8eb0-020be85a09e4",
   "metadata": {},
   "source": [
    "**sorted**"
   ]
  },
  {
   "cell_type": "markdown",
   "id": "af7935df-2c6e-449e-abcb-bb8f9e140c2c",
   "metadata": {},
   "source": [
    "- sorted means either ascending or desemding order\n",
    "- ascending order:small to big\n",
    "- decending order:big to small"
   ]
  },
  {
   "cell_type": "code",
   "execution_count": null,
   "id": "c754606d-be93-4e2c-9b6b-000b5bd74bf1",
   "metadata": {},
   "outputs": [],
   "source": [
    "sorted ('python')\n",
    "# by fault asccending\n",
    "# can i change "
   ]
  },
  {
   "cell_type": "code",
   "execution_count": 72,
   "id": "0a72d4c0-4cda-4f94-9a96-92637df090e5",
   "metadata": {},
   "outputs": [
    {
     "name": "stdout",
     "output_type": "stream",
     "text": [
      "30\n"
     ]
    }
   ],
   "source": [
    "def add (a,b):\n",
    "    print(a+b)\n",
    "add(10,20)    "
   ]
  },
  {
   "cell_type": "code",
   "execution_count": 74,
   "id": "00860587-b3c3-4712-8e5b-ea98e7e63976",
   "metadata": {},
   "outputs": [
    {
     "name": "stdout",
     "output_type": "stream",
     "text": [
      "30\n"
     ]
    }
   ],
   "source": [
    "def add(a,b):\n",
    "    print(a+b)\n",
    "add(a=10,b=20)    "
   ]
  },
  {
   "cell_type": "code",
   "execution_count": 78,
   "id": "412d2b62-eb83-4692-a1c3-11fc1616dbc9",
   "metadata": {},
   "outputs": [
    {
     "name": "stdout",
     "output_type": "stream",
     "text": [
      "30\n"
     ]
    }
   ],
   "source": [
    "def add(a,/,b):\n",
    "    print(a+b)\n",
    "add(10,b=20)  "
   ]
  },
  {
   "cell_type": "code",
   "execution_count": 82,
   "id": "47b6d629-ee71-46a8-bee6-9e2e42e667da",
   "metadata": {},
   "outputs": [
    {
     "ename": "SyntaxError",
     "evalue": "invalid syntax (1296546600.py, line 1)",
     "output_type": "error",
     "traceback": [
      "\u001b[1;36m  Cell \u001b[1;32mIn[82], line 1\u001b[1;36m\u001b[0m\n\u001b[1;33m    def add(a,/b,):\u001b[0m\n\u001b[1;37m               ^\u001b[0m\n\u001b[1;31mSyntaxError\u001b[0m\u001b[1;31m:\u001b[0m invalid syntax\n"
     ]
    }
   ],
   "source": [
    "def add(a,/b,):\n",
    "    print(a+b)\n",
    "add(a=10,20)  "
   ]
  },
  {
   "cell_type": "markdown",
   "id": "378ac301-81e3-4cb7-8c9f-3bda98b53ab2",
   "metadata": {},
   "source": [
    "**note:**\n",
    "- / before dont use argument name\n",
    "- / after you can use argument name, that is oue wish\n",
    "- * indicates no need maintain the order of the argument"
   ]
  },
  {
   "cell_type": "markdown",
   "id": "1fbd1fd5-fe1d-4cba-ab50-bb47ecee974a",
   "metadata": {},
   "source": [
    "**note**\n",
    "\n",
    "(*) indicates provide the argument name "
   ]
  },
  {
   "cell_type": "code",
   "execution_count": 92,
   "id": "a0352fc0-95be-4e66-b1a0-2b6409845129",
   "metadata": {},
   "outputs": [
    {
     "data": {
      "text/plain": [
       "['y', 't', 'p', 'o', 'n', 'h']"
      ]
     },
     "execution_count": 92,
     "metadata": {},
     "output_type": "execute_result"
    }
   ],
   "source": [
    "sorted('python',reverse=True)"
   ]
  },
  {
   "cell_type": "code",
   "execution_count": null,
   "id": "5a4ecd5b-1c2f-4bee-aed6-07d2b9648ed0",
   "metadata": {},
   "outputs": [],
   "source": [
    "sorted('python') \n",
    "sorted(iterable='python')\n",
    "sorted('python',reverse=true)\n",
    "sorted(iterable='python',reverse=true)\n",
    "sorted('python',true)\n"
   ]
  },
  {
   "cell_type": "markdown",
   "id": "8a5fb270-142a-4407-9ccc-b9f026889956",
   "metadata": {},
   "source": [
    "**reversed**"
   ]
  },
  {
   "cell_type": "code",
   "execution_count": 95,
   "id": "b225e47b-6979-466b-b2bd-64d9bae496f3",
   "metadata": {},
   "outputs": [
    {
     "data": {
      "text/plain": [
       "<reversed at 0x247109df730>"
      ]
     },
     "execution_count": 95,
     "metadata": {},
     "output_type": "execute_result"
    }
   ],
   "source": [
    "ans=reversed('tejakumar')\n",
    "ans"
   ]
  },
  {
   "cell_type": "markdown",
   "id": "42e01576-3e0c-4c7e-a154-70492de1bfcb",
   "metadata": {},
   "source": [
    "- answer saved adress memory location\n",
    "- we can see the answer by using for loop or list \n",
    "- whenever we see less than greater than symbol answer\n",
    "- try to apply fo lopp or list"
   ]
  },
  {
   "cell_type": "code",
   "execution_count": 111,
   "id": "4e795d90-c28e-46b7-9ea8-51d8a78f81ed",
   "metadata": {},
   "outputs": [
    {
     "name": "stdout",
     "output_type": "stream",
     "text": [
      "r\n",
      "a\n",
      "m\n",
      "u\n",
      "k\n",
      "a\n",
      "j\n",
      "e\n",
      "t\n"
     ]
    }
   ],
   "source": [
    "ans=reversed('tejakumar')\n",
    "ans\n",
    "for i in ans:\n",
    "    print(i)"
   ]
  },
  {
   "cell_type": "markdown",
   "id": "a26585b7-2e3f-4839-a990-f20cda2897cf",
   "metadata": {},
   "source": [
    "**concatenation**"
   ]
  },
  {
   "cell_type": "code",
   "execution_count": 118,
   "id": "6e3396b4-8fa4-488a-892a-0e2fa9cd29cf",
   "metadata": {},
   "outputs": [
    {
     "data": {
      "text/plain": [
       "'Hellopython'"
      ]
     },
     "execution_count": 118,
     "metadata": {},
     "output_type": "execute_result"
    }
   ],
   "source": [
    "str1='Hello'\n",
    "str2='python'\n",
    "str1+str2"
   ]
  },
  {
   "cell_type": "code",
   "execution_count": 122,
   "id": "a1814845-5539-4fbb-bd8d-70c4188854af",
   "metadata": {},
   "outputs": [
    {
     "ename": "TypeError",
     "evalue": "unsupported operand type(s) for -: 'str' and 'str'",
     "output_type": "error",
     "traceback": [
      "\u001b[1;31m---------------------------------------------------------------------------\u001b[0m",
      "\u001b[1;31mTypeError\u001b[0m                                 Traceback (most recent call last)",
      "Cell \u001b[1;32mIn[122], line 1\u001b[0m\n\u001b[1;32m----> 1\u001b[0m str1\u001b[38;5;241m-\u001b[39mstr2\n\u001b[0;32m      2\u001b[0m str1\u001b[38;5;241m*\u001b[39mstr2\n\u001b[0;32m      3\u001b[0m str1\u001b[38;5;241m/\u001b[39mstr2\n",
      "\u001b[1;31mTypeError\u001b[0m: unsupported operand type(s) for -: 'str' and 'str'"
     ]
    }
   ],
   "source": [
    "str1-str2\n",
    "str1*str2\n",
    "str1/str2"
   ]
  },
  {
   "cell_type": "code",
   "execution_count": 128,
   "id": "e07c1a92-6e5d-45c6-835f-fb2bd431d335",
   "metadata": {},
   "outputs": [
    {
     "data": {
      "text/plain": [
       "'pythonpythonpython'"
      ]
     },
     "execution_count": 128,
     "metadata": {},
     "output_type": "execute_result"
    }
   ],
   "source": [
    "'python'*3"
   ]
  },
  {
   "cell_type": "code",
   "execution_count": 130,
   "id": "e276b67a-d04e-4d0a-ac39-5361faab73fb",
   "metadata": {},
   "outputs": [
    {
     "data": {
      "text/plain": [
       "'hellopython'"
      ]
     },
     "execution_count": 130,
     "metadata": {},
     "output_type": "execute_result"
    }
   ],
   "source": [
    "str1='hello'\n",
    "str2='python'\n",
    "str1+str2"
   ]
  },
  {
   "cell_type": "code",
   "execution_count": 132,
   "id": "e525f034-5ca0-4499-a00a-28001e217d3b",
   "metadata": {},
   "outputs": [
    {
     "data": {
      "text/plain": [
       "'hello python'"
      ]
     },
     "execution_count": 132,
     "metadata": {},
     "output_type": "execute_result"
    }
   ],
   "source": [
    "str1='hello'\n",
    "str2=' python'\n",
    "str1+str2"
   ]
  },
  {
   "cell_type": "code",
   "execution_count": 138,
   "id": "32cc4baf-8a36-47f5-9b05-b8c76ede67c6",
   "metadata": {},
   "outputs": [
    {
     "data": {
      "text/plain": [
       "'hello  python'"
      ]
     },
     "execution_count": 138,
     "metadata": {},
     "output_type": "execute_result"
    }
   ],
   "source": [
    "str1='hello'\n",
    "str2='python'\n",
    "str1+'  '+str2"
   ]
  },
  {
   "cell_type": "code",
   "execution_count": 2,
   "id": "99830dbf-35ef-4b6e-aaf0-762196ff4652",
   "metadata": {},
   "outputs": [
    {
     "data": {
      "text/plain": [
       "'tejakumartejakumartejakumar'"
      ]
     },
     "execution_count": 2,
     "metadata": {},
     "output_type": "execute_result"
    }
   ],
   "source": [
    "'tejakumar'*3"
   ]
  },
  {
   "cell_type": "code",
   "execution_count": null,
   "id": "f63f6399-0f60-42b5-8c8d-48349c8e90dc",
   "metadata": {},
   "outputs": [],
   "source": [
    "str1-str2: \n",
    "TypeError: unsupported operand type(s) for -: 'str' and 'str' \n",
    "str1/str2: \n",
    "TypeError: unsupported operand type(s) for /: 'str' and 'str' \n",
    "str1(sequence)*3: \n",
    "TypeError: can't multiply sequence by non-int of type 'str' \n",
    "'python'*3 \n"
   ]
  },
  {
   "cell_type": "markdown",
   "id": "f7e22b0d-6d5c-4754-bd63-22941f7f7449",
   "metadata": {},
   "source": [
    "**index**"
   ]
  },
  {
   "cell_type": "code",
   "execution_count": 4,
   "id": "77fb9132-4c97-4bcc-860f-61a4d7d274b3",
   "metadata": {},
   "outputs": [
    {
     "data": {
      "text/plain": [
       "'python'"
      ]
     },
     "execution_count": 4,
     "metadata": {},
     "output_type": "execute_result"
    }
   ],
   "source": [
    "str1='python'\n",
    "str1"
   ]
  },
  {
   "cell_type": "code",
   "execution_count": null,
   "id": "5fee66a5-e7f1-4ce2-b0e6-ba7b86db2acc",
   "metadata": {},
   "outputs": [],
   "source": [
    "-6 -5 -4 -3 -2 -1\n",
    "p y t h o n\n",
    "0 1 2 3 4 5"
   ]
  },
  {
   "cell_type": "markdown",
   "id": "3acf115a-bbe1-45ba-bd64-72ae670b47ef",
   "metadata": {},
   "source": [
    "**access the charcters or elements use square bracket**"
   ]
  },
  {
   "cell_type": "code",
   "execution_count": 7,
   "id": "e7ef5b2e-5c99-4c19-b203-c07ef3be32f2",
   "metadata": {},
   "outputs": [
    {
     "data": {
      "text/plain": [
       "('n', 'n')"
      ]
     },
     "execution_count": 7,
     "metadata": {},
     "output_type": "execute_result"
    }
   ],
   "source": [
    "str1[0],str1[-6]\n",
    "str1[1],str1[-5]\n",
    "str1[2],str1[-4]\n",
    "str1[3],str1[-3]\n",
    "str1[4],str1[-2]\n",
    "str1[5],str1[-1]"
   ]
  },
  {
   "cell_type": "code",
   "execution_count": null,
   "id": "b6b42f3d-8d70-4e46-98e9-c744a78bb41e",
   "metadata": {},
   "outputs": [],
   "source": [
    "str1[0]\n",
    "str1[1]\n",
    "str1[2]\n",
    "str1[3]\n",
    "str1[4]\n",
    "str1[5]\n",
    "str1[i]"
   ]
  },
  {
   "cell_type": "code",
   "execution_count": 14,
   "id": "2b4f080e-3acd-45d8-87e0-22b057e3ba4b",
   "metadata": {},
   "outputs": [
    {
     "name": "stdout",
     "output_type": "stream",
     "text": [
      "p\n",
      "y\n",
      "t\n",
      "h\n",
      "o\n",
      "n\n"
     ]
    }
   ],
   "source": [
    "str1='python'\n",
    "n=len(str1)\n",
    "for i in range(0,n):\n",
    "      print(str1[i])"
   ]
  },
  {
   "cell_type": "code",
   "execution_count": 16,
   "id": "260c067d-1daf-4664-b576-53d64aa395a3",
   "metadata": {},
   "outputs": [
    {
     "name": "stdout",
     "output_type": "stream",
     "text": [
      "h\n",
      "e\n",
      "l\n",
      "l\n",
      "o\n",
      " \n",
      "h\n",
      "o\n",
      "w\n",
      " \n",
      "a\n",
      "r\n",
      "e\n",
      " \n",
      "y\n",
      "o\n",
      "u\n"
     ]
    }
   ],
   "source": [
    "str1='hello how are you'\n",
    "n=len(str1)\n",
    "for i in range(0,n):\n",
    "        print(str1[i])"
   ]
  },
  {
   "cell_type": "code",
   "execution_count": null,
   "id": "e6e7e073-28de-41e4-9c38-d392af3a2184",
   "metadata": {},
   "outputs": [],
   "source": [
    "# Q1)\n",
    "# the postive index of p is 0\n",
    "# the postive index of y is 1\n",
    "# the postive index of n is 2\n",
    "# Q2)\n",
    "# the negative index of p is -6\n",
    "# the negative index of y is -5\n",
    "# the negative index of n is -4 and so on\n",
    "# Q3)\n",
    "# The postvive index is 0 and negtaive index is -6 for p"
   ]
  },
  {
   "cell_type": "code",
   "execution_count": 18,
   "id": "94101cd1-2763-494e-ac2c-c886f4486b87",
   "metadata": {},
   "outputs": [
    {
     "name": "stdout",
     "output_type": "stream",
     "text": [
      "0 1 2 3 4 5 -6 -5 -4 -3 -2 -1 "
     ]
    }
   ],
   "source": [
    "# Q1) first you need to print the numbers\n",
    "#-6 -5 -4 -3 -2 -1\n",
    "#p y t h o n\n",
    "#0 1 2 3 4 5\n",
    "for i in range(0,6):print(i,end=' ')\n",
    "for i in range(-6,0):print(i,end=' ')"
   ]
  },
  {
   "cell_type": "code",
   "execution_count": 20,
   "id": "c1ee9832-1b9d-4bc1-974b-f862c5e1a5f2",
   "metadata": {},
   "outputs": [
    {
     "name": "stdout",
     "output_type": "stream",
     "text": [
      "the postive index of p is 0\n",
      "the postive index of y is 1\n",
      "the postive index of t is 2\n",
      "the postive index of h is 3\n",
      "the postive index of o is 4\n",
      "the postive index of n is 5\n"
     ]
    }
   ],
   "source": [
    "str1='python'\n",
    "n=len(str1)\n",
    "for i in range(0,n):\n",
    "        print(f'the postive index of {str1[i]} is {i}')"
   ]
  },
  {
   "cell_type": "code",
   "execution_count": null,
   "id": "78bdc91c-cf22-4396-a8fb-9907dea4bee6",
   "metadata": {},
   "outputs": [],
   "source": [
    "str1='python'\n",
    "n=len(str1)"
   ]
  },
  {
   "cell_type": "code",
   "execution_count": 24,
   "id": "8b3f1f44-552b-46f7-86ed-845d80e02cb6",
   "metadata": {},
   "outputs": [
    {
     "name": "stdout",
     "output_type": "stream",
     "text": [
      "-6\n",
      "-5\n",
      "-4\n",
      "-3\n",
      "-2\n",
      "-1\n"
     ]
    }
   ],
   "source": [
    "for i in range(-6,0):\n",
    "        print(i)"
   ]
  },
  {
   "cell_type": "code",
   "execution_count": 39,
   "id": "24794311-df0d-4ef5-ba4e-06adf8bbf9ad",
   "metadata": {},
   "outputs": [
    {
     "ename": "SyntaxError",
     "evalue": "invalid syntax (1846221839.py, line 2)",
     "output_type": "error",
     "traceback": [
      "\u001b[1;36m  Cell \u001b[1;32mIn[39], line 2\u001b[1;36m\u001b[0m\n\u001b[1;33m    for i in range(-6,0)   nega\u001b[0m\n\u001b[1;37m                           ^\u001b[0m\n\u001b[1;31mSyntaxError\u001b[0m\u001b[1;31m:\u001b[0m invalid syntax\n"
     ]
    }
   ],
   "source": [
    "for i in range(0,6):   postive\n",
    "for i in range(-6,0)   nega\n",
    "for i in range(-6,6)"
   ]
  },
  {
   "cell_type": "code",
   "execution_count": 41,
   "id": "d0f75617-e0bd-4b6f-b320-7440658c73fe",
   "metadata": {},
   "outputs": [
    {
     "name": "stdout",
     "output_type": "stream",
     "text": [
      "0 0 -6\n",
      "the positive index is 0,negative index is (0, 6) for : p\n",
      "the positive index is 0  for : p\n",
      "the positive index is -6 for : p\n",
      "1 1 -6\n",
      "the positive index is 1,negative index is (1, 6) for : y\n",
      "the positive index is 1  for : y\n",
      "the positive index is -5 for : y\n",
      "2 2 -6\n",
      "the positive index is 2,negative index is (2, 6) for : t\n",
      "the positive index is 2  for : t\n",
      "the positive index is -4 for : t\n",
      "3 3 -6\n",
      "the positive index is 3,negative index is (3, 6) for : h\n",
      "the positive index is 3  for : h\n",
      "the positive index is -3 for : h\n",
      "4 4 -6\n",
      "the positive index is 4,negative index is (4, 6) for : o\n",
      "the positive index is 4  for : o\n",
      "the positive index is -2 for : o\n",
      "5 5 -6\n",
      "the positive index is 5,negative index is (5, 6) for : n\n",
      "the positive index is 5  for : n\n",
      "the positive index is -1 for : n\n"
     ]
    }
   ],
   "source": [
    "for i in range (0,6):\n",
    "    print(i,i,-6)\n",
    "    print(f'the positive index is {i},negative index is {i,6} for : {str1[i]}')\n",
    "    print(f'the positive index is {i}  for : {str1[i]}')\n",
    "    print(f'the positive index is {i-6} for : {str1[i]}')"
   ]
  },
  {
   "cell_type": "markdown",
   "id": "6c97fe00-3c4a-45ac-a1ba-eda14355aa0a",
   "metadata": {},
   "source": [
    "**when to use **in** - when to use -range operators**"
   ]
  },
  {
   "cell_type": "markdown",
   "id": "436f9e6e-f831-4f1f-a2ed-96a9aeb1a499",
   "metadata": {},
   "source": [
    "- **in** operator directly access the elements\n",
    "- **range** operators access the elements musing index or nnumbers\n",
    "- any problem statement if you need number then go for range\n",
    "- otherwise go for in operators directly                                                  "
   ]
  },
  {
   "cell_type": "code",
   "execution_count": 2,
   "id": "b7662c96-a558-4346-bd74-956a97be8efa",
   "metadata": {},
   "outputs": [
    {
     "name": "stdout",
     "output_type": "stream",
     "text": [
      "p\n",
      "y\n",
      "t\n",
      "h\n",
      "o\n",
      "n\n"
     ]
    }
   ],
   "source": [
    "str1='python'\n",
    "for i in str1:\n",
    "    print(i)\n",
    "\n",
    "for i in range(0,6):\n",
    "    print(i)"
   ]
  },
  {
   "cell_type": "code",
   "execution_count": 11,
   "id": "1ce98178-b548-4749-831f-cdbeb22b102d",
   "metadata": {},
   "outputs": [
    {
     "name": "stdout",
     "output_type": "stream",
     "text": [
      "the indexes of 'a'in string is 2\n",
      "the indexes of 'a'in string is 6\n",
      "the indexes of 'a'in string is 10\n"
     ]
    }
   ],
   "source": [
    "# q4) \n",
    "\n",
    "str2='ola ola ola'\n",
    "for i in range(len(str2)):\n",
    "    if str2[i]=='a':\n",
    "        print(f\"the indexes of 'a'in string is {i}\")"
   ]
  },
  {
   "cell_type": "code",
   "execution_count": 15,
   "id": "c586e1ac-0af7-43bf-a313-20846cce71aa",
   "metadata": {},
   "outputs": [
    {
     "name": "stdout",
     "output_type": "stream",
     "text": [
      "the indexes of 'a'in string is 2\n",
      "the indexes of 'a'in string is 8\n",
      "the indexes of 'a'in string is 18\n"
     ]
    }
   ],
   "source": [
    "# q5)\n",
    "\n",
    "str2='ola ola ola'\n",
    "summ=0\n",
    "for i in range(len(str2)):\n",
    "    if str2[i]=='a':\n",
    "        summ=summ+i\n",
    "        print(f\"the indexes of 'a'in string is {summ}\")"
   ]
  },
  {
   "cell_type": "code",
   "execution_count": 17,
   "id": "0dccc31d-e4af-47dc-8151-15f08d76debe",
   "metadata": {},
   "outputs": [
    {
     "name": "stdout",
     "output_type": "stream",
     "text": [
      "the indexes of 'a'in string is 2\n",
      "the indexes of 'a'in string is 8\n",
      "the indexes of 'a'in string is 18\n"
     ]
    }
   ],
   "source": [
    "# q6)\n",
    "\n",
    "str2='ola ola ola'\n",
    "count=0\n",
    "for i in range(len(str2)):\n",
    "    if str2[i]=='a':\n",
    "        count=count+i\n",
    "        print(f\"the indexes of 'a'in string is {count}\")"
   ]
  },
  {
   "cell_type": "code",
   "execution_count": 35,
   "id": "572bb13e-5565-4e98-8368-f26a4d3a967d",
   "metadata": {},
   "outputs": [
    {
     "name": "stdout",
     "output_type": "stream",
     "text": [
      "o\n",
      "a\n",
      "o\n",
      "a\n",
      "o\n",
      "a\n",
      "6\n"
     ]
    }
   ],
   "source": [
    "# q7)\n",
    "\n",
    "str2='hi how are u'\n",
    "s1='aaeiou'\n",
    "count=0\n",
    "for i in str1:\n",
    "    if i in s1:\n",
    "         print(i)\n",
    "         count=count+1\n",
    "print(count)"
   ]
  },
  {
   "cell_type": "code",
   "execution_count": 52,
   "id": "49672768-6c51-4dbd-bdd7-330ec8d73295",
   "metadata": {},
   "outputs": [
    {
     "name": "stdout",
     "output_type": "stream",
     "text": [
      "a\n",
      "e\n"
     ]
    }
   ],
   "source": [
    "# q8) \n",
    "\n",
    "\n",
    "s1=''\n",
    "for i in str1:\n",
    "    if i in 'aeiou'and i not in s1:\n",
    "        print(i)\n",
    "        s1=s1+i\n"
   ]
  },
  {
   "cell_type": "markdown",
   "id": "38412f50-723d-4b1c-b862-12130c9abc12",
   "metadata": {},
   "source": [
    "**mutable-immutable**\n",
    "\n",
    "- mutable means change\n",
    "- immutable means can not change\n",
    "- we can not change the elemnent using index opertations"
   ]
  },
  {
   "cell_type": "code",
   "execution_count": 58,
   "id": "8e668260-121b-4876-a66e-72597ade7af9",
   "metadata": {},
   "outputs": [
    {
     "ename": "TypeError",
     "evalue": "'type' object does not support item assignment",
     "output_type": "error",
     "traceback": [
      "\u001b[1;31m---------------------------------------------------------------------------\u001b[0m",
      "\u001b[1;31mTypeError\u001b[0m                                 Traceback (most recent call last)",
      "Cell \u001b[1;32mIn[58], line 2\u001b[0m\n\u001b[0;32m      1\u001b[0m str1\u001b[38;5;241m=\u001b[39m\u001b[38;5;124m'\u001b[39m\u001b[38;5;124mhello\u001b[39m\u001b[38;5;124m'\u001b[39m\n\u001b[1;32m----> 2\u001b[0m \u001b[38;5;28mstr\u001b[39m[\u001b[38;5;241m2\u001b[39m]\u001b[38;5;241m=\u001b[39m\u001b[38;5;124m'\u001b[39m\u001b[38;5;124mL\u001b[39m\u001b[38;5;124m'\u001b[39m\n",
      "\u001b[1;31mTypeError\u001b[0m: 'type' object does not support item assignment"
     ]
    }
   ],
   "source": [
    "str1='hello'\n",
    "str[2]='L'"
   ]
  },
  {
   "cell_type": "code",
   "execution_count": 62,
   "id": "dc267ec4-6680-4d2c-bd18-e29b24c1a334",
   "metadata": {},
   "outputs": [
    {
     "data": {
      "text/plain": [
       "[10, 200, 30]"
      ]
     },
     "execution_count": 62,
     "metadata": {},
     "output_type": "execute_result"
    }
   ],
   "source": [
    "l =[10,20,30]\n",
    "l[1]=200\n",
    "l"
   ]
  },
  {
   "cell_type": "markdown",
   "id": "008a3a4c-79ce-4442-8a0d-4b1894a41ece",
   "metadata": {},
   "source": [
    "**slicing and methods**"
   ]
  },
  {
   "cell_type": "markdown",
   "id": "ba855865-54c0-4ca3-bac2-8ce90855bcb9",
   "metadata": {},
   "source": [
    "**slice**"
   ]
  },
  {
   "cell_type": "markdown",
   "id": "7da5cda5-fc62-4859-a736-09213e68a018",
   "metadata": {},
   "source": [
    "- slice means cut in to pieces\n",
    "- it has similar analogy with for loop range\n",
    "- in the for loop range we have start ,stop,step\n",
    "- range(start,stop,step)str[start:stop:step]"
   ]
  },
  {
   "cell_type": "code",
   "execution_count": null,
   "id": "76827552-ca27-42e4-8ad1-ce1bc656ec92",
   "metadata": {},
   "outputs": [],
   "source": [
    "-17  -16  -15  -14  -13  -12  -11  -10  -9  -8  -7  -6  -5  -4  -3  -2  -1\n",
    "h    e    l   l   o       h   o  w     a   r  e    y                     \n",
    "0     1    2   3   4  5    6  7  8  9  10 11 12 13 14  15 16"
   ]
  },
  {
   "cell_type": "markdown",
   "id": "4caa2062-7b72-4d6d-804a-cd8acfa14aaa",
   "metadata": {},
   "source": [
    "$case-1$\n",
    "**str[:stop]\n",
    " - be default start=0\n",
    " - by default step = positive derection 1\n",
    " - last=stop-1"
   ]
  },
  {
   "cell_type": "code",
   "execution_count": 21,
   "id": "4050e8fd-7d3c-4ac3-8758-9a05850f7dd2",
   "metadata": {},
   "outputs": [
    {
     "data": {
      "text/plain": [
       "'hello'"
      ]
     },
     "execution_count": 21,
     "metadata": {},
     "output_type": "execute_result"
    }
   ],
   "source": [
    "str1='hello how are you'\n",
    "str1[:5]\n",
    "# start=0 step =1 stop=5-1=4"
   ]
  },
  {
   "cell_type": "markdown",
   "id": "3d63e91a-0e6c-452b-a774-aeccf229c4f6",
   "metadata": {},
   "source": [
    "$case-2$\n",
    "\n",
    " - be default start=start value\n",
    " - by default step = positive derection 1\n",
    " - last=last index"
   ]
  },
  {
   "cell_type": "code",
   "execution_count": 9,
   "id": "2e264860-9e4c-4860-95e8-beccb872e88d",
   "metadata": {},
   "outputs": [
    {
     "data": {
      "text/plain": [
       "'you'"
      ]
     },
     "execution_count": 9,
     "metadata": {},
     "output_type": "execute_result"
    }
   ],
   "source": [
    "str[-3:]"
   ]
  },
  {
   "cell_type": "markdown",
   "id": "23e1b56e-7fe9-41e5-9f0e-7d2d173a2d46",
   "metadata": {},
   "source": [
    "$case-3$\n",
    "**str[:stop]\n",
    " - be default start=0\n",
    " - by default step = positive derection 1\n",
    " - last=stop-1"
   ]
  },
  {
   "cell_type": "code",
   "execution_count": null,
   "id": "3a84e858-9b06-42e2-ad3b-017e5db9cdd4",
   "metadata": {},
   "outputs": [],
   "source": [
    "# -17  -16  -15  -14  -13  -12  -11  -10   -9   -8   -7  -6  -5  -4  -3  -2  -1\n",
    "# h     e     l    l    o         h    o    w         a   r   e       y    o   u\n",
    "# 0     1     2    3    4   5     6    7    8    9   10  11  12  13   14   15  16"
   ]
  },
  {
   "cell_type": "code",
   "execution_count": 22,
   "id": "df0cc06f-8a7e-45ba-a955-d2f4879f3d4a",
   "metadata": {},
   "outputs": [
    {
     "data": {
      "text/plain": [
       "'llo how '"
      ]
     },
     "execution_count": 22,
     "metadata": {},
     "output_type": "execute_result"
    }
   ],
   "source": [
    "str1='hello how are you'\n",
    "str1[-15:10]"
   ]
  },
  {
   "cell_type": "code",
   "execution_count": 23,
   "id": "0457aa34-cb1e-4c1e-bb41-2f6761ac8176",
   "metadata": {},
   "outputs": [
    {
     "data": {
      "text/plain": [
       "'llo how '"
      ]
     },
     "execution_count": 23,
     "metadata": {},
     "output_type": "execute_result"
    }
   ],
   "source": [
    "str1[-15:10]"
   ]
  },
  {
   "cell_type": "code",
   "execution_count": 25,
   "id": "d936a96b-e51e-4b10-8ee6-de2169d40752",
   "metadata": {},
   "outputs": [
    {
     "data": {
      "text/plain": [
       "''"
      ]
     },
     "execution_count": 25,
     "metadata": {},
     "output_type": "execute_result"
    }
   ],
   "source": [
    "str1[-10:2]"
   ]
  },
  {
   "cell_type": "code",
   "execution_count": 27,
   "id": "f16b1f60-ae95-42ab-8784-1333d4f876ef",
   "metadata": {},
   "outputs": [
    {
     "data": {
      "text/plain": [
       "'llo how are y'"
      ]
     },
     "execution_count": 27,
     "metadata": {},
     "output_type": "execute_result"
    }
   ],
   "source": [
    "str1[2:-2]"
   ]
  },
  {
   "cell_type": "code",
   "execution_count": 29,
   "id": "121a5477-9e55-4e51-a221-ee111bc24f0f",
   "metadata": {},
   "outputs": [],
   "source": [
    "for i in range(2,-2):\n",
    "    print(i)"
   ]
  },
  {
   "cell_type": "markdown",
   "id": "4d25c053-d5fd-416d-b97c-4ccbd1fbd201",
   "metadata": {},
   "source": [
    "$case-4$\n",
    "**str[:stop]\n",
    " - be default start=0\n",
    " - by default step = positive derection 1\n",
    "    - last=stop 1\n",
    "-if step is negative value\n",
    "   - last=stop-1"
   ]
  },
  {
   "cell_type": "code",
   "execution_count": 34,
   "id": "041ddd64-9c5d-4c28-8c38-188dad866267",
   "metadata": {},
   "outputs": [
    {
     "data": {
      "text/plain": [
       "'el o r '"
      ]
     },
     "execution_count": 34,
     "metadata": {},
     "output_type": "execute_result"
    }
   ],
   "source": [
    "# -17  -16  -15  -14  -13  -12  -11  -10   -9   -8   -7  -6  -5  -4  -3  -2  -1\n",
    "# h     e     l    l    o         h    o    w         a   r   e       y    o   u\n",
    "# 0     1     2    3    4   5     6    7    8    9   10  11  12  13   14   15  16\n",
    "\n",
    "str1[1:15:2]"
   ]
  },
  {
   "cell_type": "code",
   "execution_count": 36,
   "id": "2d3329fc-9639-4775-a4c1-94ca86c63b8a",
   "metadata": {},
   "outputs": [
    {
     "data": {
      "text/plain": [
       "'lohwa'"
      ]
     },
     "execution_count": 36,
     "metadata": {},
     "output_type": "execute_result"
    }
   ],
   "source": [
    "str1[2:-5:2]"
   ]
  },
  {
   "cell_type": "code",
   "execution_count": 38,
   "id": "20fca983-376d-4984-966f-f61e3cc00a15",
   "metadata": {},
   "outputs": [
    {
     "data": {
      "text/plain": [
       "''"
      ]
     },
     "execution_count": 38,
     "metadata": {},
     "output_type": "execute_result"
    }
   ],
   "source": [
    "str1[15:2:2]"
   ]
  },
  {
   "cell_type": "code",
   "execution_count": null,
   "id": "7f26f572-e131-42c6-9fd3-e48be51ff009",
   "metadata": {},
   "outputs": [],
   "source": [
    "# -17  -16  -15  -14  -13  -12  -11  -10   -9   -8   -7  -6  -5  -4  -3  -2  -1\n",
    "# h     e     l    l    o         h    o    w         a   r   e       y    o   u\n",
    "# 0     1     2    3    4   5     6    7    8    9   10  11  12  13   14   15  16\n"
   ]
  },
  {
   "cell_type": "code",
   "execution_count": 40,
   "id": "36e5be68-cf9d-4824-b585-e47739df5738",
   "metadata": {},
   "outputs": [
    {
     "data": {
      "text/plain": [
       "'llo how are you'"
      ]
     },
     "execution_count": 40,
     "metadata": {},
     "output_type": "execute_result"
    }
   ],
   "source": [
    "str1[2:150]"
   ]
  },
  {
   "cell_type": "code",
   "execution_count": 42,
   "id": "03331fe3-1d9c-4490-b64a-04311987df3d",
   "metadata": {},
   "outputs": [
    {
     "data": {
      "text/plain": [
       "'hello how are you'"
      ]
     },
     "execution_count": 42,
     "metadata": {},
     "output_type": "execute_result"
    }
   ],
   "source": [
    "str1[:]"
   ]
  },
  {
   "cell_type": "code",
   "execution_count": 44,
   "id": "fd5996a7-0c2e-4c1f-bc4b-d6adfe586192",
   "metadata": {},
   "outputs": [
    {
     "data": {
      "text/plain": [
       "'hello how are you'"
      ]
     },
     "execution_count": 44,
     "metadata": {},
     "output_type": "execute_result"
    }
   ],
   "source": [
    "str1[::]"
   ]
  },
  {
   "cell_type": "code",
   "execution_count": 46,
   "id": "e8babfa7-ab9b-4d27-998e-d0a2ca6ce30f",
   "metadata": {},
   "outputs": [
    {
     "data": {
      "text/plain": [
       "'uoy era woh olleh'"
      ]
     },
     "execution_count": 46,
     "metadata": {},
     "output_type": "execute_result"
    }
   ],
   "source": [
    "str1[::-1]"
   ]
  },
  {
   "cell_type": "code",
   "execution_count": 48,
   "id": "a809d7fd-774c-4797-abbb-c1ad052cf061",
   "metadata": {},
   "outputs": [
    {
     "data": {
      "text/plain": [
       "54321"
      ]
     },
     "execution_count": 48,
     "metadata": {},
     "output_type": "execute_result"
    }
   ],
   "source": [
    "num=12345\n",
    "int(str(num)[::-1])"
   ]
  },
  {
   "cell_type": "code",
   "execution_count": 52,
   "id": "40aa40b1-ae67-41dd-b1ae-d730f2972e93",
   "metadata": {},
   "outputs": [
    {
     "data": {
      "text/plain": [
       "'lhay'"
      ]
     },
     "execution_count": 52,
     "metadata": {},
     "output_type": "execute_result"
    }
   ],
   "source": [
    "str1[2:15:4]"
   ]
  },
  {
   "cell_type": "markdown",
   "id": "d4c8a24a-0da9-4568-8675-d37dbe73eb82",
   "metadata": {},
   "source": [
    "- basic representations\n",
    "\n",
    "- inbuilt funtions\n",
    "   - min max len type sum reverse sorted\n",
    "- concatenation\n",
    "-index\n",
    "-in vs range\n",
    "- mutable vs immutable\n",
    "- slice"
   ]
  },
  {
   "cell_type": "markdown",
   "id": "30572622-f91c-4e4f-a697-10a37fabaf5f",
   "metadata": {},
   "source": [
    "**methods**"
   ]
  },
  {
   "cell_type": "code",
   "execution_count": 34,
   "id": "66e6cd01-2957-4845-b32d-431e9ee6a7b0",
   "metadata": {},
   "outputs": [
    {
     "data": {
      "text/plain": [
       "['__add__',\n",
       " '__class__',\n",
       " '__contains__',\n",
       " '__delattr__',\n",
       " '__dir__',\n",
       " '__doc__',\n",
       " '__eq__',\n",
       " '__format__',\n",
       " '__ge__',\n",
       " '__getattribute__',\n",
       " '__getitem__',\n",
       " '__getnewargs__',\n",
       " '__getstate__',\n",
       " '__gt__',\n",
       " '__hash__',\n",
       " '__init__',\n",
       " '__init_subclass__',\n",
       " '__iter__',\n",
       " '__le__',\n",
       " '__len__',\n",
       " '__lt__',\n",
       " '__mod__',\n",
       " '__mul__',\n",
       " '__ne__',\n",
       " '__new__',\n",
       " '__reduce__',\n",
       " '__reduce_ex__',\n",
       " '__repr__',\n",
       " '__rmod__',\n",
       " '__rmul__',\n",
       " '__setattr__',\n",
       " '__sizeof__',\n",
       " '__str__',\n",
       " '__subclasshook__',\n",
       " 'capitalize',\n",
       " 'casefold',\n",
       " 'center',\n",
       " 'count',\n",
       " 'encode',\n",
       " 'endswith',\n",
       " 'expandtabs',\n",
       " 'find',\n",
       " 'format',\n",
       " 'format_map',\n",
       " 'index',\n",
       " 'isalnum',\n",
       " 'isalpha',\n",
       " 'isascii',\n",
       " 'isdecimal',\n",
       " 'isdigit',\n",
       " 'isidentifier',\n",
       " 'islower',\n",
       " 'isnumeric',\n",
       " 'isprintable',\n",
       " 'isspace',\n",
       " 'istitle',\n",
       " 'isupper',\n",
       " 'join',\n",
       " 'ljust',\n",
       " 'lower',\n",
       " 'lstrip',\n",
       " 'maketrans',\n",
       " 'partition',\n",
       " 'removeprefix',\n",
       " 'removesuffix',\n",
       " 'replace',\n",
       " 'rfind',\n",
       " 'rindex',\n",
       " 'rjust',\n",
       " 'rpartition',\n",
       " 'rsplit',\n",
       " 'rstrip',\n",
       " 'split',\n",
       " 'splitlines',\n",
       " 'startswith',\n",
       " 'strip',\n",
       " 'swapcase',\n",
       " 'title',\n",
       " 'translate',\n",
       " 'upper',\n",
       " 'zfill']"
      ]
     },
     "execution_count": 34,
     "metadata": {},
     "output_type": "execute_result"
    }
   ],
   "source": [
    "dir ('sangepo')"
   ]
  },
  {
   "cell_type": "markdown",
   "id": "367762fc-ee6b-45bd-bf22-078fc4fcf50b",
   "metadata": {},
   "source": [
    "**upper**"
   ]
  },
  {
   "cell_type": "code",
   "execution_count": 39,
   "id": "a5b5ac94-d9eb-4f57-b9ea-472865ad7c26",
   "metadata": {},
   "outputs": [
    {
     "data": {
      "text/plain": [
       "'SANGEPU'"
      ]
     },
     "execution_count": 39,
     "metadata": {},
     "output_type": "execute_result"
    }
   ],
   "source": [
    "str1='sangepu'\n",
    "str1.upper()"
   ]
  },
  {
   "cell_type": "markdown",
   "id": "420fd62f-161e-44bd-be45-81b2fe957254",
   "metadata": {},
   "source": [
    "- lower \n",
    "- title\n",
    "- capitilize\n",
    "- casefold"
   ]
  },
  {
   "cell_type": "code",
   "execution_count": 41,
   "id": "d23d3f12-8203-4b90-b8b4-f7ea6ef19989",
   "metadata": {},
   "outputs": [
    {
     "data": {
      "text/plain": [
       "'SANGEPU'"
      ]
     },
     "execution_count": 41,
     "metadata": {},
     "output_type": "execute_result"
    }
   ],
   "source": [
    "str1='sangepu'\n",
    "str1.upper()"
   ]
  },
  {
   "cell_type": "code",
   "execution_count": 47,
   "id": "af13ecbf-0d17-4729-82bb-b83adfb57f93",
   "metadata": {},
   "outputs": [
    {
     "data": {
      "text/plain": [
       "'lower'"
      ]
     },
     "execution_count": 47,
     "metadata": {},
     "output_type": "execute_result"
    }
   ],
   "source": [
    "str1.lower()"
   ]
  },
  {
   "cell_type": "code",
   "execution_count": 53,
   "id": "07b93059-a993-4bc4-9afc-c40d66d5a7d4",
   "metadata": {},
   "outputs": [
    {
     "data": {
      "text/plain": [
       "'Lower'"
      ]
     },
     "execution_count": 53,
     "metadata": {},
     "output_type": "execute_result"
    }
   ],
   "source": [
    "str1.title()"
   ]
  },
  {
   "cell_type": "code",
   "execution_count": 57,
   "id": "ba8c6000-ec7a-45d6-ac20-fc089f8ee04b",
   "metadata": {},
   "outputs": [
    {
     "data": {
      "text/plain": [
       "'Lower'"
      ]
     },
     "execution_count": 57,
     "metadata": {},
     "output_type": "execute_result"
    }
   ],
   "source": [
    "str1.capitalize()"
   ]
  },
  {
   "cell_type": "code",
   "execution_count": 61,
   "id": "f3e46fbb-f40f-4db5-baed-452fca444625",
   "metadata": {},
   "outputs": [
    {
     "data": {
      "text/plain": [
       "'lower'"
      ]
     },
     "execution_count": 61,
     "metadata": {},
     "output_type": "execute_result"
    }
   ],
   "source": [
    "str1.casefold()"
   ]
  },
  {
   "cell_type": "markdown",
   "id": "d3c54a64-ea93-408c-b8e0-16a68ffec2d0",
   "metadata": {},
   "source": [
    "**difference between methods and inbuilt functions**"
   ]
  },
  {
   "cell_type": "code",
   "execution_count": null,
   "id": "68c5a35d-26cc-4bc9-b9fd-583905be08d8",
   "metadata": {},
   "outputs": [],
   "source": [
    "len('python') === upper('python')\n",
    "mas()\n",
    "min()\n",
    "type()\n",
    "print()\n",
    "sum()\n",
    "\n",
    "str1.upper()\n",
    "str1.lower()\n",
    "str1.title()\n",
    "str.1capitalize()\n",
    "str.1 casefold()\n"
   ]
  },
  {
   "cell_type": "markdown",
   "id": "39bea20a-531d-419e-a386-08b9d707b965",
   "metadata": {},
   "source": [
    "**center**"
   ]
  },
  {
   "cell_type": "code",
   "execution_count": 88,
   "id": "142ce0d0-fcf4-4d67-972d-95693234cf61",
   "metadata": {},
   "outputs": [
    {
     "data": {
      "text/plain": [
       "'***python***'"
      ]
     },
     "execution_count": 88,
     "metadata": {},
     "output_type": "execute_result"
    }
   ],
   "source": [
    "str1='python'\n",
    "str1.center(12,'*')\n",
    "\n",
    "# 3starts + python(6)+4*\n",
    "# 4* + 6 +39\n",
    "# here 12 means the len of string becomes 12 character\n",
    "# already 'python' string has 6 character \n",
    "# also remaining 6 characters padd as*\n"
   ]
  },
  {
   "cell_type": "code",
   "execution_count": null,
   "id": "8fe1f6c5-8e48-43cb-8ea2-e655cda62c77",
   "metadata": {},
   "outputs": [],
   "source": [
    "# assume that i already have\n",
    "# string='***python  '"
   ]
  },
  {
   "cell_type": "markdown",
   "id": "868f6b1a-3e8c-4e9a-af30-a4ec9841d011",
   "metadata": {},
   "source": [
    "**STRIP-LSTRIP-RSTRIP**\n",
    "\n",
    "- strip will remove the character both left and right side\n",
    "- lstrip will remove the character on left side\n",
    "- rstrip will remove the character on right side"
   ]
  },
  {
   "cell_type": "code",
   "execution_count": null,
   "id": "71b8fd3d-a5be-4b5e-a406-bc6d651ee169",
   "metadata": {},
   "outputs": [],
   "source": [
    "str1=' pyhton '\n",
    "str2='***python****'\n",
    "str3='  python****'\n"
   ]
  },
  {
   "cell_type": "code",
   "execution_count": 94,
   "id": "febe01ac-a71f-452c-910a-e1ec3bdd63a1",
   "metadata": {},
   "outputs": [
    {
     "data": {
      "text/plain": [
       "' python '"
      ]
     },
     "execution_count": 94,
     "metadata": {},
     "output_type": "execute_result"
    }
   ],
   "source": [
    "str1=' python '\n",
    "str1.strip('*')"
   ]
  },
  {
   "cell_type": "code",
   "execution_count": 98,
   "id": "e411a08a-2ea3-41ff-ac34-65e4e591c040",
   "metadata": {},
   "outputs": [
    {
     "data": {
      "text/plain": [
       "' python '"
      ]
     },
     "execution_count": 98,
     "metadata": {},
     "output_type": "execute_result"
    }
   ],
   "source": [
    "str1.lstrip('*')"
   ]
  },
  {
   "cell_type": "code",
   "execution_count": 100,
   "id": "3e763e1b-a216-4391-b4dd-faed96e87f75",
   "metadata": {},
   "outputs": [
    {
     "data": {
      "text/plain": [
       "' python '"
      ]
     },
     "execution_count": 100,
     "metadata": {},
     "output_type": "execute_result"
    }
   ],
   "source": [
    "str1.rstrip('*')"
   ]
  },
  {
   "cell_type": "code",
   "execution_count": 104,
   "id": "d5b46d7e-1582-4935-86ca-f509f21c4cf8",
   "metadata": {},
   "outputs": [
    {
     "data": {
      "text/plain": [
       "'uday  sangepu'"
      ]
     },
     "execution_count": 104,
     "metadata": {},
     "output_type": "execute_result"
    }
   ],
   "source": [
    "str1='****uday  sangepu****'\n",
    "str1.strip('*')"
   ]
  },
  {
   "cell_type": "code",
   "execution_count": 106,
   "id": "f52a7319-6c80-4de0-bee2-0ebe02653c11",
   "metadata": {},
   "outputs": [
    {
     "data": {
      "text/plain": [
       "'uday sangepu'"
      ]
     },
     "execution_count": 106,
     "metadata": {},
     "output_type": "execute_result"
    }
   ],
   "source": [
    "str2='   uday sangepu****'\n",
    "str2.strip().rstrip('*')\n"
   ]
  },
  {
   "cell_type": "code",
   "execution_count": 114,
   "id": "bbf469f6-60b0-4ae4-992a-eeaf0eb08de2",
   "metadata": {},
   "outputs": [
    {
     "data": {
      "text/plain": [
       "True"
      ]
     },
     "execution_count": 114,
     "metadata": {},
     "output_type": "execute_result"
    }
   ],
   "source": [
    "str1='uday sangepu'\n",
    "str1.startswith('u')"
   ]
  },
  {
   "cell_type": "code",
   "execution_count": 112,
   "id": "501934c6-b6ae-4c82-a6cb-70383cd1d40f",
   "metadata": {},
   "outputs": [
    {
     "data": {
      "text/plain": [
       "True"
      ]
     },
     "execution_count": 112,
     "metadata": {},
     "output_type": "execute_result"
    }
   ],
   "source": [
    "str1='uday sangepu'\n",
    "str1.endswith('u')"
   ]
  },
  {
   "cell_type": "code",
   "execution_count": 19,
   "id": "1cf520c5-206a-4a11-a8c8-3fa39e190009",
   "metadata": {},
   "outputs": [
    {
     "name": "stdout",
     "output_type": "stream",
     "text": [
      "one hundred and sixty-three\n"
     ]
    }
   ],
   "source": [
    "import inflect\n",
    "\n",
    "p = inflect.engine()\n",
    "number = 163\n",
    "\n",
    "words = p.number_to_words(number)\n",
    "print(words)"
   ]
  },
  {
   "cell_type": "markdown",
   "id": "d944565e-08aa-49de-88e1-9ce56c3a77a5",
   "metadata": {},
   "source": [
    "31/01/25\n",
    "\n",
    "\n",
    "**COUNT**\n"
   ]
  },
  {
   "cell_type": "code",
   "execution_count": 10,
   "id": "1564f356-f92f-4f50-ae23-1e94a48dc475",
   "metadata": {},
   "outputs": [
    {
     "name": "stdout",
     "output_type": "stream",
     "text": [
      "3\n"
     ]
    }
   ],
   "source": [
    "str1='ola ola ola'\n",
    "count=0\n",
    "for i in str1:\n",
    "    if i=='a':\n",
    "        count=count+1\n",
    "print(count)"
   ]
  },
  {
   "cell_type": "code",
   "execution_count": 12,
   "id": "f88e2785-2125-4c34-aa8d-8d8382bfdea5",
   "metadata": {},
   "outputs": [
    {
     "data": {
      "text/plain": [
       "3"
      ]
     },
     "execution_count": 12,
     "metadata": {},
     "output_type": "execute_result"
    }
   ],
   "source": [
    "str1='ola ola ola'\n",
    "str1.count('a')"
   ]
  },
  {
   "cell_type": "code",
   "execution_count": 16,
   "id": "0e592f7c-3941-4158-a274-67ef9a5d2ca5",
   "metadata": {},
   "outputs": [
    {
     "data": {
      "text/plain": [
       "2"
      ]
     },
     "execution_count": 16,
     "metadata": {},
     "output_type": "execute_result"
    }
   ],
   "source": [
    "str1='ola ola ola'\n",
    "str1.count('ola ')"
   ]
  },
  {
   "cell_type": "markdown",
   "id": "633a7d5a-48b8-4b64-bd2c-2760dd8ed838",
   "metadata": {},
   "source": [
    "**case-2**"
   ]
  },
  {
   "cell_type": "code",
   "execution_count": 21,
   "id": "f50b5a6f-1374-4dd2-9b35-6032a29fb763",
   "metadata": {},
   "outputs": [
    {
     "data": {
      "text/plain": [
       "1"
      ]
     },
     "execution_count": 21,
     "metadata": {},
     "output_type": "execute_result"
    }
   ],
   "source": [
    "#u  d  a  y    s  a  n  g  e  p  u\n",
    "#-1 -2 -3 -4   1  2  3  4  5  6  7\n",
    "str1.count('a',-4)"
   ]
  },
  {
   "cell_type": "code",
   "execution_count": 23,
   "id": "fa48afa3-b2fb-4ff2-881b-1311f3e9de58",
   "metadata": {},
   "outputs": [
    {
     "data": {
      "text/plain": [
       "2"
      ]
     },
     "execution_count": 23,
     "metadata": {},
     "output_type": "execute_result"
    }
   ],
   "source": [
    "str1.count('a',6)"
   ]
  },
  {
   "cell_type": "code",
   "execution_count": 27,
   "id": "30b19d3c-7abd-4427-89d9-63b668487dbd",
   "metadata": {},
   "outputs": [
    {
     "data": {
      "text/plain": [
       "1"
      ]
     },
     "execution_count": 27,
     "metadata": {},
     "output_type": "execute_result"
    }
   ],
   "source": [
    "str1.count('a',2,4)"
   ]
  },
  {
   "cell_type": "code",
   "execution_count": 31,
   "id": "54a9538e-c24e-408b-ac26-f6ab61f650e0",
   "metadata": {},
   "outputs": [
    {
     "data": {
      "text/plain": [
       "0"
      ]
     },
     "execution_count": 31,
     "metadata": {},
     "output_type": "execute_result"
    }
   ],
   "source": [
    "str1.count('z')"
   ]
  },
  {
   "cell_type": "markdown",
   "id": "61487671-e224-4ec5-9851-9f85545c801f",
   "metadata": {},
   "source": [
    "**SLIDING WINDOW APPROACH**\n",
    "\n",
    "- fix the slice value first\n",
    "- then increase the slice by 1  **str1[i:i+3]**\n",
    "- then increase the slice by 1 : **for i in range(len(str1))**\n",
    "- whenever it is equal to substring : **str1[i:i+3]=='ola'**\n",
    "- then update the count count=count+1"
   ]
  },
  {
   "cell_type": "code",
   "execution_count": 7,
   "id": "0da4a8d3-3a6a-4771-9cec-fada9df4d8de",
   "metadata": {},
   "outputs": [
    {
     "name": "stdout",
     "output_type": "stream",
     "text": [
      "3\n"
     ]
    }
   ],
   "source": [
    "# str1='ola ola ola'\n",
    "#count the number of substring: 'ola'\n",
    "# without using count method\n",
    "\n",
    "count=0\n",
    "str1='ola ola ola'\n",
    "for i in range(len(str1)):\n",
    "    if str1[i:i+3]=='ola':\n",
    "        count+=1\n",
    "print(count)\n",
    "\n"
   ]
  },
  {
   "cell_type": "markdown",
   "id": "3fb58bac-a5b5-495c-965d-894b1ada605f",
   "metadata": {},
   "source": [
    "**REPALCE**"
   ]
  },
  {
   "cell_type": "code",
   "execution_count": 12,
   "id": "e51e0eeb-a5bc-449b-826b-798a3b28dff5",
   "metadata": {},
   "outputs": [
    {
     "data": {
      "text/plain": [
       "'weLcome'"
      ]
     },
     "execution_count": 12,
     "metadata": {},
     "output_type": "execute_result"
    }
   ],
   "source": [
    "str1='welcome'\n",
    "str1.replace('l','L')"
   ]
  },
  {
   "cell_type": "code",
   "execution_count": 14,
   "id": "fbe35796-11bd-4c81-877c-752061e8d1a9",
   "metadata": {},
   "outputs": [
    {
     "data": {
      "text/plain": [
       "'welcome'"
      ]
     },
     "execution_count": 14,
     "metadata": {},
     "output_type": "execute_result"
    }
   ],
   "source": [
    "str1.replace('z','z')"
   ]
  },
  {
   "cell_type": "code",
   "execution_count": 16,
   "id": "b7eff098-588a-4b64-a916-d2d5df3582a8",
   "metadata": {},
   "outputs": [
    {
     "data": {
      "text/plain": [
       "'weLLLcome'"
      ]
     },
     "execution_count": 16,
     "metadata": {},
     "output_type": "execute_result"
    }
   ],
   "source": [
    "str1='welllcome'\n",
    "str1.replace('l','L')"
   ]
  },
  {
   "cell_type": "code",
   "execution_count": 24,
   "id": "6773a12f-a478-4ddf-b0c8-b839518e78a8",
   "metadata": {},
   "outputs": [
    {
     "data": {
      "text/plain": [
       "'weLllcome'"
      ]
     },
     "execution_count": 24,
     "metadata": {},
     "output_type": "execute_result"
    }
   ],
   "source": [
    "str1='welllcome'\n",
    "str1.replace('l','L',1)"
   ]
  },
  {
   "cell_type": "code",
   "execution_count": 26,
   "id": "8969f3dc-ae80-4c46-8110-832189d572cb",
   "metadata": {},
   "outputs": [
    {
     "data": {
      "text/plain": [
       "'welllcome'"
      ]
     },
     "execution_count": 26,
     "metadata": {},
     "output_type": "execute_result"
    }
   ],
   "source": [
    "str1.replace('z','Z')"
   ]
  },
  {
   "cell_type": "markdown",
   "id": "c160090e-c407-4941-a7fb-6ecd7b2c0a1b",
   "metadata": {},
   "source": [
    "- by default it will replace all the occurence\n",
    "- the user can provide count which indicates how many letters can replace\n",
    "- if the substring not found it will return the original string itself"
   ]
  },
  {
   "cell_type": "code",
   "execution_count": 35,
   "id": "07c5f97c-59c3-494a-a810-ffde811bf717",
   "metadata": {},
   "outputs": [
    {
     "data": {
      "text/plain": [
       "'resta$t'"
      ]
     },
     "execution_count": 35,
     "metadata": {},
     "output_type": "execute_result"
    }
   ],
   "source": [
    "str1='restart'\n",
    "# replace 'r' with $\n",
    "# i want only second 'r'\n",
    "# 'resta$t'\n",
    "\n",
    "str1= \"restart\"\n",
    "s1=str1[0:5]\n",
    "s2=str1[5:]\n",
    "s3=s2.replace('r','$')\n",
    "s1+s3"
   ]
  },
  {
   "cell_type": "code",
   "execution_count": 50,
   "id": "c3daa241-7f3e-45c8-8b08-da5471132ad8",
   "metadata": {},
   "outputs": [
    {
     "data": {
      "text/plain": [
       "'resta$t'"
      ]
     },
     "execution_count": 50,
     "metadata": {},
     "output_type": "execute_result"
    }
   ],
   "source": [
    "\n",
    "str1[::-1].replace('r','$',1)[::-1]"
   ]
  },
  {
   "cell_type": "markdown",
   "id": "1871e149-302b-40ad-bfc4-85c27cd53de0",
   "metadata": {},
   "source": [
    "**INDEX METHOD**"
   ]
  },
  {
   "cell_type": "code",
   "execution_count": 53,
   "id": "d649648b-5156-4c0f-a813-f05813db067e",
   "metadata": {},
   "outputs": [
    {
     "data": {
      "text/plain": [
       "3"
      ]
     },
     "execution_count": 53,
     "metadata": {},
     "output_type": "execute_result"
    }
   ],
   "source": [
    "str1='restart restart'\n",
    "str1.index('t')"
   ]
  },
  {
   "cell_type": "code",
   "execution_count": 55,
   "id": "4f7e2f3a-45d3-49ef-9457-5f9df9c5ff04",
   "metadata": {},
   "outputs": [
    {
     "data": {
      "text/plain": [
       "(3, 0)"
      ]
     },
     "execution_count": 55,
     "metadata": {},
     "output_type": "execute_result"
    }
   ],
   "source": [
    "str1='restart restart'\n",
    "str1.index('t'),str1.index('r')"
   ]
  },
  {
   "cell_type": "code",
   "execution_count": 3,
   "id": "792eedda-945b-423c-8920-b1cea1cee3c6",
   "metadata": {},
   "outputs": [
    {
     "data": {
      "text/plain": [
       "13"
      ]
     },
     "execution_count": 3,
     "metadata": {},
     "output_type": "execute_result"
    }
   ],
   "source": [
    "str1='restart restart'\n",
    "str1.index('r')\n",
    "str1.index('r',1)\n",
    "str1.index('r',6)\n",
    "str1.index('r',9)"
   ]
  },
  {
   "cell_type": "code",
   "execution_count": null,
   "id": "293d1f6f-0c28-4a20-8e72-2ff038a9eb20",
   "metadata": {},
   "outputs": [],
   "source": [
    "str1.index('r')\n",
    "str1.index('r',i1+1)\n",
    "str1.index('r',6)\n",
    "str1.index('r',9)"
   ]
  },
  {
   "cell_type": "markdown",
   "id": "c7355b0e-e88c-4ae4-b4a4-13f27a310324",
   "metadata": {},
   "source": [
    "**FIND**\n",
    "- tell me the difference between index and find"
   ]
  },
  {
   "cell_type": "code",
   "execution_count": 8,
   "id": "63eb0876-48fa-4ee0-aa1d-28e7df761bf7",
   "metadata": {},
   "outputs": [],
   "source": [
    "str1='restart'"
   ]
  },
  {
   "cell_type": "code",
   "execution_count": 1,
   "id": "a80a95fc-72d0-4860-8ba1-c0d1e17b7ea0",
   "metadata": {},
   "outputs": [
    {
     "name": "stdout",
     "output_type": "stream",
     "text": [
      "1010101010\n"
     ]
    }
   ],
   "source": [
    "x=\"10\"\n",
    "y=5\n",
    "print(x*y)"
   ]
  },
  {
   "cell_type": "code",
   "execution_count": null,
   "id": "6c24250f-2a46-4ccd-a2f3-7e04e09038c8",
   "metadata": {},
   "outputs": [],
   "source": [
    "str1='virat.kohli@recb.com'\n",
    "str2='rohit.sharma@mi.com'\n",
    "str3='ms'dhoni@csk.com'\n",
    "# extract thr first name from str1:virat\n",
    "# eextract the second name str1:kohli\n",
    "# extraact the company name from str1: rcb\n",
    "str4='a.b@c.com'\n",
    "\n",
    "# idea: try to get the trigger points\n",
    "str1='hello how'\n",
    "str1[0:5]\n",
    "# step-1: first extract .index\n",
    "#step -2: extract the @ index\n",
    "# step-3: extract the second .dot index\n",
    "\n"
   ]
  },
  {
   "cell_type": "code",
   "execution_count": null,
   "id": "ef3c97f8-0dfa-4b83-8123-72d65070ea04",
   "metadata": {},
   "outputs": [],
   "source": [
    "str1='hello how'\n",
    "id1=str1.index('0')\n",
    "id2=str1.index('0',id1+1)"
   ]
  },
  {
   "cell_type": "code",
   "execution_count": 5,
   "id": "bd9e9338-6fd5-4fb8-a261-80249ff2cc6f",
   "metadata": {},
   "outputs": [
    {
     "ename": "NameError",
     "evalue": "name 'dot1' is not defined",
     "output_type": "error",
     "traceback": [
      "\u001b[1;31m---------------------------------------------------------------------------\u001b[0m",
      "\u001b[1;31mNameError\u001b[0m                                 Traceback (most recent call last)",
      "Cell \u001b[1;32mIn[5], line 2\u001b[0m\n\u001b[0;32m      1\u001b[0m str1\u001b[38;5;241m=\u001b[39m\u001b[38;5;124m'\u001b[39m\u001b[38;5;124mvirat.kohli@recb.com\u001b[39m\u001b[38;5;124m'\u001b[39m\n\u001b[1;32m----> 2\u001b[0m first_dot\u001b[38;5;241m=\u001b[39mdot1\u001b[38;5;241m.\u001b[39mindex(\u001b[38;5;124m'\u001b[39m\u001b[38;5;124m.\u001b[39m\u001b[38;5;124m'\u001b[39m)\n\u001b[0;32m      3\u001b[0m \u001b[38;5;28mprint\u001b[39m(first_dot)\n\u001b[0;32m      4\u001b[0m first_name\u001b[38;5;241m=\u001b[39mstr1[:first_dot]\n",
      "\u001b[1;31mNameError\u001b[0m: name 'dot1' is not defined"
     ]
    }
   ],
   "source": [
    "str1='virat.kohli@recb.com'\n",
    "first_dot=dot1.index('.')\n",
    "print(first_dot)\n",
    "first_name=str1[:first_dot]\n",
    "print(first_name)\n",
    "\n",
    "str2='rohit.sharma@mi.com'\n",
    "first_dot=str2.index('.')\n",
    "first_name\n",
    "\n"
   ]
  },
  {
   "cell_type": "code",
   "execution_count": null,
   "id": "c3626e6c-bc09-4bbe-b5c1-1e4322bc7ab8",
   "metadata": {},
   "outputs": [],
   "source": [
    "def extract(str1):\n",
    "    first_dot=str1.index('.')\n",
    "    second_dot=str1.index('.',first_dot+1)\n",
    "    at_the"
   ]
  },
  {
   "cell_type": "markdown",
   "id": "26870099-9a92-40f7-be92-d98f08e65df3",
   "metadata": {},
   "source": [
    "**split**"
   ]
  },
  {
   "cell_type": "markdown",
   "id": "a047434f-ba8f-4f29-b956-7010d1e1e24d",
   "metadata": {},
   "source": [
    "- split is used to convert a string to list of elements\n",
    "- by default it will split based on space"
   ]
  },
  {
   "cell_type": "code",
   "execution_count": 14,
   "id": "75d912da-c32f-47d6-9543-dc43eccb933d",
   "metadata": {},
   "outputs": [
    {
     "data": {
      "text/plain": [
       "['hai', 'how', 'are', 'you']"
      ]
     },
     "execution_count": 14,
     "metadata": {},
     "output_type": "execute_result"
    }
   ],
   "source": [
    "str1='hai how are you'\n",
    "str1.split()"
   ]
  },
  {
   "cell_type": "code",
   "execution_count": 16,
   "id": "99e45395-e5e0-4e75-ab3a-51e4a546ebe7",
   "metadata": {},
   "outputs": [
    {
     "data": {
      "text/plain": [
       "['hai how are you']"
      ]
     },
     "execution_count": 16,
     "metadata": {},
     "output_type": "execute_result"
    }
   ],
   "source": [
    "str1='hai how are you'\n",
    "str1.split('.')"
   ]
  },
  {
   "cell_type": "code",
   "execution_count": 18,
   "id": "05663c7e-3f28-42c2-a879-a0bc75803037",
   "metadata": {},
   "outputs": [
    {
     "data": {
      "text/plain": [
       "['hai', 'how', 'are', 'you']"
      ]
     },
     "execution_count": 18,
     "metadata": {},
     "output_type": "execute_result"
    }
   ],
   "source": [
    "str1='hai  how are you'\n",
    "str1.split()"
   ]
  },
  {
   "cell_type": "code",
   "execution_count": 20,
   "id": "f885835f-bffc-4aed-af49-d40a7ea6ad85",
   "metadata": {},
   "outputs": [
    {
     "data": {
      "text/plain": [
       "['hell', ' hai h', 'w are y', 'u']"
      ]
     },
     "execution_count": 20,
     "metadata": {},
     "output_type": "execute_result"
    }
   ],
   "source": [
    "str1='hello hai how are you'\n",
    "str1.split('o')"
   ]
  },
  {
   "cell_type": "markdown",
   "id": "a9211dcb-3b95-4e18-90da-d6d5ce7a7aba",
   "metadata": {},
   "source": [
    "**join**"
   ]
  },
  {
   "cell_type": "code",
   "execution_count": 31,
   "id": "6cc8d985-5700-4b02-b4b4-7b2ffc5ec2b2",
   "metadata": {},
   "outputs": [
    {
     "data": {
      "text/plain": [
       "'hai how are you'"
      ]
     },
     "execution_count": 31,
     "metadata": {},
     "output_type": "execute_result"
    }
   ],
   "source": [
    "str1='hai how are you'\n",
    "l=str1.split()\n",
    "l\n",
    "' '.join(l)\n"
   ]
  },
  {
   "cell_type": "code",
   "execution_count": 33,
   "id": "3c9725b1-21d7-4799-8ca8-728432b363a8",
   "metadata": {},
   "outputs": [
    {
     "data": {
      "text/plain": [
       "'hai how are you'"
      ]
     },
     "execution_count": 33,
     "metadata": {},
     "output_type": "execute_result"
    }
   ],
   "source": [
    "str1='hai how are you'\n",
    "l=str1.split('.')\n",
    "l\n",
    "' '.join(l)"
   ]
  },
  {
   "cell_type": "code",
   "execution_count": 35,
   "id": "e162d44f-d1a8-4f7e-93cf-0ba5ed32701a",
   "metadata": {},
   "outputs": [
    {
     "data": {
      "text/plain": [
       "'hai how are you'"
      ]
     },
     "execution_count": 35,
     "metadata": {},
     "output_type": "execute_result"
    }
   ],
   "source": [
    "str1='hai  how are you'\n",
    "l=str1.split()\n",
    "l\n",
    "' '.join(l)"
   ]
  },
  {
   "cell_type": "code",
   "execution_count": 37,
   "id": "127ab114-eb5a-419a-9ea0-5d2e9b8971c8",
   "metadata": {},
   "outputs": [
    {
     "data": {
      "text/plain": [
       "'hai h w are y u'"
      ]
     },
     "execution_count": 37,
     "metadata": {},
     "output_type": "execute_result"
    }
   ],
   "source": [
    "str1='hai how are you'\n",
    "l=str1.split('o')\n",
    "l\n",
    "' '.join(l)"
   ]
  },
  {
   "cell_type": "code",
   "execution_count": null,
   "id": "653b81b7-83b9-4936-8473-83f287a226c0",
   "metadata": {},
   "outputs": [],
   "source": [
    "- upper/lower/casefold\n",
    "- title/capitalize\n",
    "- center\n",
    "- lstrip/rstrip/strip\n",
    "- strtswith/endswith\n",
    "- replace\n",
    "- count\n",
    "- index/find\n",
    "- split/join"
   ]
  },
  {
   "cell_type": "markdown",
   "id": "e4e9dd5a-d55c-4418-8b49-bbe5dde0d91a",
   "metadata": {},
   "source": []
  },
  {
   "cell_type": "code",
   "execution_count": null,
   "id": "6ed455e2-92dc-430c-a3dd-17681eac1838",
   "metadata": {},
   "outputs": [],
   "source": [
    "1. Creating a List\n",
    "python\n",
    "Copy\n",
    "Edit\n",
    "my_list = [1, 2, 3, 4, 5]\n",
    "print(my_list)\n",
    "Output:\n",
    "\n",
    "csharp\n",
    "Copy\n",
    "Edit\n",
    "[1, 2, 3, 4, 5]\n",
    "2. Accessing Elements\n",
    "a) Indexing (Starts from 0)\n",
    "python\n",
    "Copy\n",
    "Edit\n",
    "print(my_list[0])  # First element\n",
    "print(my_list[-1]) # Last element\n",
    "b) Slicing\n",
    "python\n",
    "Copy\n",
    "Edit\n",
    "print(my_list[1:4])  # Elements from index 1 to 3\n",
    "print(my_list[:3])   # First 3 elements\n",
    "print(my_list[::2])  # Every second element\n",
    "3. Modifying a List\n",
    "a) Changing Elements\n",
    "python\n",
    "Copy\n",
    "Edit\n",
    "my_list[2] = 10\n",
    "print(my_list)  # [1, 2, 10, 4, 5]\n",
    "b) Adding Elements\n",
    "python\n",
    "Copy\n",
    "Edit\n",
    "my_list.append(6)       # Adds at the end\n",
    "my_list.insert(2, 99)   # Inserts at index 2\n",
    "print(my_list)          # [1, 2, 99, 10, 4, 5, 6]\n",
    "c) Removing Elements\n",
    "python\n",
    "Copy\n",
    "Edit\n",
    "my_list.remove(10)   # Removes the first occurrence of 10\n",
    "my_list.pop(3)       # Removes element at index 3\n",
    "print(my_list)\n",
    "4. List Operations\n",
    "a) Length of List\n",
    "python\n",
    "Copy\n",
    "Edit\n",
    "print(len(my_list))  # Number of elements\n",
    "b) Checking Existence\n",
    "python\n",
    "Copy\n",
    "Edit\n",
    "print(3 in my_list)   # True if 3 exists\n",
    "c) Looping Through a List\n",
    "python\n",
    "Copy\n",
    "Edit\n",
    "for item in my_list:\n",
    "    print(item)\n",
    "5. List Comprehension\n",
    "Shorter way to create lists.\n",
    "\n",
    "python\n",
    "Copy\n",
    "Edit\n",
    "squares = [x**2 for x in range(1, 6)]\n",
    "print(squares)  # [1, 4, 9, 16, 25]\n",
    "6. Sorting and Reversing\n",
    "python\n",
    "Copy\n",
    "Edit\n",
    "numbers = [5, 2, 8, 1, 3]\n",
    "numbers.sort()      # Ascending order\n",
    "print(numbers)      # [1, 2, 3, 5, 8]\n",
    "\n",
    "numbers.reverse()   # Reverse order\n",
    "print(numbers)      # [8, 5, 3, 2, 1]\n",
    "7. Copying a List\n",
    "python\n",
    "Copy\n",
    "Edit\n",
    "new_list = my_list.copy()  # Correct way to copy a list\n",
    "Do you need more details on a specific part? 😊"
   ]
  },
  {
   "cell_type": "code",
   "execution_count": 1,
   "id": "c0ec314b-cf99-474a-90ed-c9b64db18380",
   "metadata": {},
   "outputs": [
    {
     "data": {
      "text/plain": [
       "300"
      ]
     },
     "execution_count": 1,
     "metadata": {},
     "output_type": "execute_result"
    }
   ],
   "source": [
    "num1=100\n",
    "num2=200\n",
    "num3=300\n",
    "max(num1,num2,num3)"
   ]
  },
  {
   "cell_type": "code",
   "execution_count": 10,
   "id": "d6e70afe-863b-4cc5-a11c-93fb48ca0078",
   "metadata": {},
   "outputs": [
    {
     "name": "stdout",
     "output_type": "stream",
     "text": [
      "12345\n"
     ]
    }
   ],
   "source": [
    "str1='the telephone is 12345'\n",
    "num=''\n",
    "for i in str1:\n",
    "    if i.isdigit():\n",
    "        num=num+i\n",
    "print(num)\n",
    "    "
   ]
  },
  {
   "cell_type": "markdown",
   "id": "f158a935-4b0b-4ca3-810a-bdb2e871e6db",
   "metadata": {},
   "source": [
    "**LIST**"
   ]
  },
  {
   "cell_type": "code",
   "execution_count": null,
   "id": "c2666663-d630-4220-95fc-460030e46b16",
   "metadata": {},
   "outputs": [],
   "source": []
  },
  {
   "cell_type": "markdown",
   "id": "df4d6c36-897d-4f75-88a2-f53142353d92",
   "metadata": {},
   "source": [
    "**basic representation**"
   ]
  },
  {
   "cell_type": "code",
   "execution_count": null,
   "id": "f5bb2e74-793c-4021-8b30-69c308460f59",
   "metadata": {},
   "outputs": [],
   "source": [
    "- strings will use in quotes"
   ]
  }
 ],
 "metadata": {
  "kernelspec": {
   "display_name": "Python [conda env:base] *",
   "language": "python",
   "name": "conda-base-py"
  },
  "language_info": {
   "codemirror_mode": {
    "name": "ipython",
    "version": 3
   },
   "file_extension": ".py",
   "mimetype": "text/x-python",
   "name": "python",
   "nbconvert_exporter": "python",
   "pygments_lexer": "ipython3",
   "version": "3.12.7"
  }
 },
 "nbformat": 4,
 "nbformat_minor": 5
}
