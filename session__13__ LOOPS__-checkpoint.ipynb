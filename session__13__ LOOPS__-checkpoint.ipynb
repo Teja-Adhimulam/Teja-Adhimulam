{
 "cells": [
  {
   "cell_type": "markdown",
   "id": "700f37e3-e40f-46c9-9d6f-013953734ea3",
   "metadata": {},
   "source": [
    "**LOOPS**\n",
    "- Loops are used to iterate the code multiple times\n",
    "- functions are used to reuse the code block\n",
    "- that code block can be repeated multiple times \n",
    "- whenever you are doing same task multiple times think about jump\n",
    "- we have two loops\n",
    "    - for loop\n",
    "    - while loop\n",
    "- any loop we need three things\n",
    "   - intilization (start point)\n",
    "   - incremet or decrement\n",
    "   - condition to stop "
   ]
  },
  {
   "cell_type": "markdown",
   "id": "868fad29-4f0f-4c1a-aa04-c02f9f91241a",
   "metadata": {},
   "source": [
    "**FOR LOOP**"
   ]
  },
  {
   "cell_type": "code",
   "execution_count": null,
   "id": "6701ec0d-ac66-4d0c-9dd6-f14e74e3edbb",
   "metadata": {},
   "outputs": [],
   "source": [
    "for <variable> in range(<number>):\n",
    "    <write your code her>\n"
   ]
  },
  {
   "cell_type": "code",
   "execution_count": 6,
   "id": "a3bf9cd6-819b-4a81-becb-d7cc663d89d8",
   "metadata": {},
   "outputs": [
    {
     "name": "stdout",
     "output_type": "stream",
     "text": [
      "0\n",
      "1\n",
      "2\n",
      "3\n",
      "4\n"
     ]
    }
   ],
   "source": [
    "for i in range(5):\n",
    "    print(i)"
   ]
  },
  {
   "cell_type": "code",
   "execution_count": 5,
   "id": "ffbc177e-77ac-44dc-baa0-f57f48260b34",
   "metadata": {},
   "outputs": [
    {
     "name": "stdout",
     "output_type": "stream",
     "text": [
      "0 1 2 "
     ]
    }
   ],
   "source": [
    "\n",
    "for i in range(3):\n",
    "    print(i, end=' ')"
   ]
  },
  {
   "cell_type": "markdown",
   "id": "83a55d02-402f-44ad-b01d-58db6d3a1e9d",
   "metadata": {},
   "source": [
    "**case - 1:range(stop)**\n",
    "\n",
    "- start=0 : python index always starts with zero\n",
    "- increment by 1\n",
    "- last= stop-1"
   ]
  },
  {
   "cell_type": "code",
   "execution_count": 13,
   "id": "476124f2-bef8-44ff-915f-6172210839c4",
   "metadata": {},
   "outputs": [
    {
     "name": "stdout",
     "output_type": "stream",
     "text": [
      "0 1 2 3 4 5 6 7 8 9 "
     ]
    }
   ],
   "source": [
    "for i in  range(10):\n",
    "    print(i ,end=' ')\n",
    "    "
   ]
  },
  {
   "cell_type": "code",
   "execution_count": 7,
   "id": "f84ad760-6ab0-452e-9f02-26e2d29ec6a5",
   "metadata": {},
   "outputs": [
    {
     "name": "stdout",
     "output_type": "stream",
     "text": [
      "good night\n",
      "good night\n",
      "good night\n"
     ]
    }
   ],
   "source": [
    "for i in range(3):\n",
    "    print('good night')\n",
    "        \n",
    "  "
   ]
  },
  {
   "cell_type": "markdown",
   "id": "48e657b6-419c-4d22-a5a2-6e6f67d593ba",
   "metadata": {},
   "source": [
    "**case -2:range(start,stop)**\n",
    "- suppose i want to start my loop with a particular number\n",
    "- then add start also inside range \n",
    "- start=start \n",
    "- increment by 1\n",
    "-last=stop-1\n",
    "range(10,20)\n",
    "- start=20,increnment by 1,last=20-1=19"
   ]
  },
  {
   "cell_type": "code",
   "execution_count": 10,
   "id": "08d22dcb-1a55-4a9a-b80d-30d3504b4a55",
   "metadata": {},
   "outputs": [
    {
     "name": "stdout",
     "output_type": "stream",
     "text": [
      "10 11 12 13 14 15 16 17 18 19 "
     ]
    }
   ],
   "source": [
    "for i in range (10,20):\n",
    "    print(i ,end=' ')"
   ]
  },
  {
   "cell_type": "code",
   "execution_count": 16,
   "id": "3e27a1d2-6ff6-4294-ad95-17978360b919",
   "metadata": {},
   "outputs": [
    {
     "name": "stdout",
     "output_type": "stream",
     "text": [
      "2 4 6 8 10 "
     ]
    }
   ],
   "source": [
    "# waqp ask the user print the sqaure first 5 number\n",
    "for i in range(1,6):\n",
    "      print(i+i,end=' ')"
   ]
  },
  {
   "cell_type": "code",
   "execution_count": 22,
   "id": "0a07a0a9-4f26-45f8-a8db-0644facfe228",
   "metadata": {},
   "outputs": [
    {
     "name": "stdin",
     "output_type": "stream",
     "text": [
      "emter the number 20\n"
     ]
    },
    {
     "name": "stdout",
     "output_type": "stream",
     "text": [
      "400 "
     ]
    },
    {
     "name": "stdin",
     "output_type": "stream",
     "text": [
      "emter the number 20\n"
     ]
    },
    {
     "name": "stdout",
     "output_type": "stream",
     "text": [
      "400 "
     ]
    },
    {
     "name": "stdin",
     "output_type": "stream",
     "text": [
      "emter the number 30\n"
     ]
    },
    {
     "name": "stdout",
     "output_type": "stream",
     "text": [
      "900 "
     ]
    },
    {
     "name": "stdin",
     "output_type": "stream",
     "text": [
      "emter the number 60\n"
     ]
    },
    {
     "name": "stdout",
     "output_type": "stream",
     "text": [
      "3600 "
     ]
    },
    {
     "name": "stdin",
     "output_type": "stream",
     "text": [
      "emter the number 60\n"
     ]
    },
    {
     "name": "stdout",
     "output_type": "stream",
     "text": [
      "3600 "
     ]
    }
   ],
   "source": [
    "# wap ask the user enter a number the prompt should happen 5 times\n",
    "for i in range (5):\n",
    "    num=eval(input(\"emter the number\"))\n",
    "    print(num*num,end=' ')\n"
   ]
  },
  {
   "cell_type": "markdown",
   "id": "7f71fe3c-ce31-41b6-89ca-bf26072b4065",
   "metadata": {},
   "source": [
    "**case - 3 range(start,stop,step)** vvv imp\n",
    "- step=start only\n",
    "- step:\n",
    "  - look about step sign is it positive or negative sign\n",
    "  - positive means increment \n",
    "     - last : stop - 1\n",
    "   - negative means decrement\n",
    "     - last : stop+1\n"
   ]
  },
  {
   "cell_type": "code",
   "execution_count": 25,
   "id": "c669af6f-b16b-49bd-94a3-ce5371576fd3",
   "metadata": {},
   "outputs": [
    {
     "name": "stdout",
     "output_type": "stream",
     "text": [
      "3 5 7 9 11 13 15 17 "
     ]
    }
   ],
   "source": [
    "# eaxmple - 1 :range(3,20,2)\n",
    "# satrt=3\n",
    "# step=+2 positive direction \n",
    "# last = 20-1=19-18\n",
    "# 3,5,7,9,11,13,15,17\n",
    "\n",
    "for i in range (3,19,2):\n",
    "    print(i,end=' ')"
   ]
  },
  {
   "cell_type": "code",
   "execution_count": null,
   "id": "40452605-d0b5-4898-92b2-10f34e6fce48",
   "metadata": {},
   "outputs": [],
   "source": [
    "# eaxmple - 2 :range(3,19,2)\n",
    "# satrt=3\n",
    "# step=+2 negative direction \n",
    "# last = 19+1=20\n",
    "\n",
    "for i in range(3,19,-2):\n",
    "    print(i,end=' ')"
   ]
  },
  {
   "cell_type": "code",
   "execution_count": 32,
   "id": "6f1ab008-9230-4b84-a470-4fe2fed270bf",
   "metadata": {},
   "outputs": [
    {
     "name": "stdout",
     "output_type": "stream",
     "text": [
      "3 1 -1 -3 -5 -7 -9 -11 -13 -15 -17 "
     ]
    }
   ],
   "source": [
    "for i in range(3,-19,-2):\n",
    "    print(i, end=' ')"
   ]
  },
  {
   "cell_type": "code",
   "execution_count": null,
   "id": "4561d986-b13d-4e3a-b306-9d0448ecc52c",
   "metadata": {},
   "outputs": [],
   "source": [
    "range(3,15,3) # possible\n",
    "range(3,15,-3)# not possible\n",
    "range(3,-15,3) # not possible\n",
    "range(-3,15,3) # possible\n",
    "range(3,-15,3) # possible\n",
    "range(-3,-15,3) # not possible\n",
    "range(-3,15,-3) # not possible\n",
    "range(15,3,3) # not possible\n",
    "range(15,3,-3) # possible\n",
    "range(15,-3,3) # not possible\n",
    "range(-15,3,3) # possible\n",
    "range(-15,3,-3) # not possible\n",
    "range(-15,-3,3) # possible\n",
    "range(-15,-3,-3) # not possible"
   ]
  },
  {
   "cell_type": "code",
   "execution_count": null,
   "id": "e23f907c-7542-4d4f-a50c-6d8d3d359748",
   "metadata": {},
   "outputs": [],
   "source": [
    "for i in  range (20,-10,-20):\n",
    "    ptint(i)\n"
   ]
  },
  {
   "cell_type": "code",
   "execution_count": 19,
   "id": "59a75966-48d1-48f9-bf1d-b943925347d3",
   "metadata": {},
   "outputs": [
    {
     "name": "stdout",
     "output_type": "stream",
     "text": [
      "7x1=7\n",
      "7x2=14\n",
      "7x3=21\n",
      "7x4=28\n",
      "7x5=35\n",
      "7x6=42\n",
      "7x7=49\n",
      "7x8=56\n",
      "7x9=63\n",
      "7x10=70\n"
     ]
    }
   ],
   "source": [
    "# q4) print the 7 th table\n",
    "# 7*1=7\n",
    "# 7*2=14\n",
    "# 7*3=21\n",
    "\n",
    "for i in range (1,11):\n",
    "    print(f\"7x{i}={7*i}\")"
   ]
  },
  {
   "cell_type": "code",
   "execution_count": 32,
   "id": "8fc0fc20-6fc0-4892-bda9-984e40e6548f",
   "metadata": {},
   "outputs": [
    {
     "name": "stdin",
     "output_type": "stream",
     "text": [
      "enter the number for divisors needed: 75\n"
     ]
    },
    {
     "name": "stdout",
     "output_type": "stream",
     "text": [
      "the divison of 75 are 1\n",
      "the divison of 75 are 3\n",
      "the divison of 75 are 5\n",
      "the divison of 75 are 15\n",
      "the divison of 75 are 25\n",
      "the divison of 75 are 75\n"
     ]
    }
   ],
   "source": [
    "# q 5 ) find the number of divisor of 75\n",
    "# if you divide 75 with any number the remainder should be zero \n",
    "# 75%1==0 true then print 1\n",
    "# 75%2==0 false\n",
    "# 75%3==0 true then print 3\n",
    "# 75%4==0\n",
    "# 75%5==0\n",
    "#\n",
    "#75#10==0 T \n",
    "# \n",
    "#75#10==0 T \n",
    "# 75#75==0\n",
    "\n",
    "# if 75%i==0\n",
    "\n",
    "n=eval(input(\"enter the number for divisors needed:\"))\n",
    "for i in range(1,n+1):\n",
    "    if n%i==0:\n",
    "        print(f\"the divison of {n} are {i}\")"
   ]
  },
  {
   "cell_type": "code",
   "execution_count": 36,
   "id": "c09a4fd5-22ec-4bbf-9721-b91da35e2b28",
   "metadata": {},
   "outputs": [
    {
     "data": {
      "text/plain": [
       "55.0"
      ]
     },
     "execution_count": 36,
     "metadata": {},
     "output_type": "execute_result"
    }
   ],
   "source": [
    "#q6) sum of first 10 natural number \n",
    "# natural : starts from 1\n",
    "# 1+2+3+4+5+6+7+8+9+10=55\n",
    "# n(n+2)/2\n",
    "n=10\n",
    "n*(n+1)/2"
   ]
  },
  {
   "cell_type": "markdown",
   "id": "a1e670f5-939a-4465-8864-3b810ce1e28b",
   "metadata": {},
   "source": [
    "**summation wrapper**\n",
    "- starting we intilise th sum value: sum=0\n",
    "- inside loop we will add sipmle line :sum =sum+i\n",
    "- sum = 0\n",
    "- for loop\n",
    "   - summ=summ+i"
   ]
  },
  {
   "cell_type": "code",
   "execution_count": 43,
   "id": "072557b0-817a-4574-befa-460b90ac262d",
   "metadata": {},
   "outputs": [
    {
     "name": "stdout",
     "output_type": "stream",
     "text": [
      "the sum of first 10 natural number is 55\n"
     ]
    }
   ],
   "source": [
    "# sum of first 10 natural number \n",
    "summ = 0\n",
    "for i in range(1,11):\n",
    "    summ=summ+i\n",
    "print(f\"the sum of first 10 natural number is {summ}\")    "
   ]
  },
  {
   "cell_type": "code",
   "execution_count": 54,
   "id": "c7353714-43e1-459d-93f8-5eae6eb98a35",
   "metadata": {},
   "outputs": [
    {
     "name": "stdin",
     "output_type": "stream",
     "text": [
      "enter the number for divisors needed: 75\n"
     ]
    },
    {
     "name": "stdout",
     "output_type": "stream",
     "text": [
      "the sum of divisors of 75 is 124\n"
     ]
    }
   ],
   "source": [
    "# q7) find the sum of divisors of 75\n",
    "# 75 :1,3,5,15,25,75\n",
    "#     1+3+5+15+25+75\n",
    "n2=eval(input(\"enter the number for divisors needed:\"))\n",
    "summ1 = 0\n",
    "for i in range(1,n2+1):\n",
    "    if n2%i==0:\n",
    "        summ1=summ1+i\n",
    "print(f\"the sum of divisors of {n2} is {summ1}\")        \n",
    "        \n"
   ]
  },
  {
   "cell_type": "markdown",
   "id": "6e04691e-0fb2-4ea4-a01c-597391453aa6",
   "metadata": {},
   "source": [
    "**counter wrapper**\n",
    "- counter means counting the successs ones\n",
    "- count=0\n",
    "-  for loop\n",
    "  - count=count+1\n",
    "\n",
    "    "
   ]
  },
  {
   "cell_type": "code",
   "execution_count": 64,
   "id": "995f93f8-2afa-46b9-8657-2fdd81b561c2",
   "metadata": {},
   "outputs": [
    {
     "name": "stdin",
     "output_type": "stream",
     "text": [
      "enter the number for divisors needed: 75\n"
     ]
    },
    {
     "name": "stdout",
     "output_type": "stream",
     "text": [
      "the sum of divisors of 75 is 6\n"
     ]
    }
   ],
   "source": [
    "# find the number of divisors of 75\n",
    "\n",
    "n3=eval(input(\"enter the number for divisors needed:\"))\n",
    "count = 0\n",
    "for i in range(1,n3+1):\n",
    "    if n3%i==0:\n",
    "        count=count+1\n",
    "print(f\"the sum of divisors of {n3} is {count}\")  "
   ]
  },
  {
   "cell_type": "code",
   "execution_count": 91,
   "id": "4ef6dc13-cbd7-4414-88c9-ed0f41c7752f",
   "metadata": {},
   "outputs": [
    {
     "name": "stdout",
     "output_type": "stream",
     "text": [
      "1\n",
      "62\n",
      "19\n",
      "95\n",
      "70\n",
      "there are 2 even numbers\n",
      "the sum  of even number is 132 \n",
      "there are 3 even number \n",
      " the sum of odd number is 115\n"
     ]
    }
   ],
   "source": [
    "# q8) \n",
    "# ask the get 5 random numbers\n",
    "# means you need a get a random number inside for loop \n",
    "# the loop should run 5 times \n",
    "# now perform the even and odd operation \n",
    "# 1) even count # 2) sum of even numbers 3) odd count 4) sum of add\n",
    "\n",
    "import random \n",
    "count_even=0\n",
    "count_odd=0\n",
    "sum_even=0\n",
    "sum_odd=0\n",
    "for i in range(5):\n",
    "    number=random.randint(1,100)\n",
    "    if number%2==0:\n",
    "       print(number)\n",
    "       count_even=count_even+1\n",
    "       sum_even=sum_even+number\n",
    "    else:\n",
    "        print(number)\n",
    "        count_odd=count_odd+1\n",
    "        sum_odd=sum_odd+number\n",
    "print(f\"there are {count_even} even numbers\")\n",
    "print(f\"the sum  of even number is {sum_even} \")\n",
    "print(f\"there are {count_odd} even number \")\n",
    "print (f\" the sum of odd number is {sum_odd}\")"
   ]
  },
  {
   "cell_type": "code",
   "execution_count": null,
   "id": "24bed2be-b342-4256-ba37-2054858ccd83",
   "metadata": {},
   "outputs": [],
   "source": [
    "\n",
    "for i in range(3):\n",
    "    numb1=eval(input(\"enter the number \"))\n",
    "    numb2=random.randint(1,10)\n",
    "    if numb1==numb2:\n",
    "    \n",
    "        print(\"you won\")\n",
    "    else:\n",
    "        print(\"you lost\")\n",
    "           "
   ]
  },
  {
   "cell_type": "code",
   "execution_count": 31,
   "id": "e1f5f33f-0b33-4597-9989-80f1d60b7e87",
   "metadata": {},
   "outputs": [
    {
     "name": "stdout",
     "output_type": "stream",
     "text": [
      "1\n",
      "2\n",
      "3\n",
      "4\n",
      "5\n",
      "6\n",
      "7\n",
      "8\n",
      "9\n",
      "10\n",
      "11\n",
      "12\n",
      "13\n",
      "14\n",
      "15\n",
      "16\n",
      "17\n",
      "18\n",
      "19\n",
      "20\n",
      "21\n",
      "22\n",
      "23\n",
      "24\n",
      "25\n",
      "26\n",
      "27\n",
      "28\n",
      "29\n",
      "30\n",
      "31\n",
      "32\n",
      "33\n",
      "34\n",
      "35\n",
      "36\n",
      "37\n",
      "38\n",
      "39\n",
      "40\n",
      "41\n",
      "42\n",
      "43\n",
      "44\n",
      "45\n",
      "46\n",
      "47\n",
      "48\n",
      "49\n",
      "50\n",
      "51\n",
      "52\n",
      "53\n",
      "54\n",
      "55\n",
      "56\n",
      "57\n",
      "58\n",
      "59\n",
      "60\n",
      "61\n",
      "62\n",
      "63\n",
      "64\n",
      "65\n",
      "66\n",
      "67\n",
      "68\n",
      "69\n",
      "70\n",
      "71\n",
      "72\n",
      "73\n",
      "74\n",
      "75\n",
      "76\n",
      "77\n",
      "78\n",
      "79\n",
      "80\n",
      "81\n",
      "82\n",
      "83\n",
      "84\n",
      "85\n",
      "86\n",
      "87\n",
      "88\n",
      "89\n",
      "90\n",
      "91\n",
      "92\n",
      "93\n",
      "94\n",
      "95\n",
      "96\n",
      "97\n",
      "98\n",
      "99\n",
      "100\n",
      "101\n",
      "102\n",
      "103\n",
      "104\n",
      "105\n",
      "106\n",
      "107\n",
      "108\n",
      "109\n",
      "110\n",
      "111\n",
      "112\n",
      "113\n",
      "114\n",
      "115\n",
      "116\n",
      "117\n",
      "118\n",
      "119\n",
      "120\n",
      "121\n",
      "122\n",
      "123\n",
      "124\n",
      "125\n",
      "126\n",
      "127\n",
      "128\n",
      "129\n",
      "130\n",
      "131\n",
      "132\n",
      "133\n",
      "134\n",
      "135\n",
      "136\n",
      "137\n",
      "138\n",
      "139\n",
      "140\n",
      "141\n",
      "142\n",
      "143\n",
      "144\n",
      "145\n",
      "146\n",
      "147\n",
      "148\n",
      "149\n",
      "150\n",
      "151\n",
      "152\n",
      "153\n",
      "154\n",
      "155\n",
      "156\n",
      "157\n",
      "158\n",
      "159\n",
      "160\n",
      "161\n",
      "162\n",
      "163\n",
      "164\n",
      "165\n",
      "166\n",
      "167\n",
      "168\n",
      "169\n",
      "170\n",
      "171\n",
      "172\n",
      "173\n",
      "174\n",
      "175\n",
      "176\n",
      "177\n",
      "178\n",
      "179\n",
      "180\n",
      "181\n",
      "182\n",
      "183\n",
      "184\n",
      "185\n",
      "186\n",
      "187\n",
      "188\n",
      "189\n",
      "190\n",
      "191\n",
      "192\n",
      "193\n",
      "194\n",
      "195\n",
      "196\n",
      "197\n",
      "198\n",
      "199\n"
     ]
    }
   ],
   "source": [
    "for i in range(1,200):\n",
    "    print(i)"
   ]
  },
  {
   "cell_type": "code",
   "execution_count": 47,
   "id": "1f4292d6-8c97-42cb-8f81-2dea89e4715f",
   "metadata": {},
   "outputs": [
    {
     "name": "stdout",
     "output_type": "stream",
     "text": [
      "t\n",
      "e\n",
      "j\n",
      "k\n",
      "u\n",
      "m\n",
      "a\n",
      "r\n",
      " \n",
      ",\n",
      "m\n",
      "a\n",
      "n\n",
      "a\n",
      "s\n",
      "a\n"
     ]
    }
   ],
   "source": [
    "string = \"tejkumar ,manasa\"\n",
    "for char in string:\n",
    "    print(char)"
   ]
  },
  {
   "cell_type": "code",
   "execution_count": 49,
   "id": "d3fcce1d-8b87-47ce-8766-f1d72794935f",
   "metadata": {},
   "outputs": [
    {
     "name": "stdout",
     "output_type": "stream",
     "text": [
      "1\n",
      "2\n",
      "3\n",
      "4\n",
      "5\n"
     ]
    }
   ],
   "source": [
    "i =1\n",
    "while i<6:\n",
    "    print(i)\n",
    "    i +=1"
   ]
  },
  {
   "cell_type": "code",
   "execution_count": 5,
   "id": "b76e6875-d380-4ab8-97d1-ebfe18ba722b",
   "metadata": {},
   "outputs": [
    {
     "ename": "ModuleNotFoundError",
     "evalue": "No module named 'num2words'",
     "output_type": "error",
     "traceback": [
      "\u001b[1;31m---------------------------------------------------------------------------\u001b[0m",
      "\u001b[1;31mModuleNotFoundError\u001b[0m                       Traceback (most recent call last)",
      "Cell \u001b[1;32mIn[5], line 1\u001b[0m\n\u001b[1;32m----> 1\u001b[0m \u001b[38;5;28;01mfrom\u001b[39;00m \u001b[38;5;21;01mnum2words\u001b[39;00m \u001b[38;5;28;01mimport\u001b[39;00m num2words\n\u001b[0;32m      2\u001b[0m number \u001b[38;5;241m=\u001b[39m \u001b[38;5;241m55\u001b[39m\n\u001b[0;32m      3\u001b[0m words \u001b[38;5;241m=\u001b[39m num2words(number)\n",
      "\u001b[1;31mModuleNotFoundError\u001b[0m: No module named 'num2words'"
     ]
    }
   ],
   "source": [
    "from num2words import num2words\n",
    "number = 55\n",
    "words = num2words(number)\n",
    "print(words)"
   ]
  },
  {
   "cell_type": "markdown",
   "id": "e464eb8d-d2aa-40ed-9ccc-a8269a907698",
   "metadata": {},
   "source": [
    "**in**"
   ]
  },
  {
   "cell_type": "markdown",
   "id": "78c2b2bc-4ce2-4c7e-ad0a-34e009e7be67",
   "metadata": {},
   "source": [
    "- in for loops we have range in opertors\n",
    "- range is  math related word, whenever we range it expect a number inside range\n",
    "- in operator expects a string"
   ]
  },
  {
   "cell_type": "code",
   "execution_count": 3,
   "id": "6c54f388-8f4b-4f14-bfec-1b4ba665b27c",
   "metadata": {},
   "outputs": [
    {
     "name": "stdout",
     "output_type": "stream",
     "text": [
      "0 1 2 3 4 5 6 7 8 9 "
     ]
    }
   ],
   "source": [
    "for i in range(10):\n",
    "    print(i,end=' ')"
   ]
  },
  {
   "cell_type": "code",
   "execution_count": 5,
   "id": "cfc2b29e-5552-486b-a16e-748f700215d1",
   "metadata": {},
   "outputs": [
    {
     "ename": "TypeError",
     "evalue": "'str' object cannot be interpreted as an integer",
     "output_type": "error",
     "traceback": [
      "\u001b[1;31m---------------------------------------------------------------------------\u001b[0m",
      "\u001b[1;31mTypeError\u001b[0m                                 Traceback (most recent call last)",
      "Cell \u001b[1;32mIn[5], line 1\u001b[0m\n\u001b[1;32m----> 1\u001b[0m \u001b[38;5;28;01mfor\u001b[39;00m i \u001b[38;5;129;01min\u001b[39;00m \u001b[38;5;28mrange\u001b[39m(\u001b[38;5;124m'\u001b[39m\u001b[38;5;124mpython\u001b[39m\u001b[38;5;124m'\u001b[39m):\n\u001b[0;32m      2\u001b[0m     \u001b[38;5;28mprint\u001b[39m(i,end\u001b[38;5;241m=\u001b[39m\u001b[38;5;124m'\u001b[39m\u001b[38;5;124m \u001b[39m\u001b[38;5;124m'\u001b[39m)\n",
      "\u001b[1;31mTypeError\u001b[0m: 'str' object cannot be interpreted as an integer"
     ]
    }
   ],
   "source": [
    "for i in range('python'):\n",
    "    print(i,end=' ')\n",
    "    "
   ]
  },
  {
   "cell_type": "code",
   "execution_count": 9,
   "id": "34d075e4-d008-4667-9b60-80491196d757",
   "metadata": {},
   "outputs": [
    {
     "name": "stdout",
     "output_type": "stream",
     "text": [
      "p y t h o n "
     ]
    }
   ],
   "source": [
    "for i in 'python':\n",
    "    print(i,end=' ')\n",
    "    "
   ]
  },
  {
   "cell_type": "code",
   "execution_count": 13,
   "id": "db4ac718-fcd0-4773-9052-ac3d365b03f1",
   "metadata": {},
   "outputs": [
    {
     "data": {
      "text/plain": [
       "True"
      ]
     },
     "execution_count": 13,
     "metadata": {},
     "output_type": "execute_result"
    }
   ],
   "source": [
    "'p' in 'python'"
   ]
  },
  {
   "cell_type": "code",
   "execution_count": 15,
   "id": "97c35a6e-5d3c-4511-9aa8-d8bdfbea81d4",
   "metadata": {},
   "outputs": [
    {
     "data": {
      "text/plain": [
       "True"
      ]
     },
     "execution_count": 15,
     "metadata": {},
     "output_type": "execute_result"
    }
   ],
   "source": [
    "'p' in 'pythom'\n",
    "'y' in 'python'\n",
    "'t' in 'pyhon'\n",
    "'t' in 'python'\n",
    "'o' in 'python'\n",
    "'n' in 'python'"
   ]
  },
  {
   "cell_type": "markdown",
   "id": "fe07924c-e4e2-4da3-bdf0-afb10e96255e",
   "metadata": {},
   "source": [
    "**ASCIT**\n",
    "  - AMERICAN STANDARD CODE FOR INFORMATION INTERCHANGE"
   ]
  },
  {
   "cell_type": "code",
   "execution_count": 18,
   "id": "31f707bf-9474-4383-8abc-31997dec3394",
   "metadata": {},
   "outputs": [
    {
     "data": {
      "text/plain": [
       "False"
      ]
     },
     "execution_count": 18,
     "metadata": {},
     "output_type": "execute_result"
    }
   ],
   "source": [
    "#'A' ===65\n",
    "#'a' ===97\n",
    "\n",
    "'A'>'a' #65>97"
   ]
  },
  {
   "cell_type": "markdown",
   "id": "93914f6f-a404-438c-a844-22d827212d20",
   "metadata": {},
   "source": [
    "- How to convert char to number \n",
    "- how to convert number to char"
   ]
  },
  {
   "cell_type": "markdown",
   "id": "1615a806-9aca-4476-bc12-51cedd5355f0",
   "metadata": {},
   "source": [
    "**char-ord**"
   ]
  },
  {
   "cell_type": "code",
   "execution_count": 30,
   "id": "9a49fb3f-f4b9-40e8-9631-61d9a884bc41",
   "metadata": {},
   "outputs": [
    {
     "data": {
      "text/plain": [
       "84"
      ]
     },
     "execution_count": 30,
     "metadata": {},
     "output_type": "execute_result"
    }
   ],
   "source": [
    "ord('T')\n",
    "\n"
   ]
  },
  {
   "cell_type": "code",
   "execution_count": 28,
   "id": "4fb1f169-c372-4883-9f79-40c72e9f5939",
   "metadata": {},
   "outputs": [
    {
     "data": {
      "text/plain": [
       "'A'"
      ]
     },
     "execution_count": 28,
     "metadata": {},
     "output_type": "execute_result"
    }
   ],
   "source": [
    "chr(65)"
   ]
  },
  {
   "cell_type": "code",
   "execution_count": 34,
   "id": "fda5e8d1-cde5-4283-83db-293c523b9a7f",
   "metadata": {},
   "outputs": [
    {
     "data": {
      "text/plain": [
       "32"
      ]
     },
     "execution_count": 34,
     "metadata": {},
     "output_type": "execute_result"
    }
   ],
   "source": [
    "ord(' ')"
   ]
  },
  {
   "cell_type": "code",
   "execution_count": 36,
   "id": "83ed2a90-a3d3-4be1-8e01-a9c79667ec35",
   "metadata": {},
   "outputs": [
    {
     "data": {
      "text/plain": [
       "' '"
      ]
     },
     "execution_count": 36,
     "metadata": {},
     "output_type": "execute_result"
    }
   ],
   "source": [
    "chr(32)"
   ]
  },
  {
   "cell_type": "markdown",
   "id": "0b8ee146-05ed-4eb9-a621-88b03a4e6257",
   "metadata": {},
   "source": [
    "- so **ord** converting char to number\n",
    "- **chr** converting number to chr"
   ]
  },
  {
   "cell_type": "code",
   "execution_count": null,
   "id": "20b75fba-66d5-4f51-b303-c680923fbedf",
   "metadata": {},
   "outputs": [],
   "source": [
    "# wap ask the user get the ascii number from A to Z\n",
    "# print:A:65\n",
    "#       B:66\n",
    "\n"
   ]
  },
  {
   "cell_type": "code",
   "execution_count": null,
   "id": "5ed66390-433d-404c-a8a4-2dad9dbb4764",
   "metadata": {},
   "outputs": [],
   "source": []
  },
  {
   "cell_type": "markdown",
   "id": "4c5d8b53-5e00-460e-8e7a-c196ba77f744",
   "metadata": {},
   "source": [
    "**package:string**"
   ]
  },
  {
   "cell_type": "code",
   "execution_count": null,
   "id": "16d5ceda-c794-4251-a58e-7356e372bce3",
   "metadata": {},
   "outputs": [],
   "source": [
    "import <pacakgename>\n",
    "dir(<packagename>\n",
    "in that A TO Z will be given by one method tell me that "
   ]
  },
  {
   "cell_type": "code",
   "execution_count": 44,
   "id": "190a904e-5b03-4c82-aead-308202ce9b12",
   "metadata": {},
   "outputs": [
    {
     "data": {
      "text/plain": [
       "['Formatter',\n",
       " 'Template',\n",
       " '_ChainMap',\n",
       " '__all__',\n",
       " '__builtins__',\n",
       " '__cached__',\n",
       " '__doc__',\n",
       " '__file__',\n",
       " '__loader__',\n",
       " '__name__',\n",
       " '__package__',\n",
       " '__spec__',\n",
       " '_re',\n",
       " '_sentinel_dict',\n",
       " '_string',\n",
       " 'ascii_letters',\n",
       " 'ascii_lowercase',\n",
       " 'ascii_uppercase',\n",
       " 'capwords',\n",
       " 'digits',\n",
       " 'hexdigits',\n",
       " 'octdigits',\n",
       " 'printable',\n",
       " 'punctuation',\n",
       " 'whitespace']"
      ]
     },
     "execution_count": 44,
     "metadata": {},
     "output_type": "execute_result"
    }
   ],
   "source": [
    "import string\n",
    "dir(string)"
   ]
  },
  {
   "cell_type": "code",
   "execution_count": 46,
   "id": "ed98fb1d-1621-4b38-ab4c-81ff8f21bb4c",
   "metadata": {},
   "outputs": [
    {
     "data": {
      "text/plain": [
       "'abcdefghijklmnopqrstuvwxyzABCDEFGHIJKLMNOPQRSTUVWXYZ'"
      ]
     },
     "execution_count": 46,
     "metadata": {},
     "output_type": "execute_result"
    }
   ],
   "source": [
    "string.ascii_letters"
   ]
  },
  {
   "cell_type": "code",
   "execution_count": 48,
   "id": "4920fda1-e096-425a-86db-05b3beb86797",
   "metadata": {},
   "outputs": [
    {
     "data": {
      "text/plain": [
       "'0123456789'"
      ]
     },
     "execution_count": 48,
     "metadata": {},
     "output_type": "execute_result"
    }
   ],
   "source": [
    "string.digits"
   ]
  },
  {
   "cell_type": "code",
   "execution_count": 54,
   "id": "d118d091-e9ca-4153-b03e-a89b7c5b058a",
   "metadata": {},
   "outputs": [
    {
     "name": "stdout",
     "output_type": "stream",
     "text": [
      "A:65\n",
      "B:66\n",
      "C:67\n",
      "D:68\n",
      "E:69\n",
      "F:70\n",
      "G:71\n",
      "H:72\n",
      "I:73\n",
      "J:74\n",
      "K:75\n",
      "L:76\n",
      "M:77\n",
      "N:78\n",
      "O:79\n",
      "P:80\n",
      "Q:81\n",
      "R:82\n",
      "S:83\n",
      "T:84\n",
      "U:85\n",
      "V:86\n",
      "W:87\n",
      "X:88\n",
      "Y:89\n",
      "Z:90\n"
     ]
    }
   ],
   "source": [
    "for i in string.ascii_uppercase:\n",
    "    print(f\"{i}:{ord(i)}\")"
   ]
  },
  {
   "cell_type": "code",
   "execution_count": 56,
   "id": "232edf3f-b685-4378-927a-fbf684a4586b",
   "metadata": {},
   "outputs": [
    {
     "name": "stdout",
     "output_type": "stream",
     "text": [
      "!:33\n",
      "\":34\n",
      "#:35\n",
      "$:36\n",
      "%:37\n",
      "&:38\n",
      "':39\n",
      "(:40\n",
      "):41\n",
      "*:42\n",
      "+:43\n",
      ",:44\n",
      "-:45\n",
      ".:46\n",
      "/:47\n",
      "::58\n",
      ";:59\n",
      "<:60\n",
      "=:61\n",
      ">:62\n",
      "?:63\n",
      "@:64\n",
      "[:91\n",
      "\\:92\n",
      "]:93\n",
      "^:94\n",
      "_:95\n",
      "`:96\n",
      "{:123\n",
      "|:124\n",
      "}:125\n",
      "~:126\n"
     ]
    }
   ],
   "source": [
    "for i in string.punctuation:\n",
    "    print(f\"{i}:{ord(i)}\")"
   ]
  },
  {
   "cell_type": "code",
   "execution_count": 58,
   "id": "88ce10ef-828f-49b6-b468-1cd561b8be25",
   "metadata": {},
   "outputs": [
    {
     "name": "stdout",
     "output_type": "stream",
     "text": [
      "0:48\n",
      "1:49\n",
      "2:50\n",
      "3:51\n",
      "4:52\n",
      "5:53\n",
      "6:54\n",
      "7:55\n",
      "8:56\n",
      "9:57\n"
     ]
    }
   ],
   "source": [
    "for i in string.digits:\n",
    "    print(f\"{i}:{ord(i)}\")"
   ]
  },
  {
   "cell_type": "code",
   "execution_count": 64,
   "id": "7a85ad45-be40-403e-8006-0365688f9f1e",
   "metadata": {},
   "outputs": [
    {
     "name": "stdout",
     "output_type": "stream",
     "text": [
      "33:!\n",
      "34:\"\n",
      "35:#\n",
      "36:$\n",
      "37:%\n",
      "38:&\n",
      "39:'\n",
      "40:(\n",
      "41:)\n",
      "42:*\n",
      "43:+\n",
      "44:,\n",
      "45:-\n",
      "46:.\n",
      "47:/\n",
      "48:0\n",
      "49:1\n",
      "50:2\n",
      "51:3\n",
      "52:4\n",
      "53:5\n",
      "54:6\n",
      "55:7\n",
      "56:8\n",
      "57:9\n",
      "58::\n",
      "59:;\n",
      "60:<\n",
      "61:=\n",
      "62:>\n",
      "63:?\n",
      "64:@\n",
      "65:A\n",
      "66:B\n",
      "67:C\n",
      "68:D\n",
      "69:E\n",
      "70:F\n",
      "71:G\n",
      "72:H\n",
      "73:I\n",
      "74:J\n",
      "75:K\n",
      "76:L\n",
      "77:M\n",
      "78:N\n",
      "79:O\n",
      "80:P\n",
      "81:Q\n",
      "82:R\n",
      "83:S\n",
      "84:T\n",
      "85:U\n",
      "86:V\n",
      "87:W\n",
      "88:X\n",
      "89:Y\n",
      "90:Z\n",
      "91:[\n",
      "92:\\\n",
      "93:]\n",
      "94:^\n",
      "95:_\n",
      "96:`\n",
      "97:a\n",
      "98:b\n",
      "99:c\n",
      "100:d\n",
      "101:e\n",
      "102:f\n",
      "103:g\n",
      "104:h\n",
      "105:i\n",
      "106:j\n",
      "107:k\n",
      "108:l\n",
      "109:m\n",
      "110:n\n",
      "111:o\n",
      "112:p\n",
      "113:q\n",
      "114:r\n",
      "115:s\n",
      "116:t\n",
      "117:u\n",
      "118:v\n",
      "119:w\n",
      "120:x\n",
      "121:y\n",
      "122:z\n",
      "123:{\n",
      "124:|\n",
      "125:}\n",
      "126:~\n"
     ]
    }
   ],
   "source": [
    "for i in range(33,127):\n",
    "    print(f\"{i}:{chr(i)}\")"
   ]
  },
  {
   "cell_type": "code",
   "execution_count": 68,
   "id": "6a68532a-7e29-4f76-8e1a-b45145937f21",
   "metadata": {},
   "outputs": [
    {
     "name": "stdout",
     "output_type": "stream",
     "text": [
      "3072:ఀ\n",
      "3073:ఁ\n",
      "3074:ం\n",
      "3075:ః\n",
      "3076:ఄ\n",
      "3077:అ\n",
      "3078:ఆ\n",
      "3079:ఇ\n",
      "3080:ఈ\n",
      "3081:ఉ\n",
      "3082:ఊ\n",
      "3083:ఋ\n",
      "3084:ఌ\n",
      "3085:఍\n",
      "3086:ఎ\n",
      "3087:ఏ\n",
      "3088:ఐ\n",
      "3089:఑\n",
      "3090:ఒ\n",
      "3091:ఓ\n",
      "3092:ఔ\n",
      "3093:క\n",
      "3094:ఖ\n",
      "3095:గ\n",
      "3096:ఘ\n",
      "3097:ఙ\n",
      "3098:చ\n",
      "3099:ఛ\n",
      "3100:జ\n",
      "3101:ఝ\n",
      "3102:ఞ\n",
      "3103:ట\n",
      "3104:ఠ\n",
      "3105:డ\n",
      "3106:ఢ\n",
      "3107:ణ\n",
      "3108:త\n",
      "3109:థ\n",
      "3110:ద\n",
      "3111:ధ\n",
      "3112:న\n",
      "3113:఩\n",
      "3114:ప\n",
      "3115:ఫ\n",
      "3116:బ\n",
      "3117:భ\n",
      "3118:మ\n",
      "3119:య\n",
      "3120:ర\n",
      "3121:ఱ\n",
      "3122:ల\n",
      "3123:ళ\n",
      "3124:ఴ\n",
      "3125:వ\n",
      "3126:శ\n",
      "3127:ష\n",
      "3128:స\n",
      "3129:హ\n",
      "3130:఺\n",
      "3131:఻\n",
      "3132:఼\n",
      "3133:ఽ\n",
      "3134:ా\n",
      "3135:ి\n",
      "3136:ీ\n",
      "3137:ు\n",
      "3138:ూ\n",
      "3139:ృ\n",
      "3140:ౄ\n",
      "3141:౅\n",
      "3142:ె\n",
      "3143:ే\n",
      "3144:ై\n",
      "3145:౉\n",
      "3146:ొ\n",
      "3147:ో\n",
      "3148:ౌ\n",
      "3149:్\n",
      "3150:౎\n",
      "3151:౏\n",
      "3152:౐\n",
      "3153:౑\n",
      "3154:౒\n",
      "3155:౓\n",
      "3156:౔\n",
      "3157:ౕ\n",
      "3158:ౖ\n",
      "3159:౗\n",
      "3160:ౘ\n",
      "3161:ౙ\n",
      "3162:ౚ\n",
      "3163:౛\n",
      "3164:౜\n",
      "3165:ౝ\n",
      "3166:౞\n",
      "3167:౟\n",
      "3168:ౠ\n",
      "3169:ౡ\n",
      "3170:ౢ\n",
      "3171:ౣ\n",
      "3172:౤\n",
      "3173:౥\n",
      "3174:౦\n",
      "3175:౧\n",
      "3176:౨\n",
      "3177:౩\n",
      "3178:౪\n",
      "3179:౫\n",
      "3180:౬\n",
      "3181:౭\n",
      "3182:౮\n",
      "3183:౯\n",
      "3184:౰\n",
      "3185:౱\n",
      "3186:౲\n",
      "3187:౳\n",
      "3188:౴\n",
      "3189:౵\n",
      "3190:౶\n",
      "3191:౷\n",
      "3192:౸\n",
      "3193:౹\n",
      "3194:౺\n",
      "3195:౻\n",
      "3196:౼\n",
      "3197:౽\n",
      "3198:౾\n"
     ]
    }
   ],
   "source": [
    "for i in range(3072,3199):\n",
    "    print(f\"{i}:{chr(i)}\")"
   ]
  },
  {
   "cell_type": "code",
   "execution_count": null,
   "id": "5670d1bb-8949-4efc-9043-a4118075e810",
   "metadata": {},
   "outputs": [],
   "source": []
  },
  {
   "cell_type": "code",
   "execution_count": null,
   "id": "2d5708c7-46c5-4930-b09d-010faa41592e",
   "metadata": {},
   "outputs": [],
   "source": []
  }
 ],
 "metadata": {
  "kernelspec": {
   "display_name": "Python [conda env:base] *",
   "language": "python",
   "name": "conda-base-py"
  },
  "language_info": {
   "codemirror_mode": {
    "name": "ipython",
    "version": 3
   },
   "file_extension": ".py",
   "mimetype": "text/x-python",
   "name": "python",
   "nbconvert_exporter": "python",
   "pygments_lexer": "ipython3",
   "version": "3.12.7"
  }
 },
 "nbformat": 4,
 "nbformat_minor": 5
}
