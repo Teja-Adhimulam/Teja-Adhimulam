{
 "cells": [
  {
   "cell_type": "markdown",
   "id": "6d5155dd-cf50-4f9c-b39b-531a4dfe9918",
   "metadata": {},
   "source": [
    "**DICTIONARY**"
   ]
  },
  {
   "cell_type": "code",
   "execution_count": 6,
   "id": "15b0952c-3bfd-41d0-949e-ef0a3c150778",
   "metadata": {},
   "outputs": [
    {
     "name": "stdout",
     "output_type": "stream",
     "text": [
      "rakesh age is 20\n",
      "uday age is 21\n",
      "teja age is 22\n"
     ]
    }
   ],
   "source": [
    "names=['rakesh','uday','teja']\n",
    "age=[20,21,22]\n",
    "#'rakesh age is 20'\n",
    "#'uday age is 21'\n",
    "\n",
    "for i in range(len(names)):\n",
    "    print(f\"{names[i]} age is {age[i]}\")"
   ]
  },
  {
   "cell_type": "markdown",
   "id": "8b776620-f3c0-4b1d-a167-ea4f37bdcfce",
   "metadata": {},
   "source": [
    "**zip**"
   ]
  },
  {
   "cell_type": "code",
   "execution_count": 15,
   "id": "8c7938c9-7a38-46ed-aedb-57e67858d765",
   "metadata": {},
   "outputs": [
    {
     "name": "stdout",
     "output_type": "stream",
     "text": [
      "rakesh 20\n",
      "rakesh age is 20\n",
      "uday 21\n",
      "uday age is 21\n",
      "teja 22\n",
      "teja age is 22\n"
     ]
    }
   ],
   "source": [
    "names=['rakesh','uday','teja']\n",
    "age=[20,21,22]\n",
    "for i,j in zip(names,age):\n",
    "    print(i,j)\n",
    "    print(f\"{i} age is {j}\")\n"
   ]
  },
  {
   "cell_type": "code",
   "execution_count": 21,
   "id": "ba0f27d1-d9d2-4c9b-8538-4795a12f6ee8",
   "metadata": {},
   "outputs": [
    {
     "name": "stdout",
     "output_type": "stream",
     "text": [
      "rakesh\n",
      "uday\n",
      "teja\n"
     ]
    }
   ],
   "source": [
    "names=['rakesh','uday','teja']\n",
    "age=[20,21,22]\n",
    "for i,j in zip(names,age):\n",
    "    print(i)"
   ]
  },
  {
   "cell_type": "code",
   "execution_count": 23,
   "id": "f35cc00b-f40c-4ffe-8254-26395c224a21",
   "metadata": {},
   "outputs": [
    {
     "name": "stdout",
     "output_type": "stream",
     "text": [
      "20\n",
      "21\n",
      "22\n"
     ]
    }
   ],
   "source": [
    "names=['rakesh','uday','teja']\n",
    "age=[20,21,22]\n",
    "for i,j in zip(names,age):\n",
    "    print(j)"
   ]
  },
  {
   "cell_type": "code",
   "execution_count": 25,
   "id": "6fbedc0e-0f4e-4330-8670-b2e3733c3e9b",
   "metadata": {},
   "outputs": [
    {
     "name": "stdout",
     "output_type": "stream",
     "text": [
      "rakesh 20\n",
      "uday 21\n",
      "teja 22\n"
     ]
    }
   ],
   "source": [
    "names=['rakesh','uday','teja']\n",
    "age=[20,21,22]\n",
    "for i,j in zip(names,age):\n",
    "    print(i,j)"
   ]
  },
  {
   "cell_type": "markdown",
   "id": "3277dc68-f9d4-4e8e-9de2-1be35a9f8f3f",
   "metadata": {},
   "source": [
    "**dictionary**\n",
    "\n",
    "- in above example names and age both are together \n",
    "- when both are together we can pair them \n",
    "- this can happen using dictionary\n",
    "- dictionary is calles as **key-value** pair\n",
    "- if represents with curly braces : **{key:values}**\n",
    "- rakesh and 20 years both are pair:{'rakesh':20} "
   ]
  },
  {
   "cell_type": "code",
   "execution_count": 28,
   "id": "5b694de5-448a-466d-a6ce-05762e1acdec",
   "metadata": {},
   "outputs": [
    {
     "data": {
      "text/plain": [
       "{'rakesh': 20, 'uday': 21, 'teja': 22}"
      ]
     },
     "execution_count": 28,
     "metadata": {},
     "output_type": "execute_result"
    }
   ],
   "source": [
    "d1={'rakesh':20,'uday':21,'teja':22}\n",
    "d1"
   ]
  },
  {
   "cell_type": "code",
   "execution_count": 3,
   "id": "e12f13e6-88ff-4468-a2d0-06b2ae2d1b8c",
   "metadata": {},
   "outputs": [
    {
     "data": {
      "text/plain": [
       "{20: 'rakesh', 21: 'uday', 22: 'teja'}"
      ]
     },
     "execution_count": 3,
     "metadata": {},
     "output_type": "execute_result"
    }
   ],
   "source": [
    "d2={20:'rakesh',21:'uday',22:'teja'}\n",
    "d2"
   ]
  },
  {
   "cell_type": "code",
   "execution_count": 5,
   "id": "ce918424-8e67-40f7-ada4-df560396604c",
   "metadata": {},
   "outputs": [
    {
     "data": {
      "text/plain": [
       "{'naresh': 20, 'it': 21, 'institute': 22}"
      ]
     },
     "execution_count": 5,
     "metadata": {},
     "output_type": "execute_result"
    }
   ],
   "source": [
    "#start you imagination make a dictionary with make way\n",
    "\n",
    "d3={'naresh':20,'it':21,'institute':22}\n",
    "d3"
   ]
  },
  {
   "cell_type": "code",
   "execution_count": 7,
   "id": "49a28911-0c21-46ea-8c01-3562c07df57e",
   "metadata": {},
   "outputs": [
    {
     "data": {
      "text/plain": [
       "{'rakesh', 'teja', 'uday'}"
      ]
     },
     "execution_count": 7,
     "metadata": {},
     "output_type": "execute_result"
    }
   ],
   "source": [
    "d4={'rakesh','uday','teja'}\n",
    "d4"
   ]
  },
  {
   "cell_type": "code",
   "execution_count": 9,
   "id": "116988ef-af7d-4166-b577-c407b0121f62",
   "metadata": {},
   "outputs": [
    {
     "data": {
      "text/plain": [
       "{'names': ['rakesh', 'uday', 'teja'],\n",
       " 'sports': ['mike tyson', 'rapo', 'sangepu']}"
      ]
     },
     "execution_count": 9,
     "metadata": {},
     "output_type": "execute_result"
    }
   ],
   "source": [
    "d5={'names':['rakesh','uday','teja'],'sports':['mike tyson','rapo','sangepu']}\n",
    "d5"
   ]
  },
  {
   "cell_type": "code",
   "execution_count": 11,
   "id": "39a775aa-15db-40da-a332-812c63d7f281",
   "metadata": {},
   "outputs": [
    {
     "data": {
      "text/plain": [
       "{'rakesh': 20, 'uday': 21}"
      ]
     },
     "execution_count": 11,
     "metadata": {},
     "output_type": "execute_result"
    }
   ],
   "source": [
    "d6={'rakesh':20,'uday':21,}\n",
    "d6"
   ]
  },
  {
   "cell_type": "code",
   "execution_count": 20,
   "id": "b89422aa-3de5-434f-835d-bd0c8c26cc88",
   "metadata": {},
   "outputs": [
    {
     "data": {
      "text/plain": [
       "{'rakesh': 20, 'uday': 21}"
      ]
     },
     "execution_count": 20,
     "metadata": {},
     "output_type": "execute_result"
    }
   ],
   "source": [
    "d7={'rakesh':20,'uday':21}\n",
    "d7"
   ]
  },
  {
   "cell_type": "code",
   "execution_count": 22,
   "id": "fd68af90-367d-4adc-af9e-52e8be414c7a",
   "metadata": {},
   "outputs": [
    {
     "data": {
      "text/plain": [
       "{20: 'rakesh', 21: 'uday', 22: 'teja'}"
      ]
     },
     "execution_count": 22,
     "metadata": {},
     "output_type": "execute_result"
    }
   ],
   "source": [
    "d8={20:'rakesh',21:'uday',22:'teja'}\n",
    "d8"
   ]
  },
  {
   "cell_type": "code",
   "execution_count": 28,
   "id": "95b459bf-e7f5-45ac-a610-819e94fca47d",
   "metadata": {},
   "outputs": [
    {
     "data": {
      "text/plain": [
       "{20: 'teja'}"
      ]
     },
     "execution_count": 28,
     "metadata": {},
     "output_type": "execute_result"
    }
   ],
   "source": [
    "d9={20:'teja'}\n",
    "d9"
   ]
  },
  {
   "cell_type": "code",
   "execution_count": 30,
   "id": "dd7e0419-9873-4a06-8d11-9abe4cf156bf",
   "metadata": {},
   "outputs": [
    {
     "data": {
      "text/plain": [
       "{20: 'rakesh', 21: 'uday', 22: 'teja'}"
      ]
     },
     "execution_count": 30,
     "metadata": {},
     "output_type": "execute_result"
    }
   ],
   "source": [
    "d10={20:'rakesh',21:'uday',22:'teja'}\n",
    "d10"
   ]
  },
  {
   "cell_type": "markdown",
   "id": "b0ad3cdf-3551-4415-9425-00de086f32f8",
   "metadata": {},
   "source": [
    "**list as keys fails because list has a mutable behaviour**\n",
    "\n",
    "**tuple as keys works because tuple has immutable behaviour**\n",
    "\n",
    "**in dictionary keys are very very important**\n",
    "\n",
    "**keys does not change so when  we apply list is failin**"
   ]
  },
  {
   "cell_type": "markdown",
   "id": "5fedbfd2-5fe7-4cf5-8cd7-1071752fe966",
   "metadata": {},
   "source": [
    "- if both keys  are same it will take the latest value\n",
    "- dictionary does not allow duplicates\n",
    "- in dictionary key pays vital rols\n",
    "- key can not be duplicate but values cam be duplicates\n"
   ]
  },
  {
   "cell_type": "code",
   "execution_count": 1,
   "id": "71b3d1ed-8f92-4651-8ab7-5b42a0db64ea",
   "metadata": {},
   "outputs": [
    {
     "ename": "SyntaxError",
     "evalue": "unterminated string literal (detected at line 1) (1166994890.py, line 1)",
     "output_type": "error",
     "traceback": [
      "\u001b[1;36m  Cell \u001b[1;32mIn[1], line 1\u001b[1;36m\u001b[0m\n\u001b[1;33m    d14={'fruits':{'\u001b[0m\n\u001b[1;37m                   ^\u001b[0m\n\u001b[1;31mSyntaxError\u001b[0m\u001b[1;31m:\u001b[0m unterminated string literal (detected at line 1)\n"
     ]
    }
   ],
   "source": [
    "d14={'fruits':{"
   ]
  },
  {
   "cell_type": "code",
   "execution_count": 6,
   "id": "67905df2-ed26-4261-a7d0-28d2504cd529",
   "metadata": {},
   "outputs": [
    {
     "data": {
      "text/plain": [
       "('apple', 'apple', 20)"
      ]
     },
     "execution_count": 6,
     "metadata": {},
     "output_type": "execute_result"
    }
   ],
   "source": [
    "dict1={'apple':20,'banana':30,'cherry':50}\n",
    "dict2={'apple':20,'apple':30}\n",
    "dict3={20:'apple',30:'banana',50:'cherry'}\n",
    "# apply min max sum sorted reversed\n",
    "min(dict1),max(dict2),min(dict3)"
   ]
  },
  {
   "cell_type": "code",
   "execution_count": 7,
   "id": "74ae3372-6e05-4f92-a585-60ef4ddddb26",
   "metadata": {},
   "outputs": [
    {
     "ename": "NameError",
     "evalue": "name 'dict1' is not defined",
     "output_type": "error",
     "traceback": [
      "\u001b[1;31m---------------------------------------------------------------------------\u001b[0m",
      "\u001b[1;31mNameError\u001b[0m                                 Traceback (most recent call last)",
      "Cell \u001b[1;32mIn[7], line 1\u001b[0m\n\u001b[1;32m----> 1\u001b[0m \u001b[38;5;28mmin\u001b[39m(dict1),\u001b[38;5;28mmax\u001b[39m(dict2),\u001b[38;5;28mmin\u001b[39m(dict3)\n",
      "\u001b[1;31mNameError\u001b[0m: name 'dict1' is not defined"
     ]
    }
   ],
   "source": [
    "\n",
    "min(dict1),max(dict2),min(dict3)\n"
   ]
  },
  {
   "cell_type": "code",
   "execution_count": 10,
   "id": "3cc6b4a0-bd0c-4d52-b190-5e74b59c1d2a",
   "metadata": {},
   "outputs": [
    {
     "data": {
      "text/plain": [
       "100"
      ]
     },
     "execution_count": 10,
     "metadata": {},
     "output_type": "execute_result"
    }
   ],
   "source": [
    "sum(dict3)"
   ]
  },
  {
   "cell_type": "code",
   "execution_count": 12,
   "id": "04321c44-ff10-401a-83da-f3ed2d992f20",
   "metadata": {},
   "outputs": [
    {
     "data": {
      "text/plain": [
       "(['apple', 'banana', 'cherry'], ['apple'], [20, 30, 50])"
      ]
     },
     "execution_count": 12,
     "metadata": {},
     "output_type": "execute_result"
    }
   ],
   "source": [
    "sorted(dict1),sorted(dict2),sorted(dict3)"
   ]
  },
  {
   "cell_type": "code",
   "execution_count": 22,
   "id": "578f058e-59df-4533-b29e-b66c3f4896eb",
   "metadata": {},
   "outputs": [
    {
     "data": {
      "text/plain": [
       "['cherry', 'banana', 'apple']"
      ]
     },
     "execution_count": 22,
     "metadata": {},
     "output_type": "execute_result"
    }
   ],
   "source": [
    "list(reversed(dict1))"
   ]
  },
  {
   "cell_type": "code",
   "execution_count": 28,
   "id": "4bf3eb4f-808f-473a-a122-73dc2dcc2c0d",
   "metadata": {},
   "outputs": [
    {
     "data": {
      "text/plain": [
       "3"
      ]
     },
     "execution_count": 28,
     "metadata": {},
     "output_type": "execute_result"
    }
   ],
   "source": [
    "len(dict1)"
   ]
  },
  {
   "cell_type": "code",
   "execution_count": 30,
   "id": "b2117088-526d-464e-a70b-fdf6c98a6291",
   "metadata": {},
   "outputs": [
    {
     "ename": "SyntaxError",
     "evalue": "illegal target for annotation (2356551606.py, line 4)",
     "output_type": "error",
     "traceback": [
      "\u001b[1;36m  Cell \u001b[1;32mIn[30], line 4\u001b[1;36m\u001b[0m\n\u001b[1;33m    'apple':20 in dict1 #\u001b[0m\n\u001b[1;37m    ^\u001b[0m\n\u001b[1;31mSyntaxError\u001b[0m\u001b[1;31m:\u001b[0m illegal target for annotation\n"
     ]
    }
   ],
   "source": [
    "dict1={'apple':20,'banana':30,'cherry':50}\n",
    "'apple' in dict1 #1\n",
    "20 in dict1  #2\n",
    "'apple':20 in dict1 #\n"
   ]
  },
  {
   "cell_type": "code",
   "execution_count": 40,
   "id": "289b0d78-9b1d-41eb-8591-c8ab292b95f5",
   "metadata": {},
   "outputs": [
    {
     "name": "stdout",
     "output_type": "stream",
     "text": [
      "apple\n",
      "banana\n",
      "cherry\n"
     ]
    }
   ],
   "source": [
    "dict1={'apple':20,'banana':30,'cherry':50}\n",
    "for i in dict1:\n",
    "    print(i)"
   ]
  },
  {
   "cell_type": "code",
   "execution_count": 36,
   "id": "479566ac-da20-46e7-ae80-19b089a082b9",
   "metadata": {},
   "outputs": [
    {
     "data": {
      "text/plain": [
       "True"
      ]
     },
     "execution_count": 36,
     "metadata": {},
     "output_type": "execute_result"
    }
   ],
   "source": [
    "dict1={'apple':20,'banana':30,'cherry':50}\n",
    "'apple' in dict1\n",
    "'banana' in dict1\n",
    "'cherry' in dict1"
   ]
  },
  {
   "cell_type": "code",
   "execution_count": 38,
   "id": "ab6f7cfc-fd98-46f5-a837-c433e89adcad",
   "metadata": {},
   "outputs": [
    {
     "name": "stdout",
     "output_type": "stream",
     "text": [
      "apple\n",
      "banana\n",
      "cherry\n"
     ]
    }
   ],
   "source": [
    "for i in dict1:\n",
    "    print(i)"
   ]
  },
  {
   "cell_type": "code",
   "execution_count": 43,
   "id": "57f0ea24-f290-4044-97ff-033e24d83936",
   "metadata": {},
   "outputs": [
    {
     "ename": "KeyError",
     "evalue": "0",
     "output_type": "error",
     "traceback": [
      "\u001b[1;31m---------------------------------------------------------------------------\u001b[0m",
      "\u001b[1;31mKeyError\u001b[0m                                  Traceback (most recent call last)",
      "Cell \u001b[1;32mIn[43], line 2\u001b[0m\n\u001b[0;32m      1\u001b[0m dict1\u001b[38;5;241m=\u001b[39m{\u001b[38;5;124m'\u001b[39m\u001b[38;5;124mapple\u001b[39m\u001b[38;5;124m'\u001b[39m:\u001b[38;5;241m20\u001b[39m,\u001b[38;5;124m'\u001b[39m\u001b[38;5;124mbanana\u001b[39m\u001b[38;5;124m'\u001b[39m:\u001b[38;5;241m30\u001b[39m,\u001b[38;5;124m'\u001b[39m\u001b[38;5;124mcherry\u001b[39m\u001b[38;5;124m'\u001b[39m:\u001b[38;5;241m50\u001b[39m}\n\u001b[1;32m----> 2\u001b[0m dict1[\u001b[38;5;241m0\u001b[39m]\n",
      "\u001b[1;31mKeyError\u001b[0m: 0"
     ]
    }
   ],
   "source": [
    "dict1={'apple':20,'banana':30,'cherry':50}\n",
    "dict1[0]"
   ]
  },
  {
   "cell_type": "markdown",
   "id": "a92b2dde-ada5-4aea-bd18-6090e3efe3a1",
   "metadata": {},
   "source": [
    "**how to extract the values**\n",
    "\n",
    "- in dictionary we have a accept key:value pair\n",
    "- keys are very important\n",
    "- inorder to get the values we need to take keys help"
   ]
  },
  {
   "cell_type": "code",
   "execution_count": 53,
   "id": "f1f3a733-91c2-492e-b244-61d8b917d920",
   "metadata": {},
   "outputs": [
    {
     "data": {
      "text/plain": [
       "10"
      ]
     },
     "execution_count": 53,
     "metadata": {},
     "output_type": "execute_result"
    }
   ],
   "source": [
    "dict1={'apple':20,'banana':30,'cherry':10}\n",
    "dict1['apple']\n",
    "dict1['banana']\n",
    "dict1['cherry']"
   ]
  },
  {
   "cell_type": "code",
   "execution_count": 57,
   "id": "3c6647cb-78eb-4e3b-ade2-c7c335dc2038",
   "metadata": {},
   "outputs": [
    {
     "name": "stdout",
     "output_type": "stream",
     "text": [
      "apple 20\n",
      "banana 30\n",
      "cherry 10\n"
     ]
    }
   ],
   "source": [
    "for i in dict1:\n",
    "    print(i,dict1[i])"
   ]
  },
  {
   "cell_type": "code",
   "execution_count": 61,
   "id": "65090070-cade-41b8-9332-5d331fd5367a",
   "metadata": {},
   "outputs": [
    {
     "name": "stdout",
     "output_type": "stream",
     "text": [
      "rakesh\n",
      "uday\n",
      "teja\n"
     ]
    }
   ],
   "source": [
    "#names={'rakesh','uday','teja'}\n",
    "#age=[20,21,22]\n",
    "#'rakesh age is 20'\n",
    "#'udayn age is 21'\n",
    "d1={'rakesh':20,'uday':21,'teja':22}\n",
    "d1\n",
    "\n",
    "for i in d1:\n",
    "    print(i)"
   ]
  },
  {
   "cell_type": "code",
   "execution_count": 63,
   "id": "f489378d-ac41-4c1a-b708-7cf8f7666921",
   "metadata": {},
   "outputs": [
    {
     "ename": "NameError",
     "evalue": "name 'names' is not defined",
     "output_type": "error",
     "traceback": [
      "\u001b[1;31m---------------------------------------------------------------------------\u001b[0m",
      "\u001b[1;31mNameError\u001b[0m                                 Traceback (most recent call last)",
      "Cell \u001b[1;32mIn[63], line 2\u001b[0m\n\u001b[0;32m      1\u001b[0m d1\u001b[38;5;241m=\u001b[39m{\u001b[38;5;124m'\u001b[39m\u001b[38;5;124mrakesh\u001b[39m\u001b[38;5;124m'\u001b[39m:\u001b[38;5;241m20\u001b[39m,\u001b[38;5;124m'\u001b[39m\u001b[38;5;124muday\u001b[39m\u001b[38;5;124m'\u001b[39m:\u001b[38;5;241m21\u001b[39m,\u001b[38;5;124m'\u001b[39m\u001b[38;5;124mteja\u001b[39m\u001b[38;5;124m'\u001b[39m:\u001b[38;5;241m22\u001b[39m}\n\u001b[1;32m----> 2\u001b[0m \u001b[38;5;28;01mfor\u001b[39;00m key \u001b[38;5;129;01min\u001b[39;00m names:\n\u001b[0;32m      3\u001b[0m     value\u001b[38;5;241m=\u001b[39mnames[key]\n\u001b[0;32m      4\u001b[0m     \u001b[38;5;28mprint\u001b[39m(\u001b[38;5;124mf\u001b[39m\u001b[38;5;124m'\u001b[39m\u001b[38;5;124m[key] age is \u001b[39m\u001b[38;5;132;01m{\u001b[39;00mvalue\u001b[38;5;132;01m}\u001b[39;00m\u001b[38;5;124m'\u001b[39m)\n",
      "\u001b[1;31mNameError\u001b[0m: name 'names' is not defined"
     ]
    }
   ],
   "source": [
    "d1={'rakesh':20,'uday':21,'teja':22}\n",
    "for key in names:\n",
    "    value=names[key]\n",
    "    print(f'[key] age is {value}')\n"
   ]
  },
  {
   "cell_type": "code",
   "execution_count": 65,
   "id": "7f62741f-93f9-441d-9916-9360bca27ed3",
   "metadata": {},
   "outputs": [
    {
     "data": {
      "text/plain": [
       "'cherry'"
      ]
     },
     "execution_count": 65,
     "metadata": {},
     "output_type": "execute_result"
    }
   ],
   "source": [
    "d={'fruits':['apple','banana','cherry']}\n",
    "d['fruits'][2]"
   ]
  },
  {
   "cell_type": "code",
   "execution_count": 67,
   "id": "4ca60c2e-75c9-44b8-83e0-7082926a026d",
   "metadata": {},
   "outputs": [
    {
     "data": {
      "text/plain": [
       "'green'"
      ]
     },
     "execution_count": 67,
     "metadata": {},
     "output_type": "execute_result"
    }
   ],
   "source": [
    "d={'fruits':{'apple':['sweet','sour','green']}}\n",
    "d\n",
    "d['fruits']['apple'][2]\n"
   ]
  },
  {
   "cell_type": "code",
   "execution_count": 75,
   "id": "a5459474-5000-429a-b242-49b5a2ea98d2",
   "metadata": {},
   "outputs": [
    {
     "data": {
      "text/plain": [
       "50"
      ]
     },
     "execution_count": 75,
     "metadata": {},
     "output_type": "execute_result"
    }
   ],
   "source": [
    "d={'fruits':[{'cost':[50]}]}\n",
    "d\n",
    "d['fruits'][0]['cost'][0]"
   ]
  },
  {
   "cell_type": "code",
   "execution_count": 42,
   "id": "8f5786be-c99a-4156-9c64-2f04149b403d",
   "metadata": {},
   "outputs": [
    {
     "ename": "TypeError",
     "evalue": "string indices must be integers, not 'str'",
     "output_type": "error",
     "traceback": [
      "\u001b[1;31m---------------------------------------------------------------------------\u001b[0m",
      "\u001b[1;31mTypeError\u001b[0m                                 Traceback (most recent call last)",
      "Cell \u001b[1;32mIn[42], line 5\u001b[0m\n\u001b[0;32m      1\u001b[0m d\u001b[38;5;241m=\u001b[39m{\u001b[38;5;124m'\u001b[39m\u001b[38;5;124mfruites\u001b[39m\u001b[38;5;124m'\u001b[39m:[\u001b[38;5;124m'\u001b[39m\u001b[38;5;124mapple\u001b[39m\u001b[38;5;124m'\u001b[39m],\u001b[38;5;124m'\u001b[39m\u001b[38;5;124mcost\u001b[39m\u001b[38;5;124m'\u001b[39m:[{\u001b[38;5;124m'\u001b[39m\u001b[38;5;124m1kg\u001b[39m\u001b[38;5;124m'\u001b[39m:[\u001b[38;5;241m20\u001b[39m,\u001b[38;5;241m30\u001b[39m,\u001b[38;5;241m40\u001b[39m],\n\u001b[0;32m      2\u001b[0m                                 \u001b[38;5;124m'\u001b[39m\u001b[38;5;124m2kg\u001b[39m\u001b[38;5;124m'\u001b[39m:\u001b[38;5;28;01mNone\u001b[39;00m}]}\n\u001b[0;32m      3\u001b[0m d\n\u001b[1;32m----> 5\u001b[0m d[\u001b[38;5;124m'\u001b[39m\u001b[38;5;124mfruites\u001b[39m\u001b[38;5;124m'\u001b[39m][\u001b[38;5;241m0\u001b[39m][\u001b[38;5;124m'\u001b[39m\u001b[38;5;124m1kg\u001b[39m\u001b[38;5;124m'\u001b[39m],d[\u001b[38;5;124m'\u001b[39m\u001b[38;5;124mcost\u001b[39m\u001b[38;5;124m'\u001b[39m][\u001b[38;5;241m0\u001b[39m][\u001b[38;5;124m'\u001b[39m\u001b[38;5;124m2kg\u001b[39m\u001b[38;5;124m'\u001b[39m][\u001b[38;5;124m'\u001b[39m\u001b[38;5;124m2\u001b[39m\u001b[38;5;124m'\u001b[39m]\n",
      "\u001b[1;31mTypeError\u001b[0m: string indices must be integers, not 'str'"
     ]
    }
   ],
   "source": [
    "d={'fruites':['apple'],'cost':[{'1kg':[20,30,40],\n",
    "                                '2kg':None}]}\n",
    "d\n",
    "\n",
    "d['fruites'][0]['1kg'],d['cost'][0]['2kg']['2']"
   ]
  },
  {
   "cell_type": "code",
   "execution_count": 34,
   "id": "5c3e2368-0f56-4b50-9401-c1e3661922cb",
   "metadata": {},
   "outputs": [
    {
     "data": {
      "text/plain": [
       "{'shambaji'}"
      ]
     },
     "execution_count": 34,
     "metadata": {},
     "output_type": "execute_result"
    }
   ],
   "source": [
    "d={'fruites':{'orange':{'nagpur':{'MH':{'king':{'shivaji':{'shambaji'}}}}}}}\n",
    "d['fruites']['orange']['nagpur']['MH']['king']['shivaji']"
   ]
  },
  {
   "cell_type": "markdown",
   "id": "34af0727-b7fe-45fe-a02a-ea5d17372418",
   "metadata": {},
   "source": [
    "**how to create empty dictionary**\n",
    "\n",
    "- now onwards focus on creation of empty of list,strings ans dictionary\n",
    "\n",
    "- we will take empty list will use append operation\n",
    "\n",
    "- we will take empty strings will use conctenation\n",
    "\n",
    "- we will take empty dictionary will use key:value pair concept"
   ]
  },
  {
   "cell_type": "code",
   "execution_count": 45,
   "id": "f47b1be7-b8ba-4df6-bbe5-25c4ee72e3e1",
   "metadata": {},
   "outputs": [
    {
     "data": {
      "text/plain": [
       "[10, 20]"
      ]
     },
     "execution_count": 45,
     "metadata": {},
     "output_type": "execute_result"
    }
   ],
   "source": [
    "# list\n",
    "l=[]\n",
    "l.append(10)\n",
    "l.append(20)\n",
    "l"
   ]
  },
  {
   "cell_type": "code",
   "execution_count": 49,
   "id": "636eb532-2103-4ae7-8d76-b16e7f1ed901",
   "metadata": {},
   "outputs": [
    {
     "data": {
      "text/plain": [
       "'ppy'"
      ]
     },
     "execution_count": 49,
     "metadata": {},
     "output_type": "execute_result"
    }
   ],
   "source": [
    "# strings\n",
    "s=''\n",
    "s=s+'p'\n",
    "s=s+'p'\n",
    "s=s+'y'\n",
    "s"
   ]
  },
  {
   "cell_type": "code",
   "execution_count": 51,
   "id": "ceadb0cc-c40e-4ddd-abde-0448a4842b40",
   "metadata": {},
   "outputs": [
    {
     "data": {
      "text/plain": [
       "{'rakesh': 20}"
      ]
     },
     "execution_count": 51,
     "metadata": {},
     "output_type": "execute_result"
    }
   ],
   "source": [
    "# dictionary\n",
    "d={}\n",
    "d['rakesh']=20\n",
    "d"
   ]
  },
  {
   "cell_type": "code",
   "execution_count": 55,
   "id": "7be764b0-7f50-4a8b-99af-23c0bdf74d03",
   "metadata": {},
   "outputs": [
    {
     "data": {
      "text/plain": [
       "{'rakesh': 20, 'uday': 21, 'teja': 22}"
      ]
     },
     "execution_count": 55,
     "metadata": {},
     "output_type": "execute_result"
    }
   ],
   "source": [
    "d={}\n",
    "d['rakesh']=20\n",
    "d['uday']=21\n",
    "d['teja']=22\n",
    "d"
   ]
  },
  {
   "cell_type": "code",
   "execution_count": null,
   "id": "03b166a4-91eb-44e8-b222-3ccc3c9ad252",
   "metadata": {},
   "outputs": [],
   "source": [
    "d={}\n",
    "d['rakesh']=20\n",
    "d['uday']=21\n",
    "d['teja']=22\n",
    "# d[key]=value\n",
    "#h[j]=j\n"
   ]
  },
  {
   "cell_type": "markdown",
   "id": "07a2c08b-699f-451d-874d-9418d538fc2b",
   "metadata": {},
   "source": [
    "**how to convert dictionary**"
   ]
  },
  {
   "cell_type": "code",
   "execution_count": 58,
   "id": "9dc5bf01-b550-4629-90e7-6ce345fa69b9",
   "metadata": {},
   "outputs": [
    {
     "data": {
      "text/plain": [
       "{'teja': 20, 'rakesh': 21, 'uday': 22}"
      ]
     },
     "execution_count": 58,
     "metadata": {},
     "output_type": "execute_result"
    }
   ],
   "source": [
    "names=['teja','rakesh','uday']\n",
    "age=[20,21,22]\n",
    "\n",
    "dict1={}\n",
    "for i ,j in zip(names,age):\n",
    "    dict1[i]=j\n",
    "dict1"
   ]
  },
  {
   "cell_type": "markdown",
   "id": "9d27ca30-0240-443d-90c6-9a53516bca6a",
   "metadata": {},
   "source": [
    "**dictionary comprehension**"
   ]
  },
  {
   "cell_type": "markdown",
   "id": "2461ef96-ec41-4442-88eb-e63f221e0e91",
   "metadata": {},
   "source": [
    "- for list comprehension we written everything inside list\n",
    "- for dict comprehension we should write everything inside dictionary"
   ]
  },
  {
   "cell_type": "code",
   "execution_count": 64,
   "id": "dd68809e-b898-43a5-9125-742fadb606ab",
   "metadata": {},
   "outputs": [
    {
     "data": {
      "text/plain": [
       "{'teja': 20, 'rakesh': 21, 'uday': 22}"
      ]
     },
     "execution_count": 64,
     "metadata": {},
     "output_type": "execute_result"
    }
   ],
   "source": [
    "# list comprehension :[<output> <for loop>]\n",
    "# list comprehnsion:{key:value <for loop>}\n",
    "\n",
    "\n",
    "names=['teja','rakesh','uday']\n",
    "age=[20,21,22]\n",
    "{i:j for i,j in zip(names,age)}"
   ]
  },
  {
   "cell_type": "markdown",
   "id": "f81d59f9-c0bf-45db-99d7-756b2ea882bc",
   "metadata": {},
   "source": [
    "**mutable-immutable**\n",
    "\n",
    "- list are mutable\n",
    "- dictionary are also mutable\n",
    "- strings mutable\n",
    "- tuple immutable\n",
    "- in dictionary we can change the values using keys"
   ]
  },
  {
   "cell_type": "code",
   "execution_count": 67,
   "id": "c31a120d-e56e-4b97-8374-9e63d55afb0d",
   "metadata": {},
   "outputs": [
    {
     "data": {
      "text/plain": [
       "{'rakesh': 22, 'uday': 21, 'teja': 22}"
      ]
     },
     "execution_count": 67,
     "metadata": {},
     "output_type": "execute_result"
    }
   ],
   "source": [
    "d={'rakesh':20,'uday':21,'teja':22}\n",
    "d['rakesh']=22\n",
    "d"
   ]
  },
  {
   "cell_type": "markdown",
   "id": "49bf330b-088c-465f-b77e-e4109b687293",
   "metadata": {},
   "source": [
    "**mathod**"
   ]
  },
  {
   "cell_type": "code",
   "execution_count": 70,
   "id": "3a3dd265-1b8a-476b-ba00-ae85fba4f29b",
   "metadata": {},
   "outputs": [
    {
     "data": {
      "text/plain": [
       "['__class__',\n",
       " '__class_getitem__',\n",
       " '__contains__',\n",
       " '__delattr__',\n",
       " '__delitem__',\n",
       " '__dir__',\n",
       " '__doc__',\n",
       " '__eq__',\n",
       " '__format__',\n",
       " '__ge__',\n",
       " '__getattribute__',\n",
       " '__getitem__',\n",
       " '__getstate__',\n",
       " '__gt__',\n",
       " '__hash__',\n",
       " '__init__',\n",
       " '__init_subclass__',\n",
       " '__ior__',\n",
       " '__iter__',\n",
       " '__le__',\n",
       " '__len__',\n",
       " '__lt__',\n",
       " '__ne__',\n",
       " '__new__',\n",
       " '__or__',\n",
       " '__reduce__',\n",
       " '__reduce_ex__',\n",
       " '__repr__',\n",
       " '__reversed__',\n",
       " '__ror__',\n",
       " '__setattr__',\n",
       " '__setitem__',\n",
       " '__sizeof__',\n",
       " '__str__',\n",
       " '__subclasshook__',\n",
       " 'clear',\n",
       " 'copy',\n",
       " 'fromkeys',\n",
       " 'get',\n",
       " 'items',\n",
       " 'keys',\n",
       " 'pop',\n",
       " 'popitem',\n",
       " 'setdefault',\n",
       " 'update',\n",
       " 'values']"
      ]
     },
     "execution_count": 70,
     "metadata": {},
     "output_type": "execute_result"
    }
   ],
   "source": [
    "dir({})"
   ]
  },
  {
   "cell_type": "code",
   "execution_count": null,
   "id": "8e263261-7adf-42b2-8b81-abae093c2258",
   "metadata": {},
   "outputs": [],
   "source": [
    "'clear',\n",
    " 'copy',\n",
    " 'fromkeys',\n",
    " 'get',\n",
    " 'items',\n",
    " 'keys',\n",
    " 'pop',\n",
    " 'popitem',\n",
    " 'setdefault'"
   ]
  },
  {
   "cell_type": "markdown",
   "id": "34f49b6b-8ea0-4079-9e82-4022f93ac27a",
   "metadata": {},
   "source": [
    "- clear\n",
    "- copy\n",
    "- keys\n",
    "- values\n",
    "- items"
   ]
  },
  {
   "cell_type": "code",
   "execution_count": null,
   "id": "3bba8f38-8069-49c0-aba3-57569f04b488",
   "metadata": {},
   "outputs": [],
   "source": []
  },
  {
   "cell_type": "code",
   "execution_count": null,
   "id": "8cf75109-1acd-4e2d-8ba6-ade14449fcf5",
   "metadata": {},
   "outputs": [],
   "source": []
  },
  {
   "cell_type": "code",
   "execution_count": null,
   "id": "3b9538cc-7b5c-4451-b42b-66147ff73758",
   "metadata": {},
   "outputs": [],
   "source": []
  },
  {
   "cell_type": "code",
   "execution_count": null,
   "id": "774ea6a0-0e37-43c0-990b-afcc76183981",
   "metadata": {},
   "outputs": [],
   "source": []
  },
  {
   "cell_type": "code",
   "execution_count": null,
   "id": "367605b9-99d7-4a24-8ec8-fee8660f66ef",
   "metadata": {},
   "outputs": [],
   "source": []
  },
  {
   "cell_type": "markdown",
   "id": "83d16016-549a-4ff6-a0dc-f101943ab84f",
   "metadata": {},
   "source": [
    "**keys**"
   ]
  },
  {
   "cell_type": "code",
   "execution_count": 2,
   "id": "124cae0d-06fa-46ca-8d9b-9b208d1bdfb7",
   "metadata": {},
   "outputs": [
    {
     "data": {
      "text/plain": [
       "dict_keys(['rakesh', 'uday', 'teja'])"
      ]
     },
     "execution_count": 2,
     "metadata": {},
     "output_type": "execute_result"
    }
   ],
   "source": [
    "d={'rakesh':20,'uday':21,'teja':22}\n",
    "keys=d.keys()\n",
    "keys"
   ]
  },
  {
   "cell_type": "code",
   "execution_count": 4,
   "id": "68c1cfae-b311-472d-b04e-ecfe66dac7d7",
   "metadata": {},
   "outputs": [
    {
     "data": {
      "text/plain": [
       "dict_keys"
      ]
     },
     "execution_count": 4,
     "metadata": {},
     "output_type": "execute_result"
    }
   ],
   "source": [
    "type(keys)"
   ]
  },
  {
   "cell_type": "code",
   "execution_count": 6,
   "id": "28d0f634-d379-4053-8bf6-91154bfff3f8",
   "metadata": {},
   "outputs": [
    {
     "ename": "AttributeError",
     "evalue": "'dict_keys' object has no attribute 'count'",
     "output_type": "error",
     "traceback": [
      "\u001b[1;31m---------------------------------------------------------------------------\u001b[0m",
      "\u001b[1;31mAttributeError\u001b[0m                            Traceback (most recent call last)",
      "Cell \u001b[1;32mIn[6], line 1\u001b[0m\n\u001b[1;32m----> 1\u001b[0m keys\u001b[38;5;241m.\u001b[39mcount(\u001b[38;5;124m'\u001b[39m\u001b[38;5;124mrakesh\u001b[39m\u001b[38;5;124m'\u001b[39m)\n",
      "\u001b[1;31mAttributeError\u001b[0m: 'dict_keys' object has no attribute 'count'"
     ]
    }
   ],
   "source": [
    "keys.count('rakesh')"
   ]
  },
  {
   "cell_type": "markdown",
   "id": "14e0728c-3436-4516-8f48-935cba707e37",
   "metadata": {},
   "source": [
    "**convert dictionary to list**\n",
    "\n",
    "- in oreder to convert dictionary to list \n",
    "- first to we need to list separate keys and value\n",
    "- then apply list typing casting"
   ]
  },
  {
   "cell_type": "code",
   "execution_count": 9,
   "id": "772d8747-6d55-4cf4-91e7-e15bd8d265a5",
   "metadata": {},
   "outputs": [
    {
     "data": {
      "text/plain": [
       "['rakesh', 'uday', 'teja']"
      ]
     },
     "execution_count": 9,
     "metadata": {},
     "output_type": "execute_result"
    }
   ],
   "source": [
    "d={'rakesh':20,'uday':21,'teja':22}\n",
    "keys=d.keys()\n",
    "keys_list=list(keys)\n",
    "keys_list"
   ]
  },
  {
   "cell_type": "code",
   "execution_count": 13,
   "id": "792f9d3d-9b0b-4abd-81eb-ec7255b1a80d",
   "metadata": {},
   "outputs": [
    {
     "data": {
      "text/plain": [
       "[20, 21, 22]"
      ]
     },
     "execution_count": 13,
     "metadata": {},
     "output_type": "execute_result"
    }
   ],
   "source": [
    "d={'rakesh':20,'uday':21,'teja':22}\n",
    "values=d.values()\n",
    "values_list=list(values)\n",
    "values_list"
   ]
  },
  {
   "cell_type": "code",
   "execution_count": 15,
   "id": "e05484fe-ebfc-4c0a-8922-da57bcba77fa",
   "metadata": {},
   "outputs": [
    {
     "data": {
      "text/plain": [
       "[('rakesh', 20), ('uday', 21), ('teja', 22)]"
      ]
     },
     "execution_count": 15,
     "metadata": {},
     "output_type": "execute_result"
    }
   ],
   "source": [
    "d={'rakesh':20,'uday':21,'teja':22}\n",
    "items=d.items()\n",
    "items_list=list(items)\n",
    "items_list"
   ]
  },
  {
   "cell_type": "code",
   "execution_count": 17,
   "id": "950b80a8-aeb9-48d0-a49b-f791954d45bd",
   "metadata": {},
   "outputs": [
    {
     "data": {
      "text/plain": [
       "(list, dict_values)"
      ]
     },
     "execution_count": 17,
     "metadata": {},
     "output_type": "execute_result"
    }
   ],
   "source": [
    "type(keys_list),type(keys)"
   ]
  },
  {
   "cell_type": "code",
   "execution_count": 19,
   "id": "9ff2fd38-a5bb-441d-aaba-ca06c144b151",
   "metadata": {},
   "outputs": [
    {
     "data": {
      "text/plain": [
       "1"
      ]
     },
     "execution_count": 19,
     "metadata": {},
     "output_type": "execute_result"
    }
   ],
   "source": [
    "keys_list.count('rakesh')"
   ]
  },
  {
   "cell_type": "code",
   "execution_count": 21,
   "id": "05c3e6cb-71f5-4322-a8b0-25ea21152f2e",
   "metadata": {},
   "outputs": [
    {
     "data": {
      "text/plain": [
       "1"
      ]
     },
     "execution_count": 21,
     "metadata": {},
     "output_type": "execute_result"
    }
   ],
   "source": [
    "keys_list.count('uday')"
   ]
  },
  {
   "cell_type": "code",
   "execution_count": 23,
   "id": "9909e6f4-8c0c-4e87-a652-d6962c488183",
   "metadata": {},
   "outputs": [
    {
     "data": {
      "text/plain": [
       "1"
      ]
     },
     "execution_count": 23,
     "metadata": {},
     "output_type": "execute_result"
    }
   ],
   "source": [
    "keys_list.count('teja')"
   ]
  },
  {
   "cell_type": "code",
   "execution_count": null,
   "id": "0717551a-4491-49d2-877e-9f80a7fc717d",
   "metadata": {},
   "outputs": [],
   "source": [
    "list ===    string using join\n",
    "string  === lists using split\n",
    "list  ====  dict zip\n",
    "dict ===   list typecasting"
   ]
  },
  {
   "cell_type": "code",
   "execution_count": 17,
   "id": "1c05b01f-4f74-489c-b451-34f34a3082d6",
   "metadata": {},
   "outputs": [
    {
     "data": {
      "text/plain": [
       "{'fname': ['virat', 'rohit', 'ms'],\n",
       " 'sname': ['kohli', 'sharma', 'dhoni'],\n",
       " 'cname': ['rcb', 'mi', 'csk']}"
      ]
     },
     "execution_count": 17,
     "metadata": {},
     "output_type": "execute_result"
    }
   ],
   "source": [
    "#input ='virat.kohli@rcb.com;rohit.sharma@mi.com;ms.dhocni@csk.com'\n",
    "#output={'first':['virat,'rohit','ms',],\n",
    "\n",
    "#idea : first convert string to list \n",
    "#        from there extract 3 lists\n",
    "#        1) fname 2) sname 3) cname\n",
    "#        from 3 lists create dictionary\n",
    "\n",
    "input_string = 'virat.kohli@rcb.com;rohit.sharma@mi.com;ms.dhoni@csk.com'\n",
    "l1=input_string.split(';')\n",
    "fname,sname,cname=[],[],[]\n",
    "d={}\n",
    "for i in l1:\n",
    "    first_dot=i.index('.')\n",
    "    second_dot=i.index('.',first_dot+1)\n",
    "    at_the_rate=i.index('@')\n",
    "    fname.append(i[:first_dot])\n",
    "    sname.append(i[first_dot+1:at_the_rate])\n",
    "    cname.append(i[at_the_rate+1:second_dot])\n",
    "d['fname']=fname\n",
    "d['sname']=sname\n",
    "d['cname']=cname\n",
    "d"
   ]
  },
  {
   "cell_type": "code",
   "execution_count": 3,
   "id": "e1d32fed-4290-4703-ac94-499eb2f76dfc",
   "metadata": {},
   "outputs": [],
   "source": []
  },
  {
   "cell_type": "code",
   "execution_count": null,
   "id": "9494983f-046b-4d46-8f57-72631b592fff",
   "metadata": {},
   "outputs": [],
   "source": []
  },
  {
   "cell_type": "code",
   "execution_count": null,
   "id": "27c50aae-f419-428c-b3e9-a43774f2df70",
   "metadata": {},
   "outputs": [],
   "source": []
  },
  {
   "cell_type": "code",
   "execution_count": null,
   "id": "bf9fed72-0d69-42db-9c24-caec60e501b4",
   "metadata": {},
   "outputs": [],
   "source": []
  },
  {
   "cell_type": "markdown",
   "id": "f36a5ab5-1d7a-48b8-b076-801fba802830",
   "metadata": {},
   "source": [
    "- **pop** in dictionary ,similar analogy  **remove** in list\n",
    "- **pop item** in dictionary ,similar analogy **pop** in list"
   ]
  },
  {
   "cell_type": "markdown",
   "id": "66502263-33a2-47b9-8fd6-2cf0a1f64df4",
   "metadata": {},
   "source": [
    "**get**"
   ]
  },
  {
   "cell_type": "code",
   "execution_count": 25,
   "id": "66b37fc8-a57d-4164-a0ce-eec2b285dd72",
   "metadata": {},
   "outputs": [
    {
     "data": {
      "text/plain": [
       "20"
      ]
     },
     "execution_count": 25,
     "metadata": {},
     "output_type": "execute_result"
    }
   ],
   "source": [
    "d={'rakesh':20,'uday':21,'teja':22}\n",
    "d.get('rakesh')"
   ]
  },
  {
   "cell_type": "code",
   "execution_count": 29,
   "id": "68876dd3-c3da-4833-86ff-d17aaa7f2a59",
   "metadata": {},
   "outputs": [
    {
     "data": {
      "text/plain": [
       "20"
      ]
     },
     "execution_count": 29,
     "metadata": {},
     "output_type": "execute_result"
    }
   ],
   "source": [
    "d['rakesh'] # key as a an index"
   ]
  },
  {
   "cell_type": "markdown",
   "id": "12efec96-60f6-4599-88ed-71e2c3fa4a60",
   "metadata": {},
   "source": [
    "**update**"
   ]
  },
  {
   "cell_type": "markdown",
   "id": "81294c2f-8f30-42dc-b11d-bf2797e5c021",
   "metadata": {},
   "source": [
    "- upadte is similar analogy **list extend**\n",
    "- take two dictionary and apply update method "
   ]
  },
  {
   "cell_type": "code",
   "execution_count": 45,
   "id": "74cd531f-f6c2-47af-80cd-fe4b25d9f75e",
   "metadata": {},
   "outputs": [
    {
     "data": {
      "text/plain": [
       "{'ramesh': 20,\n",
       " 'suresh': 21,\n",
       " 'sathish': 22,\n",
       " 'teja': 21,\n",
       " 'rakesh': 22,\n",
       " 'uday': 20}"
      ]
     },
     "execution_count": 45,
     "metadata": {},
     "output_type": "execute_result"
    }
   ],
   "source": [
    "d1={'ramesh':20,'suresh':21,'sathish':22}\n",
    "d2={'teja':21,'rakesh':22,'uday':20}\n",
    "d1.update(d2)\n",
    "d1"
   ]
  },
  {
   "cell_type": "markdown",
   "id": "6c6ce26c-415c-4d61-8468-b2262a1b7ee9",
   "metadata": {},
   "source": [
    "**setdefault**\n",
    "\n",
    "- suppose already existed dictionary available\n",
    "- we can update the dictionary with new key :value pair"
   ]
  },
  {
   "cell_type": "code",
   "execution_count": 50,
   "id": "02a47895-20d8-4211-99e9-d042a5983c37",
   "metadata": {},
   "outputs": [
    {
     "data": {
      "text/plain": [
       "{'ramesh': 20, 'suresh': 25, 'sathish': 30, 'manish': None, 'mahesh': 35}"
      ]
     },
     "execution_count": 50,
     "metadata": {},
     "output_type": "execute_result"
    }
   ],
   "source": [
    "d1={'ramesh':20,'suresh':25,'sathish':30}\n",
    "d1.setdefault('manish')\n",
    "d1.setdefault('mahesh',35)\n",
    "d1"
   ]
  },
  {
   "cell_type": "markdown",
   "id": "32d71080-99ac-4cea-8d85-b79c24a3a792",
   "metadata": {},
   "source": [
    "- **set default** in dictionary ,similar analogy **list append**\n",
    "- always remember dictionary is a key:value pair concept\n",
    "- it never involves index operataions\n",
    "- that why we dont have any index or find methods\n",
    "- we have get methods to extract values using key"
   ]
  },
  {
   "cell_type": "markdown",
   "id": "79e13f58-ce88-49fd-9b0b-46b770ebe361",
   "metadata": {},
   "source": [
    "**from keys**\n",
    "\n",
    "- create a dictionary with different keys but same value\n",
    "- from keys will take an argument **iterable**\n",
    "- try to provide an iterator as an argument i,e, single,list,tuple"
   ]
  },
  {
   "cell_type": "code",
   "execution_count": 58,
   "id": "1eb6e6bc-478b-4405-96cb-8f271ba3e20f",
   "metadata": {},
   "outputs": [
    {
     "data": {
      "text/plain": [
       "{'teja': 'nareshit', 'rakesh': 'nareshit', 'uday': 'nareshit'}"
      ]
     },
     "execution_count": 58,
     "metadata": {},
     "output_type": "execute_result"
    }
   ],
   "source": [
    "d={}\n",
    "names=['teja','rakesh','uday']\n",
    "d.fromkeys(names,'nareshit')"
   ]
  },
  {
   "cell_type": "code",
   "execution_count": 60,
   "id": "2dc5e194-f009-4231-8042-90f61fecc250",
   "metadata": {},
   "outputs": [
    {
     "data": {
      "text/plain": [
       "{'p': None, 'y': None, 't': None, 'h': None, 'o': None, 'n': None}"
      ]
     },
     "execution_count": 60,
     "metadata": {},
     "output_type": "execute_result"
    }
   ],
   "source": [
    "d={}\n",
    "d.fromkeys('python')"
   ]
  },
  {
   "cell_type": "markdown",
   "id": "f7a72f8d-adc7-4fd8-88de-66e12c3336b6",
   "metadata": {},
   "source": [
    "- **pop** in dictionary, similar analogy **remove**  in list\n",
    "- **pop item** in dictionary, similar analogy **pop** in list\n",
    "- **update in dictionary**, similar analogy **list extend**\n",
    "- **setdefault** in dictionary, similar analogy **list append**\n",
    "- **get** in dictionary, similar analogy **list index**\n",
    "- list has count , string has count and tuple also has count\n",
    "     - but dictionarys does not have **count**\n",
    "     - becuase dictionary does not allow **duplicates**\n",
    "- strings has find but list does not have"
   ]
  },
  {
   "cell_type": "markdown",
   "id": "8efccbef-322d-4a18-88c4-8a470ac21706",
   "metadata": {},
   "source": [
    "**lambda function**"
   ]
  },
  {
   "cell_type": "markdown",
   "id": "40707a1f-7d08-4ab8-afdc-2d7a85f324b8",
   "metadata": {},
   "source": [
    "- A lambda function is a small anonymous function.\n",
    "\n",
    "- A lambda function can take any number of arguments, but can only have one expression."
   ]
  },
  {
   "cell_type": "code",
   "execution_count": 2,
   "id": "2a282861-ee25-4429-a1ea-3c68f80572d0",
   "metadata": {},
   "outputs": [
    {
     "name": "stdout",
     "output_type": "stream",
     "text": [
      "30\n"
     ]
    }
   ],
   "source": [
    "x = lambda a: a + 20\n",
    "print(x(10))\n"
   ]
  },
  {
   "cell_type": "code",
   "execution_count": 4,
   "id": "87f2d773-e3cf-4cd7-a327-042e3ab4dd44",
   "metadata": {},
   "outputs": [
    {
     "name": "stdout",
     "output_type": "stream",
     "text": [
      "2\n"
     ]
    }
   ],
   "source": [
    "x = lambda a, b : a - b\n",
    "print(x(5, 3))"
   ]
  },
  {
   "cell_type": "code",
   "execution_count": 6,
   "id": "79059461-0ba1-4e85-b3a9-d4a15e7fee92",
   "metadata": {},
   "outputs": [
    {
     "ename": "SyntaxError",
     "evalue": "invalid syntax (1120746838.py, line 1)",
     "output_type": "error",
     "traceback": [
      "\u001b[1;36m  Cell \u001b[1;32mIn[6], line 1\u001b[1;36m\u001b[0m\n\u001b[1;33m    Lambda functions can take multiple arguments.\u001b[0m\n\u001b[1;37m           ^\u001b[0m\n\u001b[1;31mSyntaxError\u001b[0m\u001b[1;31m:\u001b[0m invalid syntax\n"
     ]
    }
   ],
   "source": [
    "Lambda functions can take multiple arguments # true"
   ]
  },
  {
   "cell_type": "code",
   "execution_count": 8,
   "id": "96910d02-45a9-4314-aebb-048a163fac45",
   "metadata": {},
   "outputs": [
    {
     "name": "stdout",
     "output_type": "stream",
     "text": [
      "48\n",
      "60\n"
     ]
    }
   ],
   "source": [
    "def myfunc(n):\n",
    "  return lambda a : a * n\n",
    "\n",
    "mydoubler = myfunc(4)\n",
    "mytripler = myfunc(5)\n",
    "\n",
    "print(mydoubler(12)) \n",
    "print(mytripler(12))"
   ]
  },
  {
   "cell_type": "code",
   "execution_count": null,
   "id": "bae2ee0f-6366-43c6-8578-8f23239b5d06",
   "metadata": {},
   "outputs": [],
   "source": []
  }
 ],
 "metadata": {
  "kernelspec": {
   "display_name": "Python [conda env:base] *",
   "language": "python",
   "name": "conda-base-py"
  },
  "language_info": {
   "codemirror_mode": {
    "name": "ipython",
    "version": 3
   },
   "file_extension": ".py",
   "mimetype": "text/x-python",
   "name": "python",
   "nbconvert_exporter": "python",
   "pygments_lexer": "ipython3",
   "version": "3.12.7"
  }
 },
 "nbformat": 4,
 "nbformat_minor": 5
}
